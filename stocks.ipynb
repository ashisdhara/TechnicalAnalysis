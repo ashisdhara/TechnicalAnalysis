{
 "cells": [
  {
   "cell_type": "code",
   "execution_count": 1,
   "id": "fa01a277",
   "metadata": {},
   "outputs": [],
   "source": [
    "from NSEDownload import stocks"
   ]
  },
  {
   "cell_type": "code",
   "execution_count": 32,
   "id": "2992e163",
   "metadata": {},
   "outputs": [],
   "source": [
    "df = stocks.get_data(symbol=\"CONCOR\", start_date=\"01-01-2015\", end_date=\"29-03-2023\")"
   ]
  },
  {
   "cell_type": "code",
   "execution_count": 4,
   "id": "e28e6411",
   "metadata": {},
   "outputs": [],
   "source": [
    "from datetime import date\n",
    "from pyxirr import xirr\n",
    "import seaborn as sns\n",
    "import matplotlib.pyplot as plt"
   ]
  },
  {
   "cell_type": "code",
   "execution_count": 33,
   "id": "fd8ff145",
   "metadata": {},
   "outputs": [],
   "source": [
    "df = df.reset_index()\n",
    "df['Close'] = df['Close Price']\n",
    "\n",
    "df['prevClose'] = df.Close.shift(1)\n",
    "df['moving_avg_30'] = df.prevClose.rolling(window=30).mean()"
   ]
  },
  {
   "cell_type": "code",
   "execution_count": 34,
   "id": "ff51cd68",
   "metadata": {},
   "outputs": [],
   "source": [
    "df['qty_traded'] = df.apply(lambda row: 1 if (row.moving_avg_30 - row.prevClose)/row.prevClose > 0.06 else 0 , axis=1)\n",
    "df['qty_traded'] =df.apply(lambda row: -1 if (row.prevClose -row.moving_avg_30)/row.prevClose > 0.06 else row.qty_traded , axis=1)"
   ]
  },
  {
   "cell_type": "code",
   "execution_count": 35,
   "id": "56c64afd",
   "metadata": {},
   "outputs": [],
   "source": [
    "df['trading_price'] = df.qty_traded * -1.0 * df.Close\n",
    "df['total_qty'] = df['qty_traded'].cumsum()\n",
    "df['inflow'] = df['trading_price']\n",
    "df['mktval'] = df['total_qty'] * df['Close']\n",
    "df.at[2036, 'inflow'] = df.at[2035, 'mktval']"
   ]
  },
  {
   "cell_type": "code",
   "execution_count": 36,
   "id": "f1496c56",
   "metadata": {},
   "outputs": [
    {
     "data": {
      "text/plain": [
       "0.017278877087342714"
      ]
     },
     "execution_count": 36,
     "metadata": {},
     "output_type": "execute_result"
    }
   ],
   "source": [
    "xirr(df.Date, df.inflow)"
   ]
  },
  {
   "cell_type": "code",
   "execution_count": 14,
   "id": "978d93e4",
   "metadata": {},
   "outputs": [],
   "source": [
    "df['qty_traded'] = df.apply(lambda row: 1 if (row.moving_avg_30 - row.prevClose)/row.prevClose > 0.06 else 0 , axis=1)\n",
    "df['trading_price'] = df.qty_traded * -1.0 * df.Close\n",
    "df['total_qty'] = df['qty_traded'].cumsum()\n",
    "df['inflow'] = df['trading_price']\n",
    "df['mktval'] = df['total_qty'] * df['Close']\n",
    "df.at[2036, 'inflow'] = df.at[2035, 'mktval']"
   ]
  },
  {
   "cell_type": "code",
   "execution_count": 16,
   "id": "533061a5",
   "metadata": {},
   "outputs": [],
   "source": [
    "df = stocks.get_data(symbol=\"NMDC\", start_date=\"01-01-2015\", end_date=\"29-03-2023\")"
   ]
  },
  {
   "cell_type": "code",
   "execution_count": 17,
   "id": "58557793",
   "metadata": {},
   "outputs": [],
   "source": [
    "df = df.reset_index()\n",
    "df['Close'] = df['Close Price']\n",
    "\n",
    "df['prevClose'] = df.Close.shift(1)\n",
    "df['moving_avg_30'] = df.prevClose.rolling(window=30).mean()\n",
    "df['qty_traded'] = df.apply(lambda row: 1 if (row.moving_avg_30 - row.prevClose)/row.prevClose > 0.06 else 0 , axis=1)\n",
    "df['qty_traded'] =df.apply(lambda row: -1 if (row.prevClose -row.moving_avg_30)/row.prevClose > 0.06 else row.qty_traded , axis=1)\n",
    "df['trading_price'] = df.qty_traded * -1.0 * df.Close\n",
    "df['total_qty'] = df['qty_traded'].cumsum()\n",
    "df['inflow'] = df['trading_price']\n",
    "df['mktval'] = df['total_qty'] * df['Close']\n",
    "df.at[2036, 'inflow'] = df.at[2035, 'mktval']\n"
   ]
  },
  {
   "cell_type": "code",
   "execution_count": 18,
   "id": "838e2161",
   "metadata": {},
   "outputs": [
    {
     "data": {
      "text/plain": [
       "0.2161608232272292"
      ]
     },
     "execution_count": 18,
     "metadata": {},
     "output_type": "execute_result"
    }
   ],
   "source": [
    "xirr(df.Date, df.inflow)"
   ]
  },
  {
   "cell_type": "code",
   "execution_count": 19,
   "id": "f9b0088b",
   "metadata": {},
   "outputs": [],
   "source": [
    "df = stocks.get_data(symbol=\"SAIL\", start_date=\"01-01-2015\", end_date=\"29-03-2023\")"
   ]
  },
  {
   "cell_type": "code",
   "execution_count": 20,
   "id": "b01d6fdc",
   "metadata": {},
   "outputs": [],
   "source": [
    "df = df.reset_index()\n",
    "df['Close'] = df['Close Price']\n",
    "\n",
    "df['prevClose'] = df.Close.shift(1)\n",
    "df['moving_avg_30'] = df.prevClose.rolling(window=30).mean()\n",
    "df['qty_traded'] = df.apply(lambda row: 1 if (row.moving_avg_30 - row.prevClose)/row.prevClose > 0.06 else 0 , axis=1)\n",
    "df['qty_traded'] =df.apply(lambda row: -1 if (row.prevClose -row.moving_avg_30)/row.prevClose > 0.06 else row.qty_traded , axis=1)\n",
    "df['trading_price'] = df.qty_traded * -1.0 * df.Close\n",
    "df['total_qty'] = df['qty_traded'].cumsum()\n",
    "df['inflow'] = df['trading_price']\n",
    "df['mktval'] = df['total_qty'] * df['Close']\n",
    "df.at[2036, 'inflow'] = df.at[2035, 'mktval']\n"
   ]
  },
  {
   "cell_type": "code",
   "execution_count": 21,
   "id": "952bd34d",
   "metadata": {},
   "outputs": [
    {
     "data": {
      "text/plain": [
       "0.17508458331487575"
      ]
     },
     "execution_count": 21,
     "metadata": {},
     "output_type": "execute_result"
    }
   ],
   "source": [
    "xirr(df.Date, df.inflow)"
   ]
  },
  {
   "cell_type": "code",
   "execution_count": 22,
   "id": "75dbbf97",
   "metadata": {},
   "outputs": [],
   "source": [
    "df = stocks.get_data(symbol=\"ONGC\", start_date=\"01-01-2015\", end_date=\"29-03-2023\")"
   ]
  },
  {
   "cell_type": "code",
   "execution_count": 23,
   "id": "7ee4b9b0",
   "metadata": {},
   "outputs": [],
   "source": [
    "df = df.reset_index()\n",
    "df['Close'] = df['Close Price']\n",
    "\n",
    "df['prevClose'] = df.Close.shift(1)\n",
    "df['moving_avg_30'] = df.prevClose.rolling(window=30).mean()\n",
    "df['qty_traded'] = df.apply(lambda row: 1 if (row.moving_avg_30 - row.prevClose)/row.prevClose > 0.06 else 0 , axis=1)\n",
    "df['qty_traded'] =df.apply(lambda row: -1 if (row.prevClose -row.moving_avg_30)/row.prevClose > 0.06 else row.qty_traded , axis=1)\n",
    "df['trading_price'] = df.qty_traded * -1.0 * df.Close\n",
    "df['total_qty'] = df['qty_traded'].cumsum()\n",
    "df['inflow'] = df['trading_price']\n",
    "df['mktval'] = df['total_qty'] * df['Close']\n",
    "df.at[2036, 'inflow'] = df.at[2035, 'mktval']\n"
   ]
  },
  {
   "cell_type": "code",
   "execution_count": 24,
   "id": "fed43814",
   "metadata": {},
   "outputs": [
    {
     "data": {
      "text/plain": [
       "0.0025358896447266036"
      ]
     },
     "execution_count": 24,
     "metadata": {},
     "output_type": "execute_result"
    }
   ],
   "source": [
    "xirr(df.Date, df.inflow)"
   ]
  },
  {
   "cell_type": "code",
   "execution_count": 25,
   "id": "39d8f9ff",
   "metadata": {},
   "outputs": [
    {
     "data": {
      "text/html": [
       "<div>\n",
       "<style scoped>\n",
       "    .dataframe tbody tr th:only-of-type {\n",
       "        vertical-align: middle;\n",
       "    }\n",
       "\n",
       "    .dataframe tbody tr th {\n",
       "        vertical-align: top;\n",
       "    }\n",
       "\n",
       "    .dataframe thead th {\n",
       "        text-align: right;\n",
       "    }\n",
       "</style>\n",
       "<table border=\"1\" class=\"dataframe\">\n",
       "  <thead>\n",
       "    <tr style=\"text-align: right;\">\n",
       "      <th></th>\n",
       "      <th>Date</th>\n",
       "      <th>Symbol</th>\n",
       "      <th>Series</th>\n",
       "      <th>Prev Close</th>\n",
       "      <th>Open Price</th>\n",
       "      <th>High Price</th>\n",
       "      <th>Low Price</th>\n",
       "      <th>Last Price</th>\n",
       "      <th>Close Price</th>\n",
       "      <th>Average Price</th>\n",
       "      <th>...</th>\n",
       "      <th>% Dly Qt to Traded Qty</th>\n",
       "      <th></th>\n",
       "      <th>Close</th>\n",
       "      <th>prevClose</th>\n",
       "      <th>moving_avg_30</th>\n",
       "      <th>qty_traded</th>\n",
       "      <th>trading_price</th>\n",
       "      <th>total_qty</th>\n",
       "      <th>inflow</th>\n",
       "      <th>mktval</th>\n",
       "    </tr>\n",
       "  </thead>\n",
       "  <tbody>\n",
       "    <tr>\n",
       "      <th>36</th>\n",
       "      <td>2015-02-24</td>\n",
       "      <td>ONGC</td>\n",
       "      <td>EQ</td>\n",
       "      <td>324.85</td>\n",
       "      <td>326.10</td>\n",
       "      <td>326.80</td>\n",
       "      <td>312.65</td>\n",
       "      <td>314.90</td>\n",
       "      <td>315.05</td>\n",
       "      <td>316.18</td>\n",
       "      <td>...</td>\n",
       "      <td>62.85</td>\n",
       "      <td></td>\n",
       "      <td>315.05</td>\n",
       "      <td>324.85</td>\n",
       "      <td>347.291667</td>\n",
       "      <td>1</td>\n",
       "      <td>-315.05</td>\n",
       "      <td>1</td>\n",
       "      <td>-315.05</td>\n",
       "      <td>315.05</td>\n",
       "    </tr>\n",
       "    <tr>\n",
       "      <th>37</th>\n",
       "      <td>2015-02-25</td>\n",
       "      <td>ONGC</td>\n",
       "      <td>EQ</td>\n",
       "      <td>315.05</td>\n",
       "      <td>317.80</td>\n",
       "      <td>323.35</td>\n",
       "      <td>315.15</td>\n",
       "      <td>317.90</td>\n",
       "      <td>317.15</td>\n",
       "      <td>319.38</td>\n",
       "      <td>...</td>\n",
       "      <td>56.64</td>\n",
       "      <td></td>\n",
       "      <td>317.15</td>\n",
       "      <td>315.05</td>\n",
       "      <td>346.093333</td>\n",
       "      <td>1</td>\n",
       "      <td>-317.15</td>\n",
       "      <td>2</td>\n",
       "      <td>-317.15</td>\n",
       "      <td>634.30</td>\n",
       "    </tr>\n",
       "    <tr>\n",
       "      <th>38</th>\n",
       "      <td>2015-02-26</td>\n",
       "      <td>ONGC</td>\n",
       "      <td>EQ</td>\n",
       "      <td>317.15</td>\n",
       "      <td>320.00</td>\n",
       "      <td>322.20</td>\n",
       "      <td>315.55</td>\n",
       "      <td>321.00</td>\n",
       "      <td>319.35</td>\n",
       "      <td>318.48</td>\n",
       "      <td>...</td>\n",
       "      <td>62.27</td>\n",
       "      <td></td>\n",
       "      <td>319.35</td>\n",
       "      <td>317.15</td>\n",
       "      <td>345.075000</td>\n",
       "      <td>1</td>\n",
       "      <td>-319.35</td>\n",
       "      <td>3</td>\n",
       "      <td>-319.35</td>\n",
       "      <td>958.05</td>\n",
       "    </tr>\n",
       "    <tr>\n",
       "      <th>39</th>\n",
       "      <td>2015-02-27</td>\n",
       "      <td>ONGC</td>\n",
       "      <td>EQ</td>\n",
       "      <td>319.35</td>\n",
       "      <td>319.00</td>\n",
       "      <td>326.00</td>\n",
       "      <td>319.00</td>\n",
       "      <td>324.30</td>\n",
       "      <td>324.75</td>\n",
       "      <td>323.75</td>\n",
       "      <td>...</td>\n",
       "      <td>58.72</td>\n",
       "      <td></td>\n",
       "      <td>324.75</td>\n",
       "      <td>319.35</td>\n",
       "      <td>344.388333</td>\n",
       "      <td>1</td>\n",
       "      <td>-324.75</td>\n",
       "      <td>4</td>\n",
       "      <td>-324.75</td>\n",
       "      <td>1299.00</td>\n",
       "    </tr>\n",
       "    <tr>\n",
       "      <th>42</th>\n",
       "      <td>2015-03-03</td>\n",
       "      <td>ONGC</td>\n",
       "      <td>EQ</td>\n",
       "      <td>320.05</td>\n",
       "      <td>320.05</td>\n",
       "      <td>326.00</td>\n",
       "      <td>317.00</td>\n",
       "      <td>321.35</td>\n",
       "      <td>320.50</td>\n",
       "      <td>321.45</td>\n",
       "      <td>...</td>\n",
       "      <td>65.36</td>\n",
       "      <td></td>\n",
       "      <td>320.50</td>\n",
       "      <td>320.05</td>\n",
       "      <td>342.125000</td>\n",
       "      <td>1</td>\n",
       "      <td>-320.50</td>\n",
       "      <td>5</td>\n",
       "      <td>-320.50</td>\n",
       "      <td>1602.50</td>\n",
       "    </tr>\n",
       "    <tr>\n",
       "      <th>...</th>\n",
       "      <td>...</td>\n",
       "      <td>...</td>\n",
       "      <td>...</td>\n",
       "      <td>...</td>\n",
       "      <td>...</td>\n",
       "      <td>...</td>\n",
       "      <td>...</td>\n",
       "      <td>...</td>\n",
       "      <td>...</td>\n",
       "      <td>...</td>\n",
       "      <td>...</td>\n",
       "      <td>...</td>\n",
       "      <td>...</td>\n",
       "      <td>...</td>\n",
       "      <td>...</td>\n",
       "      <td>...</td>\n",
       "      <td>...</td>\n",
       "      <td>...</td>\n",
       "      <td>...</td>\n",
       "      <td>...</td>\n",
       "      <td>...</td>\n",
       "    </tr>\n",
       "    <tr>\n",
       "      <th>1917</th>\n",
       "      <td>2022-09-28</td>\n",
       "      <td>ONGC</td>\n",
       "      <td>EQ</td>\n",
       "      <td>124.45</td>\n",
       "      <td>123.95</td>\n",
       "      <td>123.95</td>\n",
       "      <td>121.50</td>\n",
       "      <td>122.65</td>\n",
       "      <td>122.55</td>\n",
       "      <td>122.23</td>\n",
       "      <td>...</td>\n",
       "      <td>47.80</td>\n",
       "      <td></td>\n",
       "      <td>122.55</td>\n",
       "      <td>124.45</td>\n",
       "      <td>133.171667</td>\n",
       "      <td>1</td>\n",
       "      <td>-122.55</td>\n",
       "      <td>120</td>\n",
       "      <td>-122.55</td>\n",
       "      <td>14706.00</td>\n",
       "    </tr>\n",
       "    <tr>\n",
       "      <th>1918</th>\n",
       "      <td>2022-09-29</td>\n",
       "      <td>ONGC</td>\n",
       "      <td>EQ</td>\n",
       "      <td>122.55</td>\n",
       "      <td>123.50</td>\n",
       "      <td>128.20</td>\n",
       "      <td>123.50</td>\n",
       "      <td>126.80</td>\n",
       "      <td>126.65</td>\n",
       "      <td>126.17</td>\n",
       "      <td>...</td>\n",
       "      <td>40.05</td>\n",
       "      <td></td>\n",
       "      <td>126.65</td>\n",
       "      <td>122.55</td>\n",
       "      <td>132.591667</td>\n",
       "      <td>1</td>\n",
       "      <td>-126.65</td>\n",
       "      <td>121</td>\n",
       "      <td>-126.65</td>\n",
       "      <td>15324.65</td>\n",
       "    </tr>\n",
       "    <tr>\n",
       "      <th>1949</th>\n",
       "      <td>2022-11-16</td>\n",
       "      <td>ONGC</td>\n",
       "      <td>EQ</td>\n",
       "      <td>142.35</td>\n",
       "      <td>142.80</td>\n",
       "      <td>143.30</td>\n",
       "      <td>141.20</td>\n",
       "      <td>142.95</td>\n",
       "      <td>142.90</td>\n",
       "      <td>142.47</td>\n",
       "      <td>...</td>\n",
       "      <td>46.48</td>\n",
       "      <td></td>\n",
       "      <td>142.90</td>\n",
       "      <td>142.35</td>\n",
       "      <td>133.548333</td>\n",
       "      <td>-1</td>\n",
       "      <td>142.90</td>\n",
       "      <td>120</td>\n",
       "      <td>142.90</td>\n",
       "      <td>17148.00</td>\n",
       "    </tr>\n",
       "    <tr>\n",
       "      <th>1950</th>\n",
       "      <td>2022-11-17</td>\n",
       "      <td>ONGC</td>\n",
       "      <td>EQ</td>\n",
       "      <td>142.90</td>\n",
       "      <td>141.95</td>\n",
       "      <td>143.80</td>\n",
       "      <td>141.70</td>\n",
       "      <td>143.30</td>\n",
       "      <td>143.20</td>\n",
       "      <td>143.19</td>\n",
       "      <td>...</td>\n",
       "      <td>50.16</td>\n",
       "      <td></td>\n",
       "      <td>143.20</td>\n",
       "      <td>142.90</td>\n",
       "      <td>134.085000</td>\n",
       "      <td>-1</td>\n",
       "      <td>143.20</td>\n",
       "      <td>119</td>\n",
       "      <td>143.20</td>\n",
       "      <td>17040.80</td>\n",
       "    </tr>\n",
       "    <tr>\n",
       "      <th>1951</th>\n",
       "      <td>2022-11-18</td>\n",
       "      <td>ONGC</td>\n",
       "      <td>EQ</td>\n",
       "      <td>143.20</td>\n",
       "      <td>143.15</td>\n",
       "      <td>143.25</td>\n",
       "      <td>140.20</td>\n",
       "      <td>142.05</td>\n",
       "      <td>141.75</td>\n",
       "      <td>141.52</td>\n",
       "      <td>...</td>\n",
       "      <td>59.70</td>\n",
       "      <td></td>\n",
       "      <td>141.75</td>\n",
       "      <td>143.20</td>\n",
       "      <td>134.445000</td>\n",
       "      <td>-1</td>\n",
       "      <td>141.75</td>\n",
       "      <td>118</td>\n",
       "      <td>141.75</td>\n",
       "      <td>16726.50</td>\n",
       "    </tr>\n",
       "  </tbody>\n",
       "</table>\n",
       "<p>588 rows × 24 columns</p>\n",
       "</div>"
      ],
      "text/plain": [
       "           Date Symbol Series  Prev Close  Open Price  High Price  Low Price  \\\n",
       "36   2015-02-24   ONGC     EQ      324.85      326.10      326.80     312.65   \n",
       "37   2015-02-25   ONGC     EQ      315.05      317.80      323.35     315.15   \n",
       "38   2015-02-26   ONGC     EQ      317.15      320.00      322.20     315.55   \n",
       "39   2015-02-27   ONGC     EQ      319.35      319.00      326.00     319.00   \n",
       "42   2015-03-03   ONGC     EQ      320.05      320.05      326.00     317.00   \n",
       "...         ...    ...    ...         ...         ...         ...        ...   \n",
       "1917 2022-09-28   ONGC     EQ      124.45      123.95      123.95     121.50   \n",
       "1918 2022-09-29   ONGC     EQ      122.55      123.50      128.20     123.50   \n",
       "1949 2022-11-16   ONGC     EQ      142.35      142.80      143.30     141.20   \n",
       "1950 2022-11-17   ONGC     EQ      142.90      141.95      143.80     141.70   \n",
       "1951 2022-11-18   ONGC     EQ      143.20      143.15      143.25     140.20   \n",
       "\n",
       "      Last Price  Close Price  Average Price  ...  % Dly Qt to Traded Qty     \\\n",
       "36        314.90       315.05         316.18  ...                   62.85      \n",
       "37        317.90       317.15         319.38  ...                   56.64      \n",
       "38        321.00       319.35         318.48  ...                   62.27      \n",
       "39        324.30       324.75         323.75  ...                   58.72      \n",
       "42        321.35       320.50         321.45  ...                   65.36      \n",
       "...          ...          ...            ...  ...                     ... ..   \n",
       "1917      122.65       122.55         122.23  ...                   47.80      \n",
       "1918      126.80       126.65         126.17  ...                   40.05      \n",
       "1949      142.95       142.90         142.47  ...                   46.48      \n",
       "1950      143.30       143.20         143.19  ...                   50.16      \n",
       "1951      142.05       141.75         141.52  ...                   59.70      \n",
       "\n",
       "       Close  prevClose  moving_avg_30 qty_traded  trading_price  total_qty  \\\n",
       "36    315.05     324.85     347.291667          1        -315.05          1   \n",
       "37    317.15     315.05     346.093333          1        -317.15          2   \n",
       "38    319.35     317.15     345.075000          1        -319.35          3   \n",
       "39    324.75     319.35     344.388333          1        -324.75          4   \n",
       "42    320.50     320.05     342.125000          1        -320.50          5   \n",
       "...      ...        ...            ...        ...            ...        ...   \n",
       "1917  122.55     124.45     133.171667          1        -122.55        120   \n",
       "1918  126.65     122.55     132.591667          1        -126.65        121   \n",
       "1949  142.90     142.35     133.548333         -1         142.90        120   \n",
       "1950  143.20     142.90     134.085000         -1         143.20        119   \n",
       "1951  141.75     143.20     134.445000         -1         141.75        118   \n",
       "\n",
       "      inflow    mktval  \n",
       "36   -315.05    315.05  \n",
       "37   -317.15    634.30  \n",
       "38   -319.35    958.05  \n",
       "39   -324.75   1299.00  \n",
       "42   -320.50   1602.50  \n",
       "...      ...       ...  \n",
       "1917 -122.55  14706.00  \n",
       "1918 -126.65  15324.65  \n",
       "1949  142.90  17148.00  \n",
       "1950  143.20  17040.80  \n",
       "1951  141.75  16726.50  \n",
       "\n",
       "[588 rows x 24 columns]"
      ]
     },
     "execution_count": 25,
     "metadata": {},
     "output_type": "execute_result"
    }
   ],
   "source": [
    "df[df.qty_traded!=0]"
   ]
  },
  {
   "cell_type": "code",
   "execution_count": 26,
   "id": "2baeb84d",
   "metadata": {},
   "outputs": [],
   "source": [
    "df = stocks.get_data(symbol=\"GAIL\", start_date=\"01-01-2015\", end_date=\"29-03-2023\")"
   ]
  },
  {
   "cell_type": "code",
   "execution_count": 27,
   "id": "d6392c4e",
   "metadata": {},
   "outputs": [],
   "source": [
    "df = df.reset_index()\n",
    "df['Close'] = df['Close Price']\n",
    "\n",
    "df['prevClose'] = df.Close.shift(1)\n",
    "df['moving_avg_30'] = df.prevClose.rolling(window=30).mean()\n",
    "df['qty_traded'] = df.apply(lambda row: 1 if (row.moving_avg_30 - row.prevClose)/row.prevClose > 0.06 else 0 , axis=1)\n",
    "df['qty_traded'] =df.apply(lambda row: -1 if (row.prevClose -row.moving_avg_30)/row.prevClose > 0.06 else row.qty_traded , axis=1)\n",
    "df['trading_price'] = df.qty_traded * -1.0 * df.Close\n",
    "df['total_qty'] = df['qty_traded'].cumsum()\n",
    "df['inflow'] = df['trading_price']\n",
    "df['mktval'] = df['total_qty'] * df['Close']\n",
    "df.at[2036, 'inflow'] = df.at[2035, 'mktval']\n"
   ]
  },
  {
   "cell_type": "code",
   "execution_count": 28,
   "id": "c5976b04",
   "metadata": {},
   "outputs": [
    {
     "data": {
      "text/plain": [
       "0.011739059191739499"
      ]
     },
     "execution_count": 28,
     "metadata": {},
     "output_type": "execute_result"
    }
   ],
   "source": [
    "xirr(df.Date, df.inflow)"
   ]
  },
  {
   "cell_type": "code",
   "execution_count": 29,
   "id": "da3196d8",
   "metadata": {},
   "outputs": [],
   "source": [
    "df = stocks.get_data(symbol=\"UNIONBANK\", start_date=\"01-01-2015\", end_date=\"29-03-2023\")"
   ]
  },
  {
   "cell_type": "code",
   "execution_count": 30,
   "id": "731022d9",
   "metadata": {},
   "outputs": [],
   "source": [
    "df = df.reset_index()\n",
    "df['Close'] = df['Close Price']\n",
    "\n",
    "df['prevClose'] = df.Close.shift(1)\n",
    "df['moving_avg_30'] = df.prevClose.rolling(window=30).mean()\n",
    "df['qty_traded'] = df.apply(lambda row: 1 if (row.moving_avg_30 - row.prevClose)/row.prevClose > 0.06 else 0 , axis=1)\n",
    "df['qty_traded'] =df.apply(lambda row: -1 if (row.prevClose -row.moving_avg_30)/row.prevClose > 0.06 else row.qty_traded , axis=1)\n",
    "df['trading_price'] = df.qty_traded * -1.0 * df.Close\n",
    "df['total_qty'] = df['qty_traded'].cumsum()\n",
    "df['inflow'] = df['trading_price']\n",
    "df['mktval'] = df['total_qty'] * df['Close']\n",
    "df.at[2036, 'inflow'] = df.at[2035, 'mktval']\n"
   ]
  },
  {
   "cell_type": "code",
   "execution_count": 31,
   "id": "79d3ec88",
   "metadata": {},
   "outputs": [
    {
     "data": {
      "text/plain": [
       "-0.03180914870929267"
      ]
     },
     "execution_count": 31,
     "metadata": {},
     "output_type": "execute_result"
    }
   ],
   "source": [
    "xirr(df.Date, df.inflow)"
   ]
  },
  {
   "cell_type": "code",
   "execution_count": 40,
   "id": "91b3cd06",
   "metadata": {},
   "outputs": [
    {
     "data": {
      "text/plain": [
       "0.1990349425028609"
      ]
     },
     "execution_count": 40,
     "metadata": {},
     "output_type": "execute_result"
    }
   ],
   "source": [
    "df = stocks.get_data(symbol=\"PIDILITIND\", start_date=\"01-01-2015\", end_date=\"29-03-2023\")\n",
    "df = df.reset_index()\n",
    "df['Close'] = df['Close Price']\n",
    "df['prevClose'] = df.Close.shift(1)\n",
    "df['moving_avg_30'] = df.prevClose.rolling(window=30).mean()\n",
    "df['qty_traded'] = df.apply(lambda row: 1 if (row.moving_avg_30 - row.prevClose)/row.prevClose > 0.06 else 0 , axis=1)\n",
    "#df['qty_traded'] =df.apply(lambda row: -1 if (row.prevClose -row.moving_avg_30)/row.prevClose > 0.06 else row.qty_traded , axis=1)\n",
    "df['trading_price'] = df.qty_traded * -1.0 * df.Close\n",
    "df['total_qty'] = df['qty_traded'].cumsum()\n",
    "df['inflow'] = df['trading_price']\n",
    "df['mktval'] = df['total_qty'] * df['Close']\n",
    "df.at[len(df)-1, 'inflow'] = df.at[len(df)-2, 'mktval']\n",
    "xirr(df.Date, df.inflow)"
   ]
  },
  {
   "cell_type": "code",
   "execution_count": 44,
   "id": "6e4d0916",
   "metadata": {},
   "outputs": [
    {
     "data": {
      "text/plain": [
       "0.16404549625108245"
      ]
     },
     "execution_count": 44,
     "metadata": {},
     "output_type": "execute_result"
    }
   ],
   "source": [
    "df = stocks.get_data(symbol=\"NESTLEIND\", start_date=\"01-01-2015\", end_date=\"29-03-2023\")\n",
    "df = df.reset_index()\n",
    "df['Close'] = df['Close Price']\n",
    "df['prevClose'] = df.Close.shift(1)\n",
    "df['moving_avg_30'] = df.prevClose.rolling(window=30).mean()\n",
    "df['qty_traded'] = df.apply(lambda row: 1 if (row.moving_avg_30 - row.prevClose)/row.prevClose > 0.06 else 0 , axis=1)\n",
    "#df['qty_traded'] =df.apply(lambda row: -1 if (row.prevClose -row.moving_avg_30)/row.prevClose > 0.06 else row.qty_traded , axis=1)\n",
    "df['trading_price'] = df.qty_traded * -1.0 * df.Close\n",
    "df['total_qty'] = df['qty_traded'].cumsum()\n",
    "df['inflow'] = df['trading_price']\n",
    "df['mktval'] = df['total_qty'] * df['Close']\n",
    "df.at[len(df)-1, 'inflow'] = df.at[len(df)-2, 'mktval']\n",
    "xirr(df.Date, df.inflow)"
   ]
  },
  {
   "cell_type": "code",
   "execution_count": 46,
   "id": "286dab63",
   "metadata": {},
   "outputs": [
    {
     "data": {
      "text/plain": [
       "0.1068458421212108"
      ]
     },
     "execution_count": 46,
     "metadata": {},
     "output_type": "execute_result"
    }
   ],
   "source": [
    "df = stocks.get_data(symbol=\"MARICO\", start_date=\"01-01-2015\", end_date=\"29-03-2023\")\n",
    "df = df.reset_index()\n",
    "df['Close'] = df['Close Price']\n",
    "df['prevClose'] = df.Close.shift(1)\n",
    "df['moving_avg_30'] = df.prevClose.rolling(window=30).mean()\n",
    "df['qty_traded'] = df.apply(lambda row: 1 if (row.moving_avg_30 - row.prevClose)/row.prevClose > 0.06 else 0 , axis=1)\n",
    "#df['qty_traded'] =df.apply(lambda row: -1 if (row.prevClose -row.moving_avg_30)/row.prevClose > 0.06 else row.qty_traded , axis=1)\n",
    "df['trading_price'] = df.qty_traded * -1.0 * df.Close\n",
    "df['total_qty'] = df['qty_traded'].cumsum()\n",
    "df['inflow'] = df['trading_price']\n",
    "df['mktval'] = df['total_qty'] * df['Close']\n",
    "df.at[len(df)-1, 'inflow'] = df.at[len(df)-2, 'mktval']\n",
    "xirr(df.Date, df.inflow)"
   ]
  },
  {
   "cell_type": "code",
   "execution_count": 47,
   "id": "981779e5",
   "metadata": {},
   "outputs": [
    {
     "data": {
      "text/plain": [
       "0.012519524473705024"
      ]
     },
     "execution_count": 47,
     "metadata": {},
     "output_type": "execute_result"
    }
   ],
   "source": [
    "df = stocks.get_data(symbol=\"APLAPOLLO\", start_date=\"01-01-2015\", end_date=\"29-03-2023\")\n",
    "df = df.reset_index()\n",
    "df['Close'] = df['Close Price']\n",
    "df['prevClose'] = df.Close.shift(1)\n",
    "df['moving_avg_30'] = df.prevClose.rolling(window=30).mean()\n",
    "df['qty_traded'] = df.apply(lambda row: 1 if (row.moving_avg_30 - row.prevClose)/row.prevClose > 0.06 else 0 , axis=1)\n",
    "#df['qty_traded'] =df.apply(lambda row: -1 if (row.prevClose -row.moving_avg_30)/row.prevClose > 0.06 else row.qty_traded , axis=1)\n",
    "df['trading_price'] = df.qty_traded * -1.0 * df.Close\n",
    "df['total_qty'] = df['qty_traded'].cumsum()\n",
    "df['inflow'] = df['trading_price']\n",
    "df['mktval'] = df['total_qty'] * df['Close']\n",
    "df.at[len(df)-1, 'inflow'] = df.at[len(df)-2, 'mktval']\n",
    "xirr(df.Date, df.inflow)"
   ]
  },
  {
   "cell_type": "code",
   "execution_count": 48,
   "id": "d8c85701",
   "metadata": {},
   "outputs": [
    {
     "data": {
      "text/html": [
       "<div>\n",
       "<style scoped>\n",
       "    .dataframe tbody tr th:only-of-type {\n",
       "        vertical-align: middle;\n",
       "    }\n",
       "\n",
       "    .dataframe tbody tr th {\n",
       "        vertical-align: top;\n",
       "    }\n",
       "\n",
       "    .dataframe thead th {\n",
       "        text-align: right;\n",
       "    }\n",
       "</style>\n",
       "<table border=\"1\" class=\"dataframe\">\n",
       "  <thead>\n",
       "    <tr style=\"text-align: right;\">\n",
       "      <th></th>\n",
       "      <th>Date</th>\n",
       "      <th>Symbol</th>\n",
       "      <th>Series</th>\n",
       "      <th>Prev Close</th>\n",
       "      <th>Open Price</th>\n",
       "      <th>High Price</th>\n",
       "      <th>Low Price</th>\n",
       "      <th>Last Price</th>\n",
       "      <th>Close Price</th>\n",
       "      <th>Average Price</th>\n",
       "      <th>...</th>\n",
       "      <th>% Dly Qt to Traded Qty</th>\n",
       "      <th></th>\n",
       "      <th>Close</th>\n",
       "      <th>prevClose</th>\n",
       "      <th>moving_avg_30</th>\n",
       "      <th>qty_traded</th>\n",
       "      <th>trading_price</th>\n",
       "      <th>total_qty</th>\n",
       "      <th>inflow</th>\n",
       "      <th>mktval</th>\n",
       "    </tr>\n",
       "  </thead>\n",
       "  <tbody>\n",
       "    <tr>\n",
       "      <th>0</th>\n",
       "      <td>2015-01-01</td>\n",
       "      <td>APLAPOLLO</td>\n",
       "      <td>EQ</td>\n",
       "      <td>341.60</td>\n",
       "      <td>344.00</td>\n",
       "      <td>349.00</td>\n",
       "      <td>325.05</td>\n",
       "      <td>341.90</td>\n",
       "      <td>336.45</td>\n",
       "      <td>339.97</td>\n",
       "      <td>...</td>\n",
       "      <td>96.62</td>\n",
       "      <td></td>\n",
       "      <td>336.45</td>\n",
       "      <td>NaN</td>\n",
       "      <td>NaN</td>\n",
       "      <td>0</td>\n",
       "      <td>-0.0</td>\n",
       "      <td>0</td>\n",
       "      <td>-0.0</td>\n",
       "      <td>0.0</td>\n",
       "    </tr>\n",
       "    <tr>\n",
       "      <th>1</th>\n",
       "      <td>2015-01-02</td>\n",
       "      <td>APLAPOLLO</td>\n",
       "      <td>EQ</td>\n",
       "      <td>336.45</td>\n",
       "      <td>334.00</td>\n",
       "      <td>346.00</td>\n",
       "      <td>334.00</td>\n",
       "      <td>336.00</td>\n",
       "      <td>338.65</td>\n",
       "      <td>341.78</td>\n",
       "      <td>...</td>\n",
       "      <td>82.81</td>\n",
       "      <td></td>\n",
       "      <td>338.65</td>\n",
       "      <td>336.45</td>\n",
       "      <td>NaN</td>\n",
       "      <td>0</td>\n",
       "      <td>-0.0</td>\n",
       "      <td>0</td>\n",
       "      <td>-0.0</td>\n",
       "      <td>0.0</td>\n",
       "    </tr>\n",
       "    <tr>\n",
       "      <th>2</th>\n",
       "      <td>2015-01-05</td>\n",
       "      <td>APLAPOLLO</td>\n",
       "      <td>EQ</td>\n",
       "      <td>338.65</td>\n",
       "      <td>337.05</td>\n",
       "      <td>338.80</td>\n",
       "      <td>325.30</td>\n",
       "      <td>329.25</td>\n",
       "      <td>329.25</td>\n",
       "      <td>334.87</td>\n",
       "      <td>...</td>\n",
       "      <td>69.81</td>\n",
       "      <td></td>\n",
       "      <td>329.25</td>\n",
       "      <td>338.65</td>\n",
       "      <td>NaN</td>\n",
       "      <td>0</td>\n",
       "      <td>-0.0</td>\n",
       "      <td>0</td>\n",
       "      <td>-0.0</td>\n",
       "      <td>0.0</td>\n",
       "    </tr>\n",
       "    <tr>\n",
       "      <th>3</th>\n",
       "      <td>2015-01-06</td>\n",
       "      <td>APLAPOLLO</td>\n",
       "      <td>EQ</td>\n",
       "      <td>329.25</td>\n",
       "      <td>327.00</td>\n",
       "      <td>332.05</td>\n",
       "      <td>325.00</td>\n",
       "      <td>332.00</td>\n",
       "      <td>328.05</td>\n",
       "      <td>329.47</td>\n",
       "      <td>...</td>\n",
       "      <td>92.14</td>\n",
       "      <td></td>\n",
       "      <td>328.05</td>\n",
       "      <td>329.25</td>\n",
       "      <td>NaN</td>\n",
       "      <td>0</td>\n",
       "      <td>-0.0</td>\n",
       "      <td>0</td>\n",
       "      <td>-0.0</td>\n",
       "      <td>0.0</td>\n",
       "    </tr>\n",
       "    <tr>\n",
       "      <th>4</th>\n",
       "      <td>2015-01-07</td>\n",
       "      <td>APLAPOLLO</td>\n",
       "      <td>EQ</td>\n",
       "      <td>328.05</td>\n",
       "      <td>327.05</td>\n",
       "      <td>339.70</td>\n",
       "      <td>325.20</td>\n",
       "      <td>325.30</td>\n",
       "      <td>327.90</td>\n",
       "      <td>329.90</td>\n",
       "      <td>...</td>\n",
       "      <td>37.78</td>\n",
       "      <td></td>\n",
       "      <td>327.90</td>\n",
       "      <td>328.05</td>\n",
       "      <td>NaN</td>\n",
       "      <td>0</td>\n",
       "      <td>-0.0</td>\n",
       "      <td>0</td>\n",
       "      <td>-0.0</td>\n",
       "      <td>0.0</td>\n",
       "    </tr>\n",
       "  </tbody>\n",
       "</table>\n",
       "<p>5 rows × 24 columns</p>\n",
       "</div>"
      ],
      "text/plain": [
       "        Date     Symbol Series  Prev Close  Open Price  High Price  Low Price  \\\n",
       "0 2015-01-01  APLAPOLLO     EQ      341.60      344.00      349.00     325.05   \n",
       "1 2015-01-02  APLAPOLLO     EQ      336.45      334.00      346.00     334.00   \n",
       "2 2015-01-05  APLAPOLLO     EQ      338.65      337.05      338.80     325.30   \n",
       "3 2015-01-06  APLAPOLLO     EQ      329.25      327.00      332.05     325.00   \n",
       "4 2015-01-07  APLAPOLLO     EQ      328.05      327.05      339.70     325.20   \n",
       "\n",
       "   Last Price  Close Price  Average Price  ...  % Dly Qt to Traded Qty     \\\n",
       "0      341.90       336.45         339.97  ...                   96.62      \n",
       "1      336.00       338.65         341.78  ...                   82.81      \n",
       "2      329.25       329.25         334.87  ...                   69.81      \n",
       "3      332.00       328.05         329.47  ...                   92.14      \n",
       "4      325.30       327.90         329.90  ...                   37.78      \n",
       "\n",
       "    Close  prevClose  moving_avg_30 qty_traded  trading_price  total_qty  \\\n",
       "0  336.45        NaN            NaN          0           -0.0          0   \n",
       "1  338.65     336.45            NaN          0           -0.0          0   \n",
       "2  329.25     338.65            NaN          0           -0.0          0   \n",
       "3  328.05     329.25            NaN          0           -0.0          0   \n",
       "4  327.90     328.05            NaN          0           -0.0          0   \n",
       "\n",
       "   inflow  mktval  \n",
       "0    -0.0     0.0  \n",
       "1    -0.0     0.0  \n",
       "2    -0.0     0.0  \n",
       "3    -0.0     0.0  \n",
       "4    -0.0     0.0  \n",
       "\n",
       "[5 rows x 24 columns]"
      ]
     },
     "execution_count": 48,
     "metadata": {},
     "output_type": "execute_result"
    }
   ],
   "source": [
    "df.head()"
   ]
  },
  {
   "cell_type": "code",
   "execution_count": null,
   "id": "dba740a3",
   "metadata": {},
   "outputs": [],
   "source": []
  }
 ],
 "metadata": {
  "kernelspec": {
   "display_name": "Python 3 (ipykernel)",
   "language": "python",
   "name": "python3"
  },
  "language_info": {
   "codemirror_mode": {
    "name": "ipython",
    "version": 3
   },
   "file_extension": ".py",
   "mimetype": "text/x-python",
   "name": "python",
   "nbconvert_exporter": "python",
   "pygments_lexer": "ipython3",
   "version": "3.10.10"
  }
 },
 "nbformat": 4,
 "nbformat_minor": 5
}
