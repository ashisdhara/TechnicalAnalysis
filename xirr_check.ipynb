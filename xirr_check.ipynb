{
 "cells": [
  {
   "cell_type": "code",
   "execution_count": 1,
   "id": "bcfe699a",
   "metadata": {},
   "outputs": [],
   "source": [
    "import pandas as pd"
   ]
  },
  {
   "cell_type": "code",
   "execution_count": 14,
   "id": "a4241bf8",
   "metadata": {},
   "outputs": [],
   "source": [
    "df = pd.read_csv('debug_2.csv')"
   ]
  },
  {
   "cell_type": "code",
   "execution_count": 15,
   "id": "e2aa6631",
   "metadata": {},
   "outputs": [],
   "source": [
    "df = df[['Date', 'inflow']]"
   ]
  },
  {
   "cell_type": "code",
   "execution_count": 16,
   "id": "dabc76a1",
   "metadata": {},
   "outputs": [],
   "source": [
    "from pyxirr import xirr\n"
   ]
  },
  {
   "cell_type": "code",
   "execution_count": 17,
   "id": "5f72ac34",
   "metadata": {},
   "outputs": [
    {
     "data": {
      "text/plain": [
       "0.6164943046826799"
      ]
     },
     "execution_count": 17,
     "metadata": {},
     "output_type": "execute_result"
    }
   ],
   "source": [
    "from datetime import date\n",
    "from pyxirr import xirr\n",
    "\n",
    "dates = [date(2020, 1, 1), date(2021, 1, 1), date(2022, 1, 1)]\n",
    "amounts = [-1000, 1000, 1000]\n",
    "\n",
    "# feed columnar data\n",
    "xirr(dates, amounts)\n",
    "\n",
    "# feed tuples\n",
    "xirr(zip(dates, amounts))"
   ]
  },
  {
   "cell_type": "code",
   "execution_count": 18,
   "id": "1da18db7",
   "metadata": {},
   "outputs": [],
   "source": [
    "df.inflow = df.inflow.astype('int')"
   ]
  },
  {
   "cell_type": "code",
   "execution_count": 19,
   "id": "f7c799c5",
   "metadata": {},
   "outputs": [],
   "source": [
    "df = df[df.inflow != 0]"
   ]
  },
  {
   "cell_type": "code",
   "execution_count": 20,
   "id": "0a88705e",
   "metadata": {},
   "outputs": [
    {
     "data": {
      "text/plain": [
       "111"
      ]
     },
     "execution_count": 20,
     "metadata": {},
     "output_type": "execute_result"
    }
   ],
   "source": [
    "len(df)"
   ]
  },
  {
   "cell_type": "code",
   "execution_count": 21,
   "id": "c183d173",
   "metadata": {},
   "outputs": [],
   "source": [
    "from datetime import date\n",
    "dates_list = [date(*map(int, date_string.split('-'))) for date_string in list(df.Date)]"
   ]
  },
  {
   "cell_type": "code",
   "execution_count": 22,
   "id": "928f14b4",
   "metadata": {},
   "outputs": [
    {
     "data": {
      "text/plain": [
       "[datetime.date(2015, 1, 8),\n",
       " datetime.date(2015, 1, 12),\n",
       " datetime.date(2015, 1, 19),\n",
       " datetime.date(2015, 1, 20),\n",
       " datetime.date(2015, 1, 22),\n",
       " datetime.date(2015, 1, 27),\n",
       " datetime.date(2015, 1, 29),\n",
       " datetime.date(2015, 2, 3),\n",
       " datetime.date(2015, 2, 6),\n",
       " datetime.date(2015, 2, 20),\n",
       " datetime.date(2015, 2, 25),\n",
       " datetime.date(2015, 3, 3),\n",
       " datetime.date(2015, 3, 9),\n",
       " datetime.date(2015, 4, 8),\n",
       " datetime.date(2015, 4, 10),\n",
       " datetime.date(2015, 4, 23),\n",
       " datetime.date(2015, 5, 6),\n",
       " datetime.date(2015, 5, 15),\n",
       " datetime.date(2015, 5, 20),\n",
       " datetime.date(2015, 6, 5),\n",
       " datetime.date(2015, 6, 8),\n",
       " datetime.date(2015, 6, 10),\n",
       " datetime.date(2015, 6, 16),\n",
       " datetime.date(2015, 6, 18),\n",
       " datetime.date(2015, 6, 24),\n",
       " datetime.date(2015, 6, 29),\n",
       " datetime.date(2015, 7, 8),\n",
       " datetime.date(2015, 7, 13),\n",
       " datetime.date(2015, 7, 20),\n",
       " datetime.date(2015, 7, 31),\n",
       " datetime.date(2015, 8, 5),\n",
       " datetime.date(2015, 8, 7),\n",
       " datetime.date(2015, 8, 24),\n",
       " datetime.date(2015, 8, 26),\n",
       " datetime.date(2015, 9, 10),\n",
       " datetime.date(2015, 9, 18),\n",
       " datetime.date(2015, 9, 21),\n",
       " datetime.date(2015, 10, 12),\n",
       " datetime.date(2015, 10, 14),\n",
       " datetime.date(2015, 10, 15),\n",
       " datetime.date(2015, 10, 23),\n",
       " datetime.date(2015, 10, 29),\n",
       " datetime.date(2015, 11, 3),\n",
       " datetime.date(2015, 11, 9),\n",
       " datetime.date(2015, 11, 16),\n",
       " datetime.date(2015, 11, 18),\n",
       " datetime.date(2015, 11, 23),\n",
       " datetime.date(2015, 11, 26),\n",
       " datetime.date(2015, 12, 1),\n",
       " datetime.date(2015, 12, 2),\n",
       " datetime.date(2015, 12, 30),\n",
       " datetime.date(2016, 1, 11),\n",
       " datetime.date(2016, 1, 12),\n",
       " datetime.date(2016, 1, 14),\n",
       " datetime.date(2016, 1, 29),\n",
       " datetime.date(2016, 2, 5),\n",
       " datetime.date(2016, 2, 19),\n",
       " datetime.date(2016, 2, 29),\n",
       " datetime.date(2016, 3, 1),\n",
       " datetime.date(2016, 3, 8),\n",
       " datetime.date(2016, 3, 9),\n",
       " datetime.date(2016, 3, 15),\n",
       " datetime.date(2016, 3, 23),\n",
       " datetime.date(2016, 3, 28),\n",
       " datetime.date(2016, 3, 30),\n",
       " datetime.date(2016, 4, 1),\n",
       " datetime.date(2016, 4, 4),\n",
       " datetime.date(2016, 4, 20),\n",
       " datetime.date(2016, 4, 25),\n",
       " datetime.date(2016, 5, 2),\n",
       " datetime.date(2016, 5, 3),\n",
       " datetime.date(2016, 5, 6),\n",
       " datetime.date(2016, 5, 11),\n",
       " datetime.date(2016, 5, 17),\n",
       " datetime.date(2016, 5, 18),\n",
       " datetime.date(2016, 5, 25),\n",
       " datetime.date(2016, 5, 31),\n",
       " datetime.date(2016, 6, 2),\n",
       " datetime.date(2016, 6, 9),\n",
       " datetime.date(2016, 6, 13),\n",
       " datetime.date(2016, 6, 14),\n",
       " datetime.date(2016, 6, 20),\n",
       " datetime.date(2016, 6, 23),\n",
       " datetime.date(2016, 7, 5),\n",
       " datetime.date(2016, 7, 8),\n",
       " datetime.date(2016, 7, 20),\n",
       " datetime.date(2016, 7, 28),\n",
       " datetime.date(2016, 8, 2),\n",
       " datetime.date(2016, 8, 9),\n",
       " datetime.date(2016, 8, 18),\n",
       " datetime.date(2016, 8, 24),\n",
       " datetime.date(2016, 9, 16),\n",
       " datetime.date(2016, 9, 19),\n",
       " datetime.date(2016, 9, 22),\n",
       " datetime.date(2016, 9, 23),\n",
       " datetime.date(2016, 10, 5),\n",
       " datetime.date(2016, 10, 17),\n",
       " datetime.date(2016, 10, 21),\n",
       " datetime.date(2016, 10, 24),\n",
       " datetime.date(2016, 10, 25),\n",
       " datetime.date(2016, 10, 28),\n",
       " datetime.date(2016, 11, 9),\n",
       " datetime.date(2016, 11, 21),\n",
       " datetime.date(2016, 11, 23),\n",
       " datetime.date(2016, 11, 24),\n",
       " datetime.date(2016, 11, 30),\n",
       " datetime.date(2016, 12, 7),\n",
       " datetime.date(2016, 12, 26),\n",
       " datetime.date(2016, 12, 29),\n",
       " datetime.date(2017, 1, 4),\n",
       " datetime.date(2017, 1, 27)]"
      ]
     },
     "execution_count": 22,
     "metadata": {},
     "output_type": "execute_result"
    }
   ],
   "source": [
    "dates_list"
   ]
  },
  {
   "cell_type": "code",
   "execution_count": 23,
   "id": "278d9727",
   "metadata": {},
   "outputs": [],
   "source": [
    "inflows_list = list(df.inflow)"
   ]
  },
  {
   "cell_type": "code",
   "execution_count": 24,
   "id": "51894ff2",
   "metadata": {},
   "outputs": [
    {
     "data": {
      "text/plain": [
       "[-8248,\n",
       " -8327,\n",
       " 8548,\n",
       " 8673,\n",
       " 8734,\n",
       " 8881,\n",
       " 8924,\n",
       " 8751,\n",
       " -8637,\n",
       " 8826,\n",
       " -8756,\n",
       " 8991,\n",
       " 8763,\n",
       " -8759,\n",
       " 8825,\n",
       " 8441,\n",
       " -8156,\n",
       " 8342,\n",
       " 8495,\n",
       " -8186,\n",
       " 8109,\n",
       " -8187,\n",
       " 8114,\n",
       " 8248,\n",
       " 8428,\n",
       " -8382,\n",
       " -8465,\n",
       " -8560,\n",
       " -8711,\n",
       " 8645,\n",
       " -8720,\n",
       " 8719,\n",
       " -7929,\n",
       " -7932,\n",
       " 7924,\n",
       " -8098,\n",
       " 8096,\n",
       " -8255,\n",
       " 8223,\n",
       " 8287,\n",
       " -8384,\n",
       " -8215,\n",
       " -8181,\n",
       " -8044,\n",
       " -7917,\n",
       " -7855,\n",
       " 7981,\n",
       " -8014,\n",
       " -8087,\n",
       " 8069,\n",
       " 8039,\n",
       " -7726,\n",
       " 7672,\n",
       " -7679,\n",
       " -7659,\n",
       " -7587,\n",
       " 7288,\n",
       " -7083,\n",
       " -7320,\n",
       " -7580,\n",
       " 7622,\n",
       " -7552,\n",
       " 7806,\n",
       " 7701,\n",
       " -7822,\n",
       " 7810,\n",
       " -7853,\n",
       " 8023,\n",
       " 7966,\n",
       " 7945,\n",
       " 7882,\n",
       " 7859,\n",
       " 7969,\n",
       " 8006,\n",
       " -7989,\n",
       " 8029,\n",
       " 8254,\n",
       " -8314,\n",
       " -8302,\n",
       " -8207,\n",
       " 8208,\n",
       " -8334,\n",
       " -8366,\n",
       " -8485,\n",
       " -8476,\n",
       " 8727,\n",
       " 8860,\n",
       " -8819,\n",
       " 8883,\n",
       " -8894,\n",
       " -8874,\n",
       " -8986,\n",
       " -9015,\n",
       " -9083,\n",
       " 9054,\n",
       " 9010,\n",
       " -8784,\n",
       " 8967,\n",
       " -8977,\n",
       " -8963,\n",
       " -8906,\n",
       " 8660,\n",
       " -8124,\n",
       " 8253,\n",
       " -8194,\n",
       " 8466,\n",
       " -8344,\n",
       " 8083,\n",
       " -8296,\n",
       " 8407,\n",
       " 35471]"
      ]
     },
     "execution_count": 24,
     "metadata": {},
     "output_type": "execute_result"
    }
   ],
   "source": [
    "inflows_list"
   ]
  },
  {
   "cell_type": "code",
   "execution_count": 25,
   "id": "4a92f8ae",
   "metadata": {},
   "outputs": [
    {
     "data": {
      "text/plain": [
       "2043553994298.7263"
      ]
     },
     "execution_count": 25,
     "metadata": {},
     "output_type": "execute_result"
    }
   ],
   "source": [
    "xirr(zip(dates_list, inflows_list))"
   ]
  },
  {
   "cell_type": "code",
   "execution_count": null,
   "id": "64539077",
   "metadata": {},
   "outputs": [],
   "source": []
  }
 ],
 "metadata": {
  "kernelspec": {
   "display_name": "Python 3 (ipykernel)",
   "language": "python",
   "name": "python3"
  },
  "language_info": {
   "codemirror_mode": {
    "name": "ipython",
    "version": 3
   },
   "file_extension": ".py",
   "mimetype": "text/x-python",
   "name": "python",
   "nbconvert_exporter": "python",
   "pygments_lexer": "ipython3",
   "version": "3.10.10"
  }
 },
 "nbformat": 4,
 "nbformat_minor": 5
}
