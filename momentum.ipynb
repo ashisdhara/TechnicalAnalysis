{
 "cells": [
  {
   "cell_type": "code",
   "execution_count": 1,
   "id": "b0a9a077",
   "metadata": {},
   "outputs": [],
   "source": [
    "import pandas as pd \n",
    "\n",
    "df = pd.read_csv('nifty.csv')\n",
    "df['Date'] = df['HistoricalDate']\n",
    "df = df.sort_values('Date')\n",
    "df  = df.reset_index()\n",
    "df['price'] = df.CLOSE\n",
    "df['prevPrice'] = df.price.shift(1)\n"
   ]
  },
  {
   "cell_type": "code",
   "execution_count": 2,
   "id": "a65bc59c",
   "metadata": {},
   "outputs": [
    {
     "data": {
      "text/html": [
       "<div>\n",
       "<style scoped>\n",
       "    .dataframe tbody tr th:only-of-type {\n",
       "        vertical-align: middle;\n",
       "    }\n",
       "\n",
       "    .dataframe tbody tr th {\n",
       "        vertical-align: top;\n",
       "    }\n",
       "\n",
       "    .dataframe thead th {\n",
       "        text-align: right;\n",
       "    }\n",
       "</style>\n",
       "<table border=\"1\" class=\"dataframe\">\n",
       "  <thead>\n",
       "    <tr style=\"text-align: right;\">\n",
       "      <th></th>\n",
       "      <th>index</th>\n",
       "      <th>Unnamed: 0</th>\n",
       "      <th>Index Name</th>\n",
       "      <th>INDEX_NAME</th>\n",
       "      <th>HistoricalDate</th>\n",
       "      <th>OPEN</th>\n",
       "      <th>HIGH</th>\n",
       "      <th>LOW</th>\n",
       "      <th>CLOSE</th>\n",
       "      <th>Date</th>\n",
       "      <th>price</th>\n",
       "      <th>prevPrice</th>\n",
       "    </tr>\n",
       "  </thead>\n",
       "  <tbody>\n",
       "    <tr>\n",
       "      <th>0</th>\n",
       "      <td>2043</td>\n",
       "      <td>2043</td>\n",
       "      <td>Nifty 100</td>\n",
       "      <td>Nifty 100</td>\n",
       "      <td>2015-01-01</td>\n",
       "      <td>8280.55</td>\n",
       "      <td>8305.60</td>\n",
       "      <td>8259.50</td>\n",
       "      <td>8295.5</td>\n",
       "      <td>2015-01-01</td>\n",
       "      <td>8295.5</td>\n",
       "      <td>NaN</td>\n",
       "    </tr>\n",
       "    <tr>\n",
       "      <th>1</th>\n",
       "      <td>2042</td>\n",
       "      <td>2042</td>\n",
       "      <td>Nifty 100</td>\n",
       "      <td>Nifty 100</td>\n",
       "      <td>2015-01-02</td>\n",
       "      <td>8300.45</td>\n",
       "      <td>8416.45</td>\n",
       "      <td>8300.45</td>\n",
       "      <td>8399.9</td>\n",
       "      <td>2015-01-02</td>\n",
       "      <td>8399.9</td>\n",
       "      <td>8295.5</td>\n",
       "    </tr>\n",
       "    <tr>\n",
       "      <th>2</th>\n",
       "      <td>2041</td>\n",
       "      <td>2041</td>\n",
       "      <td>Nifty 100</td>\n",
       "      <td>Nifty 100</td>\n",
       "      <td>2015-01-05</td>\n",
       "      <td>8411.75</td>\n",
       "      <td>8453.35</td>\n",
       "      <td>8370.80</td>\n",
       "      <td>8383.3</td>\n",
       "      <td>2015-01-05</td>\n",
       "      <td>8383.3</td>\n",
       "      <td>8399.9</td>\n",
       "    </tr>\n",
       "    <tr>\n",
       "      <th>3</th>\n",
       "      <td>2040</td>\n",
       "      <td>2040</td>\n",
       "      <td>Nifty 100</td>\n",
       "      <td>Nifty 100</td>\n",
       "      <td>2015-01-06</td>\n",
       "      <td>8331.65</td>\n",
       "      <td>8331.65</td>\n",
       "      <td>8119.40</td>\n",
       "      <td>8133.9</td>\n",
       "      <td>2015-01-06</td>\n",
       "      <td>8133.9</td>\n",
       "      <td>8383.3</td>\n",
       "    </tr>\n",
       "    <tr>\n",
       "      <th>4</th>\n",
       "      <td>2039</td>\n",
       "      <td>2039</td>\n",
       "      <td>Nifty 100</td>\n",
       "      <td>Nifty 100</td>\n",
       "      <td>2015-01-07</td>\n",
       "      <td>8127.35</td>\n",
       "      <td>8160.05</td>\n",
       "      <td>8070.00</td>\n",
       "      <td>8112.3</td>\n",
       "      <td>2015-01-07</td>\n",
       "      <td>8112.3</td>\n",
       "      <td>8133.9</td>\n",
       "    </tr>\n",
       "  </tbody>\n",
       "</table>\n",
       "</div>"
      ],
      "text/plain": [
       "   index  Unnamed: 0 Index Name INDEX_NAME HistoricalDate     OPEN     HIGH  \\\n",
       "0   2043        2043  Nifty 100  Nifty 100     2015-01-01  8280.55  8305.60   \n",
       "1   2042        2042  Nifty 100  Nifty 100     2015-01-02  8300.45  8416.45   \n",
       "2   2041        2041  Nifty 100  Nifty 100     2015-01-05  8411.75  8453.35   \n",
       "3   2040        2040  Nifty 100  Nifty 100     2015-01-06  8331.65  8331.65   \n",
       "4   2039        2039  Nifty 100  Nifty 100     2015-01-07  8127.35  8160.05   \n",
       "\n",
       "       LOW   CLOSE        Date   price  prevPrice  \n",
       "0  8259.50  8295.5  2015-01-01  8295.5        NaN  \n",
       "1  8300.45  8399.9  2015-01-02  8399.9     8295.5  \n",
       "2  8370.80  8383.3  2015-01-05  8383.3     8399.9  \n",
       "3  8119.40  8133.9  2015-01-06  8133.9     8383.3  \n",
       "4  8070.00  8112.3  2015-01-07  8112.3     8133.9  "
      ]
     },
     "execution_count": 2,
     "metadata": {},
     "output_type": "execute_result"
    }
   ],
   "source": [
    "df.head()"
   ]
  },
  {
   "cell_type": "code",
   "execution_count": 8,
   "id": "6ca145d1",
   "metadata": {},
   "outputs": [
    {
     "data": {
      "text/plain": [
       "8383.3"
      ]
     },
     "execution_count": 8,
     "metadata": {},
     "output_type": "execute_result"
    }
   ],
   "source": [
    "float(df.iloc[[2]]['price'])"
   ]
  },
  {
   "cell_type": "code",
   "execution_count": 10,
   "id": "27b0b7eb",
   "metadata": {},
   "outputs": [],
   "source": [
    "df['cur_idx'] = df.index"
   ]
  },
  {
   "cell_type": "code",
   "execution_count": 13,
   "id": "10034821",
   "metadata": {},
   "outputs": [],
   "source": [
    "def get_momentum(row):\n",
    "    lag_30_price = float(df.iloc[[row.cur_idx - 30]]['price'])\n",
    "    lag_90_price = float(df.iloc[[row.cur_idx - 60]]['price'])\n",
    "    lag_120_price = float(df.iloc[[row.cur_idx - 120]]['price'])\n",
    "    \n",
    "    cur_price = row.prevPrice\n",
    "    \n",
    "    if((cur_price> lag_30_price) & (cur_price > lag_90_price) & (cur_price > lag_120_price)):\n",
    "        return 1\n",
    "    \n",
    "    if ((cur_price< lag_30_price) & (cur_price < lag_90_price) & (cur_price < lag_120_price)):\n",
    "        return -1\n",
    "    \n",
    "    \n",
    "    return 0\n",
    "    "
   ]
  },
  {
   "cell_type": "code",
   "execution_count": 14,
   "id": "87c1433b",
   "metadata": {},
   "outputs": [],
   "source": [
    "df['momentum_ind'] = df.apply(lambda row: get_momentum(row), axis=1)"
   ]
  },
  {
   "cell_type": "code",
   "execution_count": 17,
   "id": "ad12ddca",
   "metadata": {},
   "outputs": [
    {
     "data": {
      "text/plain": [
       "386"
      ]
     },
     "execution_count": 17,
     "metadata": {},
     "output_type": "execute_result"
    }
   ],
   "source": [
    "len(df[df['momentum_ind'] == -1])"
   ]
  },
  {
   "cell_type": "code",
   "execution_count": 22,
   "id": "ee17b46b",
   "metadata": {},
   "outputs": [
    {
     "name": "stderr",
     "output_type": "stream",
     "text": [
      "/var/folders/05/xdl3n7b519g2ls5rdzbb2tkm0000gn/T/ipykernel_810/2297463083.py:4: SettingWithCopyWarning: \n",
      "A value is trying to be set on a copy of a slice from a DataFrame.\n",
      "Try using .loc[row_indexer,col_indexer] = value instead\n",
      "\n",
      "See the caveats in the documentation: https://pandas.pydata.org/pandas-docs/stable/user_guide/indexing.html#returning-a-view-versus-a-copy\n",
      "  df['qty_traded'] = df['momentum_ind']\n",
      "/var/folders/05/xdl3n7b519g2ls5rdzbb2tkm0000gn/T/ipykernel_810/2297463083.py:5: SettingWithCopyWarning: \n",
      "A value is trying to be set on a copy of a slice from a DataFrame.\n",
      "Try using .loc[row_indexer,col_indexer] = value instead\n",
      "\n",
      "See the caveats in the documentation: https://pandas.pydata.org/pandas-docs/stable/user_guide/indexing.html#returning-a-view-versus-a-copy\n",
      "  df['trading_price'] = df.qty_traded * -1.0 * df.CLOSE\n",
      "/var/folders/05/xdl3n7b519g2ls5rdzbb2tkm0000gn/T/ipykernel_810/2297463083.py:6: SettingWithCopyWarning: \n",
      "A value is trying to be set on a copy of a slice from a DataFrame.\n",
      "Try using .loc[row_indexer,col_indexer] = value instead\n",
      "\n",
      "See the caveats in the documentation: https://pandas.pydata.org/pandas-docs/stable/user_guide/indexing.html#returning-a-view-versus-a-copy\n",
      "  df['total_qty'] = df['qty_traded'].cumsum()\n",
      "/var/folders/05/xdl3n7b519g2ls5rdzbb2tkm0000gn/T/ipykernel_810/2297463083.py:7: SettingWithCopyWarning: \n",
      "A value is trying to be set on a copy of a slice from a DataFrame.\n",
      "Try using .loc[row_indexer,col_indexer] = value instead\n",
      "\n",
      "See the caveats in the documentation: https://pandas.pydata.org/pandas-docs/stable/user_guide/indexing.html#returning-a-view-versus-a-copy\n",
      "  df['inflow'] = df['trading_price']\n",
      "/var/folders/05/xdl3n7b519g2ls5rdzbb2tkm0000gn/T/ipykernel_810/2297463083.py:8: SettingWithCopyWarning: \n",
      "A value is trying to be set on a copy of a slice from a DataFrame.\n",
      "Try using .loc[row_indexer,col_indexer] = value instead\n",
      "\n",
      "See the caveats in the documentation: https://pandas.pydata.org/pandas-docs/stable/user_guide/indexing.html#returning-a-view-versus-a-copy\n",
      "  df['mktval'] = df['total_qty'] * df['CLOSE']\n"
     ]
    },
    {
     "data": {
      "text/plain": [
       "0.13250545284277152"
      ]
     },
     "execution_count": 22,
     "metadata": {},
     "output_type": "execute_result"
    }
   ],
   "source": [
    "df = df[df['Date']>'2016-01-01']\n",
    "\n",
    "from pyxirr import xirr\n",
    "df['qty_traded'] = df['momentum_ind']\n",
    "df['trading_price'] = df.qty_traded * -1.0 * df.CLOSE\n",
    "df['total_qty'] = df['qty_traded'].cumsum()\n",
    "df['inflow'] = df['trading_price']\n",
    "df['mktval'] = df['total_qty'] * df['CLOSE']\n",
    "df.at[len(df)-1, 'inflow'] = df.at[len(df)-2, 'mktval']\n",
    "xirr(df.Date, df.inflow)"
   ]
  },
  {
   "cell_type": "code",
   "execution_count": null,
   "id": "80fb101e",
   "metadata": {},
   "outputs": [],
   "source": []
  }
 ],
 "metadata": {
  "kernelspec": {
   "display_name": "Python 3 (ipykernel)",
   "language": "python",
   "name": "python3"
  },
  "language_info": {
   "codemirror_mode": {
    "name": "ipython",
    "version": 3
   },
   "file_extension": ".py",
   "mimetype": "text/x-python",
   "name": "python",
   "nbconvert_exporter": "python",
   "pygments_lexer": "ipython3",
   "version": "3.10.10"
  }
 },
 "nbformat": 4,
 "nbformat_minor": 5
}
