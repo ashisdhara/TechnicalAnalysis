{
 "cells": [
  {
   "cell_type": "code",
   "execution_count": 1,
   "id": "eb7f70a9",
   "metadata": {},
   "outputs": [],
   "source": [
    "from NSEDownload import stocks\n",
    "from NSEDownload import indices"
   ]
  },
  {
   "cell_type": "code",
   "execution_count": 2,
   "id": "5c03d683",
   "metadata": {},
   "outputs": [
    {
     "name": "stderr",
     "output_type": "stream",
     "text": [
      "Exception in thread Thread-6 (process_window):\n",
      "Traceback (most recent call last):\n",
      "  File \"/Library/Frameworks/Python.framework/Versions/3.10/lib/python3.10/threading.py\", line 1016, in _bootstrap_inner\n",
      "    self.run()\n",
      "  File \"/Library/Frameworks/Python.framework/Versions/3.10/lib/python3.10/threading.py\", line 953, in run\n",
      "    self._target(*self._args, **self._kwargs)\n",
      "  File \"/Library/Frameworks/Python.framework/Versions/3.10/lib/python3.10/site-packages/NSEDownload/scraper.py\", line 19, in process_window\n",
      "    response = make_get_request(url)\n",
      "  File \"/Library/Frameworks/Python.framework/Versions/3.10/lib/python3.10/site-packages/NSEDownload/scraper.py\", line 40, in make_get_request\n",
      "    response = session.get(url, timeout=10, headers=get_headers())\n",
      "  File \"/Library/Frameworks/Python.framework/Versions/3.10/lib/python3.10/site-packages/requests/sessions.py\", line 600, in get\n",
      "    return self.request(\"GET\", url, **kwargs)\n",
      "  File \"/Library/Frameworks/Python.framework/Versions/3.10/lib/python3.10/site-packages/requests/sessions.py\", line 587, in request\n",
      "    resp = self.send(prep, **send_kwargs)\n",
      "  File \"/Library/Frameworks/Python.framework/Versions/3.10/lib/python3.10/site-packages/requests/sessions.py\", line 723, in send\n",
      "    history = [resp for resp in gen]\n",
      "  File \"/Library/Frameworks/Python.framework/Versions/3.10/lib/python3.10/site-packages/requests/sessions.py\", line 723, in <listcomp>\n",
      "    history = [resp for resp in gen]\n",
      "  File \"/Library/Frameworks/Python.framework/Versions/3.10/lib/python3.10/site-packages/requests/sessions.py\", line 191, in resolve_redirects\n",
      "    raise TooManyRedirects(\n",
      "requests.exceptions.TooManyRedirects: Exceeded 30 redirects.\n",
      "Exception in thread Thread-11 (process_window):\n",
      "Traceback (most recent call last):\n",
      "  File \"/Library/Frameworks/Python.framework/Versions/3.10/lib/python3.10/threading.py\", line 1016, in _bootstrap_inner\n",
      "    self.run()\n",
      "  File \"/Library/Frameworks/Python.framework/Versions/3.10/lib/python3.10/threading.py\", line 953, in run\n",
      "    self._target(*self._args, **self._kwargs)\n",
      "  File \"/Library/Frameworks/Python.framework/Versions/3.10/lib/python3.10/site-packages/NSEDownload/scraper.py\", line 19, in process_window\n",
      "    response = make_get_request(url)\n",
      "  File \"/Library/Frameworks/Python.framework/Versions/3.10/lib/python3.10/site-packages/NSEDownload/scraper.py\", line 40, in make_get_request\n",
      "    response = session.get(url, timeout=10, headers=get_headers())\n",
      "  File \"/Library/Frameworks/Python.framework/Versions/3.10/lib/python3.10/site-packages/requests/sessions.py\", line 600, in get\n",
      "    return self.request(\"GET\", url, **kwargs)\n",
      "  File \"/Library/Frameworks/Python.framework/Versions/3.10/lib/python3.10/site-packages/requests/sessions.py\", line 587, in request\n",
      "    resp = self.send(prep, **send_kwargs)\n",
      "  File \"/Library/Frameworks/Python.framework/Versions/3.10/lib/python3.10/site-packages/requests/sessions.py\", line 723, in send\n",
      "    history = [resp for resp in gen]\n",
      "  File \"/Library/Frameworks/Python.framework/Versions/3.10/lib/python3.10/site-packages/requests/sessions.py\", line 723, in <listcomp>\n",
      "    history = [resp for resp in gen]\n",
      "  File \"/Library/Frameworks/Python.framework/Versions/3.10/lib/python3.10/site-packages/requests/sessions.py\", line 191, in resolve_redirects\n",
      "    raise TooManyRedirects(\n",
      "requests.exceptions.TooManyRedirects: Exceeded 30 redirects.\n",
      "Exception in thread Thread-7 (process_window):\n",
      "Traceback (most recent call last):\n",
      "  File \"/Library/Frameworks/Python.framework/Versions/3.10/lib/python3.10/threading.py\", line 1016, in _bootstrap_inner\n",
      "    self.run()\n",
      "  File \"/Library/Frameworks/Python.framework/Versions/3.10/lib/python3.10/threading.py\", line 953, in run\n",
      "    self._target(*self._args, **self._kwargs)\n",
      "  File \"/Library/Frameworks/Python.framework/Versions/3.10/lib/python3.10/site-packages/NSEDownload/scraper.py\", line 19, in process_window\n",
      "    response = make_get_request(url)\n",
      "  File \"/Library/Frameworks/Python.framework/Versions/3.10/lib/python3.10/site-packages/NSEDownload/scraper.py\", line 40, in make_get_request\n",
      "    response = session.get(url, timeout=10, headers=get_headers())\n",
      "  File \"/Library/Frameworks/Python.framework/Versions/3.10/lib/python3.10/site-packages/requests/sessions.py\", line 600, in get\n",
      "    return self.request(\"GET\", url, **kwargs)\n",
      "  File \"/Library/Frameworks/Python.framework/Versions/3.10/lib/python3.10/site-packages/requests/sessions.py\", line 587, in request\n",
      "    resp = self.send(prep, **send_kwargs)\n",
      "  File \"/Library/Frameworks/Python.framework/Versions/3.10/lib/python3.10/site-packages/requests/sessions.py\", line 723, in send\n",
      "    history = [resp for resp in gen]\n",
      "  File \"/Library/Frameworks/Python.framework/Versions/3.10/lib/python3.10/site-packages/requests/sessions.py\", line 723, in <listcomp>\n",
      "    history = [resp for resp in gen]\n",
      "  File \"/Library/Frameworks/Python.framework/Versions/3.10/lib/python3.10/site-packages/requests/sessions.py\", line 191, in resolve_redirects\n",
      "    raise TooManyRedirects(\n",
      "requests.exceptions.TooManyRedirects: Exceeded 30 redirects.\n",
      "Exception in thread Thread-8 (process_window):\n",
      "Traceback (most recent call last):\n",
      "  File \"/Library/Frameworks/Python.framework/Versions/3.10/lib/python3.10/threading.py\", line 1016, in _bootstrap_inner\n",
      "    self.run()\n",
      "  File \"/Library/Frameworks/Python.framework/Versions/3.10/lib/python3.10/threading.py\", line 953, in run\n",
      "    self._target(*self._args, **self._kwargs)\n",
      "  File \"/Library/Frameworks/Python.framework/Versions/3.10/lib/python3.10/site-packages/NSEDownload/scraper.py\", line 19, in process_window\n",
      "    response = make_get_request(url)\n",
      "  File \"/Library/Frameworks/Python.framework/Versions/3.10/lib/python3.10/site-packages/NSEDownload/scraper.py\", line 40, in make_get_request\n",
      "    response = session.get(url, timeout=10, headers=get_headers())\n",
      "  File \"/Library/Frameworks/Python.framework/Versions/3.10/lib/python3.10/site-packages/requests/sessions.py\", line 600, in get\n",
      "    return self.request(\"GET\", url, **kwargs)\n",
      "  File \"/Library/Frameworks/Python.framework/Versions/3.10/lib/python3.10/site-packages/requests/sessions.py\", line 587, in request\n",
      "    resp = self.send(prep, **send_kwargs)\n",
      "  File \"/Library/Frameworks/Python.framework/Versions/3.10/lib/python3.10/site-packages/requests/sessions.py\", line 723, in send\n",
      "    history = [resp for resp in gen]\n",
      "  File \"/Library/Frameworks/Python.framework/Versions/3.10/lib/python3.10/site-packages/requests/sessions.py\", line 723, in <listcomp>\n",
      "    history = [resp for resp in gen]\n",
      "  File \"/Library/Frameworks/Python.framework/Versions/3.10/lib/python3.10/site-packages/requests/sessions.py\", line 191, in resolve_redirects\n",
      "    raise TooManyRedirects(\n",
      "requests.exceptions.TooManyRedirects: Exceeded 30 redirects.\n",
      "Exception in thread Thread-12 (process_window):\n",
      "Traceback (most recent call last):\n",
      "  File \"/Library/Frameworks/Python.framework/Versions/3.10/lib/python3.10/threading.py\", line 1016, in _bootstrap_inner\n",
      "    self.run()\n",
      "  File \"/Library/Frameworks/Python.framework/Versions/3.10/lib/python3.10/threading.py\", line 953, in run\n",
      "    self._target(*self._args, **self._kwargs)\n",
      "  File \"/Library/Frameworks/Python.framework/Versions/3.10/lib/python3.10/site-packages/NSEDownload/scraper.py\", line 19, in process_window\n",
      "    response = make_get_request(url)\n",
      "  File \"/Library/Frameworks/Python.framework/Versions/3.10/lib/python3.10/site-packages/NSEDownload/scraper.py\", line 40, in make_get_request\n",
      "    response = session.get(url, timeout=10, headers=get_headers())\n",
      "  File \"/Library/Frameworks/Python.framework/Versions/3.10/lib/python3.10/site-packages/requests/sessions.py\", line 600, in get\n",
      "    return self.request(\"GET\", url, **kwargs)\n",
      "  File \"/Library/Frameworks/Python.framework/Versions/3.10/lib/python3.10/site-packages/requests/sessions.py\", line 587, in request\n",
      "    resp = self.send(prep, **send_kwargs)\n",
      "  File \"/Library/Frameworks/Python.framework/Versions/3.10/lib/python3.10/site-packages/requests/sessions.py\", line 723, in send\n",
      "    history = [resp for resp in gen]\n",
      "  File \"/Library/Frameworks/Python.framework/Versions/3.10/lib/python3.10/site-packages/requests/sessions.py\", line 723, in <listcomp>\n",
      "    history = [resp for resp in gen]\n",
      "  File \"/Library/Frameworks/Python.framework/Versions/3.10/lib/python3.10/site-packages/requests/sessions.py\", line 191, in resolve_redirects\n",
      "    raise TooManyRedirects(\n",
      "requests.exceptions.TooManyRedirects: Exceeded 30 redirects.\n"
     ]
    },
    {
     "name": "stderr",
     "output_type": "stream",
     "text": [
      "Exception in thread Thread-10 (process_window):\n",
      "Traceback (most recent call last):\n",
      "  File \"/Library/Frameworks/Python.framework/Versions/3.10/lib/python3.10/threading.py\", line 1016, in _bootstrap_inner\n",
      "    self.run()\n",
      "  File \"/Library/Frameworks/Python.framework/Versions/3.10/lib/python3.10/threading.py\", line 953, in run\n",
      "    self._target(*self._args, **self._kwargs)\n",
      "  File \"/Library/Frameworks/Python.framework/Versions/3.10/lib/python3.10/site-packages/NSEDownload/scraper.py\", line 19, in process_window\n",
      "    response = make_get_request(url)\n",
      "  File \"/Library/Frameworks/Python.framework/Versions/3.10/lib/python3.10/site-packages/NSEDownload/scraper.py\", line 40, in make_get_request\n",
      "    response = session.get(url, timeout=10, headers=get_headers())\n",
      "  File \"/Library/Frameworks/Python.framework/Versions/3.10/lib/python3.10/site-packages/requests/sessions.py\", line 600, in get\n",
      "    return self.request(\"GET\", url, **kwargs)\n",
      "  File \"/Library/Frameworks/Python.framework/Versions/3.10/lib/python3.10/site-packages/requests/sessions.py\", line 587, in request\n",
      "    resp = self.send(prep, **send_kwargs)\n",
      "  File \"/Library/Frameworks/Python.framework/Versions/3.10/lib/python3.10/site-packages/requests/sessions.py\", line 723, in send\n",
      "    history = [resp for resp in gen]\n",
      "  File \"/Library/Frameworks/Python.framework/Versions/3.10/lib/python3.10/site-packages/requests/sessions.py\", line 723, in <listcomp>\n",
      "    history = [resp for resp in gen]\n",
      "  File \"/Library/Frameworks/Python.framework/Versions/3.10/lib/python3.10/site-packages/requests/sessions.py\", line 191, in resolve_redirects\n",
      "    raise TooManyRedirects(\n",
      "requests.exceptions.TooManyRedirects: Exceeded 30 redirects.\n",
      "Exception in thread Thread-5 (process_window):\n",
      "Traceback (most recent call last):\n",
      "  File \"/Library/Frameworks/Python.framework/Versions/3.10/lib/python3.10/threading.py\", line 1016, in _bootstrap_inner\n",
      "    self.run()\n",
      "  File \"/Library/Frameworks/Python.framework/Versions/3.10/lib/python3.10/threading.py\", line 953, in run\n",
      "    self._target(*self._args, **self._kwargs)\n",
      "  File \"/Library/Frameworks/Python.framework/Versions/3.10/lib/python3.10/site-packages/NSEDownload/scraper.py\", line 19, in process_window\n",
      "    response = make_get_request(url)\n",
      "  File \"/Library/Frameworks/Python.framework/Versions/3.10/lib/python3.10/site-packages/NSEDownload/scraper.py\", line 40, in make_get_request\n",
      "    response = session.get(url, timeout=10, headers=get_headers())\n",
      "  File \"/Library/Frameworks/Python.framework/Versions/3.10/lib/python3.10/site-packages/requests/sessions.py\", line 600, in get\n",
      "    return self.request(\"GET\", url, **kwargs)\n",
      "  File \"/Library/Frameworks/Python.framework/Versions/3.10/lib/python3.10/site-packages/requests/sessions.py\", line 587, in request\n",
      "    resp = self.send(prep, **send_kwargs)\n",
      "  File \"/Library/Frameworks/Python.framework/Versions/3.10/lib/python3.10/site-packages/requests/sessions.py\", line 723, in send\n",
      "    history = [resp for resp in gen]\n",
      "  File \"/Library/Frameworks/Python.framework/Versions/3.10/lib/python3.10/site-packages/requests/sessions.py\", line 723, in <listcomp>\n",
      "    history = [resp for resp in gen]\n",
      "  File \"/Library/Frameworks/Python.framework/Versions/3.10/lib/python3.10/site-packages/requests/sessions.py\", line 191, in resolve_redirects\n",
      "    raise TooManyRedirects(\n",
      "requests.exceptions.TooManyRedirects: Exceeded 30 redirects.\n",
      "Exception in thread Thread-13 (process_window):\n",
      "Traceback (most recent call last):\n",
      "  File \"/Library/Frameworks/Python.framework/Versions/3.10/lib/python3.10/threading.py\", line 1016, in _bootstrap_inner\n",
      "    self.run()\n",
      "  File \"/Library/Frameworks/Python.framework/Versions/3.10/lib/python3.10/threading.py\", line 953, in run\n",
      "    self._target(*self._args, **self._kwargs)\n",
      "  File \"/Library/Frameworks/Python.framework/Versions/3.10/lib/python3.10/site-packages/NSEDownload/scraper.py\", line 19, in process_window\n",
      "    response = make_get_request(url)\n",
      "  File \"/Library/Frameworks/Python.framework/Versions/3.10/lib/python3.10/site-packages/NSEDownload/scraper.py\", line 40, in make_get_request\n",
      "    response = session.get(url, timeout=10, headers=get_headers())\n",
      "  File \"/Library/Frameworks/Python.framework/Versions/3.10/lib/python3.10/site-packages/requests/sessions.py\", line 600, in get\n",
      "    return self.request(\"GET\", url, **kwargs)\n",
      "  File \"/Library/Frameworks/Python.framework/Versions/3.10/lib/python3.10/site-packages/requests/sessions.py\", line 587, in request\n",
      "    resp = self.send(prep, **send_kwargs)\n",
      "  File \"/Library/Frameworks/Python.framework/Versions/3.10/lib/python3.10/site-packages/requests/sessions.py\", line 723, in send\n",
      "    history = [resp for resp in gen]\n",
      "  File \"/Library/Frameworks/Python.framework/Versions/3.10/lib/python3.10/site-packages/requests/sessions.py\", line 723, in <listcomp>\n",
      "    history = [resp for resp in gen]\n",
      "  File \"/Library/Frameworks/Python.framework/Versions/3.10/lib/python3.10/site-packages/requests/sessions.py\", line 191, in resolve_redirects\n",
      "    raise TooManyRedirects(\n",
      "requests.exceptions.TooManyRedirects: Exceeded 30 redirects.\n",
      "Exception in thread Thread-9 (process_window):\n",
      "Traceback (most recent call last):\n",
      "  File \"/Library/Frameworks/Python.framework/Versions/3.10/lib/python3.10/threading.py\", line 1016, in _bootstrap_inner\n",
      "    self.run()\n",
      "  File \"/Library/Frameworks/Python.framework/Versions/3.10/lib/python3.10/threading.py\", line 953, in run\n",
      "    self._target(*self._args, **self._kwargs)\n",
      "  File \"/Library/Frameworks/Python.framework/Versions/3.10/lib/python3.10/site-packages/NSEDownload/scraper.py\", line 19, in process_window\n",
      "    response = make_get_request(url)\n",
      "  File \"/Library/Frameworks/Python.framework/Versions/3.10/lib/python3.10/site-packages/NSEDownload/scraper.py\", line 40, in make_get_request\n",
      "    response = session.get(url, timeout=10, headers=get_headers())\n",
      "  File \"/Library/Frameworks/Python.framework/Versions/3.10/lib/python3.10/site-packages/requests/sessions.py\", line 600, in get\n",
      "    return self.request(\"GET\", url, **kwargs)\n",
      "  File \"/Library/Frameworks/Python.framework/Versions/3.10/lib/python3.10/site-packages/requests/sessions.py\", line 587, in request\n",
      "    resp = self.send(prep, **send_kwargs)\n",
      "  File \"/Library/Frameworks/Python.framework/Versions/3.10/lib/python3.10/site-packages/requests/sessions.py\", line 723, in send\n",
      "    history = [resp for resp in gen]\n",
      "  File \"/Library/Frameworks/Python.framework/Versions/3.10/lib/python3.10/site-packages/requests/sessions.py\", line 723, in <listcomp>\n",
      "    history = [resp for resp in gen]\n",
      "  File \"/Library/Frameworks/Python.framework/Versions/3.10/lib/python3.10/site-packages/requests/sessions.py\", line 191, in resolve_redirects\n",
      "    raise TooManyRedirects(\n",
      "requests.exceptions.TooManyRedirects: Exceeded 30 redirects.\n"
     ]
    }
   ],
   "source": [
    "df = indices.get_data(index_name=\"NIFTY 100\", start_date=\"09-01-2015\", end_date=\"29-03-2023\")"
   ]
  },
  {
   "cell_type": "code",
   "execution_count": 5,
   "id": "21c9c1f7",
   "metadata": {},
   "outputs": [
    {
     "data": {
      "text/html": [
       "<div>\n",
       "<style scoped>\n",
       "    .dataframe tbody tr th:only-of-type {\n",
       "        vertical-align: middle;\n",
       "    }\n",
       "\n",
       "    .dataframe tbody tr th {\n",
       "        vertical-align: top;\n",
       "    }\n",
       "\n",
       "    .dataframe thead th {\n",
       "        text-align: right;\n",
       "    }\n",
       "</style>\n",
       "<table border=\"1\" class=\"dataframe\">\n",
       "  <thead>\n",
       "    <tr style=\"text-align: right;\">\n",
       "      <th></th>\n",
       "      <th>Open</th>\n",
       "      <th>High</th>\n",
       "      <th>Low</th>\n",
       "      <th>Close</th>\n",
       "      <th>Shares Traded</th>\n",
       "      <th>Turnover (Rs. Cr)</th>\n",
       "      <th></th>\n",
       "    </tr>\n",
       "    <tr>\n",
       "      <th>Date</th>\n",
       "      <th></th>\n",
       "      <th></th>\n",
       "      <th></th>\n",
       "      <th></th>\n",
       "      <th></th>\n",
       "      <th></th>\n",
       "      <th></th>\n",
       "    </tr>\n",
       "  </thead>\n",
       "  <tbody>\n",
       "    <tr>\n",
       "      <th>2015-01-09</th>\n",
       "      <td>8300.60</td>\n",
       "      <td>8317.25</td>\n",
       "      <td>8209.70</td>\n",
       "      <td>8288.95</td>\n",
       "      <td>232336477</td>\n",
       "      <td>12098.34</td>\n",
       "      <td></td>\n",
       "    </tr>\n",
       "    <tr>\n",
       "      <th>2015-01-12</th>\n",
       "      <td>8295.95</td>\n",
       "      <td>8334.95</td>\n",
       "      <td>8254.00</td>\n",
       "      <td>8327.05</td>\n",
       "      <td>164061121</td>\n",
       "      <td>7749.89</td>\n",
       "      <td></td>\n",
       "    </tr>\n",
       "    <tr>\n",
       "      <th>2015-01-13</th>\n",
       "      <td>8350.80</td>\n",
       "      <td>8362.70</td>\n",
       "      <td>8275.25</td>\n",
       "      <td>8305.30</td>\n",
       "      <td>206126882</td>\n",
       "      <td>9694.15</td>\n",
       "      <td></td>\n",
       "    </tr>\n",
       "    <tr>\n",
       "      <th>2015-01-14</th>\n",
       "      <td>8315.50</td>\n",
       "      <td>8335.95</td>\n",
       "      <td>8247.40</td>\n",
       "      <td>8286.45</td>\n",
       "      <td>232785154</td>\n",
       "      <td>10005.74</td>\n",
       "      <td></td>\n",
       "    </tr>\n",
       "    <tr>\n",
       "      <th>2015-01-15</th>\n",
       "      <td>8428.65</td>\n",
       "      <td>8519.40</td>\n",
       "      <td>8391.80</td>\n",
       "      <td>8486.20</td>\n",
       "      <td>331818622</td>\n",
       "      <td>14158.75</td>\n",
       "      <td></td>\n",
       "    </tr>\n",
       "  </tbody>\n",
       "</table>\n",
       "</div>"
      ],
      "text/plain": [
       "               Open     High      Low    Close Shares Traded  \\\n",
       "Date                                                           \n",
       "2015-01-09  8300.60  8317.25  8209.70  8288.95     232336477   \n",
       "2015-01-12  8295.95  8334.95  8254.00  8327.05     164061121   \n",
       "2015-01-13  8350.80  8362.70  8275.25  8305.30     206126882   \n",
       "2015-01-14  8315.50  8335.95  8247.40  8286.45     232785154   \n",
       "2015-01-15  8428.65  8519.40  8391.80  8486.20     331818622   \n",
       "\n",
       "           Turnover (Rs. Cr)     \n",
       "Date                             \n",
       "2015-01-09          12098.34     \n",
       "2015-01-12           7749.89     \n",
       "2015-01-13           9694.15     \n",
       "2015-01-14          10005.74     \n",
       "2015-01-15          14158.75     "
      ]
     },
     "execution_count": 5,
     "metadata": {},
     "output_type": "execute_result"
    }
   ],
   "source": [
    "df.head()"
   ]
  },
  {
   "cell_type": "code",
   "execution_count": 6,
   "id": "ba6f6e3c",
   "metadata": {},
   "outputs": [],
   "source": [
    "df['investment'] = 1"
   ]
  },
  {
   "cell_type": "code",
   "execution_count": 7,
   "id": "608be8e9",
   "metadata": {},
   "outputs": [
    {
     "data": {
      "text/html": [
       "<div>\n",
       "<style scoped>\n",
       "    .dataframe tbody tr th:only-of-type {\n",
       "        vertical-align: middle;\n",
       "    }\n",
       "\n",
       "    .dataframe tbody tr th {\n",
       "        vertical-align: top;\n",
       "    }\n",
       "\n",
       "    .dataframe thead th {\n",
       "        text-align: right;\n",
       "    }\n",
       "</style>\n",
       "<table border=\"1\" class=\"dataframe\">\n",
       "  <thead>\n",
       "    <tr style=\"text-align: right;\">\n",
       "      <th></th>\n",
       "      <th>Open</th>\n",
       "      <th>High</th>\n",
       "      <th>Low</th>\n",
       "      <th>Close</th>\n",
       "      <th>Shares Traded</th>\n",
       "      <th>Turnover (Rs. Cr)</th>\n",
       "      <th></th>\n",
       "      <th>investment</th>\n",
       "    </tr>\n",
       "    <tr>\n",
       "      <th>Date</th>\n",
       "      <th></th>\n",
       "      <th></th>\n",
       "      <th></th>\n",
       "      <th></th>\n",
       "      <th></th>\n",
       "      <th></th>\n",
       "      <th></th>\n",
       "      <th></th>\n",
       "    </tr>\n",
       "  </thead>\n",
       "  <tbody>\n",
       "    <tr>\n",
       "      <th>2015-01-09</th>\n",
       "      <td>8300.60</td>\n",
       "      <td>8317.25</td>\n",
       "      <td>8209.70</td>\n",
       "      <td>8288.95</td>\n",
       "      <td>232336477</td>\n",
       "      <td>12098.34</td>\n",
       "      <td></td>\n",
       "      <td>1</td>\n",
       "    </tr>\n",
       "    <tr>\n",
       "      <th>2015-01-12</th>\n",
       "      <td>8295.95</td>\n",
       "      <td>8334.95</td>\n",
       "      <td>8254.00</td>\n",
       "      <td>8327.05</td>\n",
       "      <td>164061121</td>\n",
       "      <td>7749.89</td>\n",
       "      <td></td>\n",
       "      <td>1</td>\n",
       "    </tr>\n",
       "    <tr>\n",
       "      <th>2015-01-13</th>\n",
       "      <td>8350.80</td>\n",
       "      <td>8362.70</td>\n",
       "      <td>8275.25</td>\n",
       "      <td>8305.30</td>\n",
       "      <td>206126882</td>\n",
       "      <td>9694.15</td>\n",
       "      <td></td>\n",
       "      <td>1</td>\n",
       "    </tr>\n",
       "    <tr>\n",
       "      <th>2015-01-14</th>\n",
       "      <td>8315.50</td>\n",
       "      <td>8335.95</td>\n",
       "      <td>8247.40</td>\n",
       "      <td>8286.45</td>\n",
       "      <td>232785154</td>\n",
       "      <td>10005.74</td>\n",
       "      <td></td>\n",
       "      <td>1</td>\n",
       "    </tr>\n",
       "    <tr>\n",
       "      <th>2015-01-15</th>\n",
       "      <td>8428.65</td>\n",
       "      <td>8519.40</td>\n",
       "      <td>8391.80</td>\n",
       "      <td>8486.20</td>\n",
       "      <td>331818622</td>\n",
       "      <td>14158.75</td>\n",
       "      <td></td>\n",
       "      <td>1</td>\n",
       "    </tr>\n",
       "  </tbody>\n",
       "</table>\n",
       "</div>"
      ],
      "text/plain": [
       "               Open     High      Low    Close Shares Traded  \\\n",
       "Date                                                           \n",
       "2015-01-09  8300.60  8317.25  8209.70  8288.95     232336477   \n",
       "2015-01-12  8295.95  8334.95  8254.00  8327.05     164061121   \n",
       "2015-01-13  8350.80  8362.70  8275.25  8305.30     206126882   \n",
       "2015-01-14  8315.50  8335.95  8247.40  8286.45     232785154   \n",
       "2015-01-15  8428.65  8519.40  8391.80  8486.20     331818622   \n",
       "\n",
       "           Turnover (Rs. Cr)     investment  \n",
       "Date                                         \n",
       "2015-01-09          12098.34              1  \n",
       "2015-01-12           7749.89              1  \n",
       "2015-01-13           9694.15              1  \n",
       "2015-01-14          10005.74              1  \n",
       "2015-01-15          14158.75              1  "
      ]
     },
     "execution_count": 7,
     "metadata": {},
     "output_type": "execute_result"
    }
   ],
   "source": [
    "df.head()"
   ]
  },
  {
   "cell_type": "code",
   "execution_count": 9,
   "id": "39f3679d",
   "metadata": {},
   "outputs": [],
   "source": [
    "df['investment'] = df['investment'] * -1"
   ]
  },
  {
   "cell_type": "code",
   "execution_count": 11,
   "id": "97c5c636",
   "metadata": {},
   "outputs": [
    {
     "data": {
      "text/html": [
       "<div>\n",
       "<style scoped>\n",
       "    .dataframe tbody tr th:only-of-type {\n",
       "        vertical-align: middle;\n",
       "    }\n",
       "\n",
       "    .dataframe tbody tr th {\n",
       "        vertical-align: top;\n",
       "    }\n",
       "\n",
       "    .dataframe thead th {\n",
       "        text-align: right;\n",
       "    }\n",
       "</style>\n",
       "<table border=\"1\" class=\"dataframe\">\n",
       "  <thead>\n",
       "    <tr style=\"text-align: right;\">\n",
       "      <th></th>\n",
       "      <th>Open</th>\n",
       "      <th>High</th>\n",
       "      <th>Low</th>\n",
       "      <th>Close</th>\n",
       "      <th>Shares Traded</th>\n",
       "      <th>Turnover (Rs. Cr)</th>\n",
       "      <th></th>\n",
       "      <th>investment</th>\n",
       "    </tr>\n",
       "    <tr>\n",
       "      <th>Date</th>\n",
       "      <th></th>\n",
       "      <th></th>\n",
       "      <th></th>\n",
       "      <th></th>\n",
       "      <th></th>\n",
       "      <th></th>\n",
       "      <th></th>\n",
       "      <th></th>\n",
       "    </tr>\n",
       "  </thead>\n",
       "  <tbody>\n",
       "    <tr>\n",
       "      <th>2023-03-23</th>\n",
       "      <td>16977.45</td>\n",
       "      <td>17075.70</td>\n",
       "      <td>16929.50</td>\n",
       "      <td>16958.15</td>\n",
       "      <td>424685624</td>\n",
       "      <td>26798.07</td>\n",
       "      <td></td>\n",
       "      <td>-1</td>\n",
       "    </tr>\n",
       "    <tr>\n",
       "      <th>2023-03-24</th>\n",
       "      <td>16966.70</td>\n",
       "      <td>16998.40</td>\n",
       "      <td>16806.10</td>\n",
       "      <td>16831.80</td>\n",
       "      <td>488074868</td>\n",
       "      <td>27921.35</td>\n",
       "      <td></td>\n",
       "      <td>-1</td>\n",
       "    </tr>\n",
       "    <tr>\n",
       "      <th>2023-03-27</th>\n",
       "      <td>16870.30</td>\n",
       "      <td>16953.55</td>\n",
       "      <td>16802.55</td>\n",
       "      <td>16849.30</td>\n",
       "      <td>480631714</td>\n",
       "      <td>25956.42</td>\n",
       "      <td></td>\n",
       "      <td>-1</td>\n",
       "    </tr>\n",
       "    <tr>\n",
       "      <th>2023-03-28</th>\n",
       "      <td>16884.75</td>\n",
       "      <td>16905.30</td>\n",
       "      <td>16758.10</td>\n",
       "      <td>16795.35</td>\n",
       "      <td>486814077</td>\n",
       "      <td>27424.36</td>\n",
       "      <td></td>\n",
       "      <td>-1</td>\n",
       "    </tr>\n",
       "    <tr>\n",
       "      <th>2023-03-29</th>\n",
       "      <td>16808.85</td>\n",
       "      <td>16962.70</td>\n",
       "      <td>16791.30</td>\n",
       "      <td>16918.05</td>\n",
       "      <td>667661992</td>\n",
       "      <td>36382.71</td>\n",
       "      <td></td>\n",
       "      <td>-1</td>\n",
       "    </tr>\n",
       "  </tbody>\n",
       "</table>\n",
       "</div>"
      ],
      "text/plain": [
       "                Open      High       Low     Close Shares Traded  \\\n",
       "Date                                                               \n",
       "2023-03-23  16977.45  17075.70  16929.50  16958.15     424685624   \n",
       "2023-03-24  16966.70  16998.40  16806.10  16831.80     488074868   \n",
       "2023-03-27  16870.30  16953.55  16802.55  16849.30     480631714   \n",
       "2023-03-28  16884.75  16905.30  16758.10  16795.35     486814077   \n",
       "2023-03-29  16808.85  16962.70  16791.30  16918.05     667661992   \n",
       "\n",
       "           Turnover (Rs. Cr)     investment  \n",
       "Date                                         \n",
       "2023-03-23          26798.07             -1  \n",
       "2023-03-24          27921.35             -1  \n",
       "2023-03-27          25956.42             -1  \n",
       "2023-03-28          27424.36             -1  \n",
       "2023-03-29          36382.71             -1  "
      ]
     },
     "execution_count": 11,
     "metadata": {},
     "output_type": "execute_result"
    }
   ],
   "source": [
    "df.tail()"
   ]
  },
  {
   "cell_type": "code",
   "execution_count": 12,
   "id": "7b61fca4",
   "metadata": {},
   "outputs": [],
   "source": [
    "df.at['2023-03-29', 'investment'] = 2500"
   ]
  },
  {
   "cell_type": "code",
   "execution_count": 13,
   "id": "02c2f5a5",
   "metadata": {},
   "outputs": [
    {
     "data": {
      "text/html": [
       "<div>\n",
       "<style scoped>\n",
       "    .dataframe tbody tr th:only-of-type {\n",
       "        vertical-align: middle;\n",
       "    }\n",
       "\n",
       "    .dataframe tbody tr th {\n",
       "        vertical-align: top;\n",
       "    }\n",
       "\n",
       "    .dataframe thead th {\n",
       "        text-align: right;\n",
       "    }\n",
       "</style>\n",
       "<table border=\"1\" class=\"dataframe\">\n",
       "  <thead>\n",
       "    <tr style=\"text-align: right;\">\n",
       "      <th></th>\n",
       "      <th>Open</th>\n",
       "      <th>High</th>\n",
       "      <th>Low</th>\n",
       "      <th>Close</th>\n",
       "      <th>Shares Traded</th>\n",
       "      <th>Turnover (Rs. Cr)</th>\n",
       "      <th></th>\n",
       "      <th>investment</th>\n",
       "    </tr>\n",
       "    <tr>\n",
       "      <th>Date</th>\n",
       "      <th></th>\n",
       "      <th></th>\n",
       "      <th></th>\n",
       "      <th></th>\n",
       "      <th></th>\n",
       "      <th></th>\n",
       "      <th></th>\n",
       "      <th></th>\n",
       "    </tr>\n",
       "  </thead>\n",
       "  <tbody>\n",
       "    <tr>\n",
       "      <th>2023-03-23</th>\n",
       "      <td>16977.45</td>\n",
       "      <td>17075.70</td>\n",
       "      <td>16929.50</td>\n",
       "      <td>16958.15</td>\n",
       "      <td>424685624</td>\n",
       "      <td>26798.07</td>\n",
       "      <td></td>\n",
       "      <td>-1</td>\n",
       "    </tr>\n",
       "    <tr>\n",
       "      <th>2023-03-24</th>\n",
       "      <td>16966.70</td>\n",
       "      <td>16998.40</td>\n",
       "      <td>16806.10</td>\n",
       "      <td>16831.80</td>\n",
       "      <td>488074868</td>\n",
       "      <td>27921.35</td>\n",
       "      <td></td>\n",
       "      <td>-1</td>\n",
       "    </tr>\n",
       "    <tr>\n",
       "      <th>2023-03-27</th>\n",
       "      <td>16870.30</td>\n",
       "      <td>16953.55</td>\n",
       "      <td>16802.55</td>\n",
       "      <td>16849.30</td>\n",
       "      <td>480631714</td>\n",
       "      <td>25956.42</td>\n",
       "      <td></td>\n",
       "      <td>-1</td>\n",
       "    </tr>\n",
       "    <tr>\n",
       "      <th>2023-03-28</th>\n",
       "      <td>16884.75</td>\n",
       "      <td>16905.30</td>\n",
       "      <td>16758.10</td>\n",
       "      <td>16795.35</td>\n",
       "      <td>486814077</td>\n",
       "      <td>27424.36</td>\n",
       "      <td></td>\n",
       "      <td>-1</td>\n",
       "    </tr>\n",
       "    <tr>\n",
       "      <th>2023-03-29</th>\n",
       "      <td>16808.85</td>\n",
       "      <td>16962.70</td>\n",
       "      <td>16791.30</td>\n",
       "      <td>16918.05</td>\n",
       "      <td>667661992</td>\n",
       "      <td>36382.71</td>\n",
       "      <td></td>\n",
       "      <td>2500</td>\n",
       "    </tr>\n",
       "  </tbody>\n",
       "</table>\n",
       "</div>"
      ],
      "text/plain": [
       "                Open      High       Low     Close Shares Traded  \\\n",
       "Date                                                               \n",
       "2023-03-23  16977.45  17075.70  16929.50  16958.15     424685624   \n",
       "2023-03-24  16966.70  16998.40  16806.10  16831.80     488074868   \n",
       "2023-03-27  16870.30  16953.55  16802.55  16849.30     480631714   \n",
       "2023-03-28  16884.75  16905.30  16758.10  16795.35     486814077   \n",
       "2023-03-29  16808.85  16962.70  16791.30  16918.05     667661992   \n",
       "\n",
       "           Turnover (Rs. Cr)     investment  \n",
       "Date                                         \n",
       "2023-03-23          26798.07             -1  \n",
       "2023-03-24          27921.35             -1  \n",
       "2023-03-27          25956.42             -1  \n",
       "2023-03-28          27424.36             -1  \n",
       "2023-03-29          36382.71           2500  "
      ]
     },
     "execution_count": 13,
     "metadata": {},
     "output_type": "execute_result"
    }
   ],
   "source": [
    "df.tail()"
   ]
  },
  {
   "cell_type": "code",
   "execution_count": 15,
   "id": "37086a52",
   "metadata": {},
   "outputs": [],
   "source": [
    "from datetime import date\n",
    "from pyxirr import xirr"
   ]
  },
  {
   "cell_type": "code",
   "execution_count": 18,
   "id": "72201611",
   "metadata": {},
   "outputs": [
    {
     "data": {
      "text/plain": [
       "0.049596263766110094"
      ]
     },
     "execution_count": 18,
     "metadata": {},
     "output_type": "execute_result"
    }
   ],
   "source": [
    "xirr(df.investment)"
   ]
  },
  {
   "cell_type": "code",
   "execution_count": 19,
   "id": "d08a3108",
   "metadata": {},
   "outputs": [],
   "source": [
    "df = df.reset_index()"
   ]
  },
  {
   "cell_type": "code",
   "execution_count": 20,
   "id": "69ab7a99",
   "metadata": {},
   "outputs": [
    {
     "data": {
      "text/plain": [
       "0.049596263766110094"
      ]
     },
     "execution_count": 20,
     "metadata": {},
     "output_type": "execute_result"
    }
   ],
   "source": [
    "xirr(df.Date, df.investment)"
   ]
  },
  {
   "cell_type": "code",
   "execution_count": 21,
   "id": "d4b6bb94",
   "metadata": {},
   "outputs": [
    {
     "data": {
      "text/plain": [
       "2032    17026.20\n",
       "2033    16958.15\n",
       "2034    16831.80\n",
       "2035    16849.30\n",
       "2036    16795.35\n",
       "Name: Close, dtype: float64"
      ]
     },
     "execution_count": 21,
     "metadata": {},
     "output_type": "execute_result"
    }
   ],
   "source": [
    "df.Close.shift(1).tail()"
   ]
  },
  {
   "cell_type": "code",
   "execution_count": 23,
   "id": "7fdfa92f",
   "metadata": {},
   "outputs": [],
   "source": [
    "df['prevClose'] = df.Close.shift(1)"
   ]
  },
  {
   "cell_type": "code",
   "execution_count": 24,
   "id": "449a7303",
   "metadata": {},
   "outputs": [],
   "source": [
    "df['ret'] = df.Close/df.prevClose"
   ]
  },
  {
   "cell_type": "code",
   "execution_count": 28,
   "id": "5aa5bd3e",
   "metadata": {},
   "outputs": [
    {
     "data": {
      "text/plain": [
       "0            NaN\n",
       "1       1.004596\n",
       "2       1.001973\n",
       "3       0.999698\n",
       "4       1.023797\n",
       "          ...   \n",
       "2032    2.045874\n",
       "2033    2.030631\n",
       "2034    2.032742\n",
       "2035    2.026234\n",
       "2036    2.041037\n",
       "Name: ret, Length: 2037, dtype: float64"
      ]
     },
     "execution_count": 28,
     "metadata": {},
     "output_type": "execute_result"
    }
   ],
   "source": [
    "df['ret'].cumprod()"
   ]
  },
  {
   "cell_type": "code",
   "execution_count": 29,
   "id": "196f0da2",
   "metadata": {},
   "outputs": [],
   "source": [
    "df['qty_traded'] = 1"
   ]
  },
  {
   "cell_type": "code",
   "execution_count": 30,
   "id": "61c9fc27",
   "metadata": {},
   "outputs": [],
   "source": [
    "df['trading_price'] = df.qty_traded * -1.0 * df.Close"
   ]
  },
  {
   "cell_type": "code",
   "execution_count": 31,
   "id": "ba016f77",
   "metadata": {},
   "outputs": [],
   "source": [
    "df['total_qty'] = df['qty_traded'].cumsum()"
   ]
  },
  {
   "cell_type": "code",
   "execution_count": 33,
   "id": "63beccd8",
   "metadata": {},
   "outputs": [],
   "source": [
    "df['inflow'] = df['trading_price']"
   ]
  },
  {
   "cell_type": "code",
   "execution_count": 34,
   "id": "f024e434",
   "metadata": {},
   "outputs": [],
   "source": [
    "df['mktval'] = df['total_qty'] * df['Close']"
   ]
  },
  {
   "cell_type": "code",
   "execution_count": 36,
   "id": "40aac721",
   "metadata": {},
   "outputs": [
    {
     "data": {
      "text/plain": [
       "2032    34475918.95\n",
       "2033    34235881.20\n",
       "2034    34288325.50\n",
       "2035    34195332.60\n",
       "2036    34462067.85\n",
       "Name: mktval, dtype: float64"
      ]
     },
     "execution_count": 36,
     "metadata": {},
     "output_type": "execute_result"
    }
   ],
   "source": []
  },
  {
   "cell_type": "code",
   "execution_count": 39,
   "id": "b5239a1f",
   "metadata": {},
   "outputs": [],
   "source": [
    "df.at[2036, 'inflow'] = df.at[2035, 'mktval']"
   ]
  },
  {
   "cell_type": "code",
   "execution_count": 40,
   "id": "2c963e58",
   "metadata": {},
   "outputs": [
    {
     "data": {
      "text/plain": [
       "0.09492792075429159"
      ]
     },
     "execution_count": 40,
     "metadata": {},
     "output_type": "execute_result"
    }
   ],
   "source": [
    "xirr(df.Date, df.inflow)"
   ]
  },
  {
   "cell_type": "code",
   "execution_count": 41,
   "id": "763c4f88",
   "metadata": {},
   "outputs": [],
   "source": [
    "df['moving_avg_30'] = df.prevClose.rolling(window=30).mean()"
   ]
  },
  {
   "cell_type": "code",
   "execution_count": 45,
   "id": "053b2977",
   "metadata": {},
   "outputs": [],
   "source": [
    "df['qty_traded'] = df.apply(lambda row: 1 if (row.moving_avg_30 - row.prevClose)/row.prevClose > 0.06 else 0 , axis=1)"
   ]
  },
  {
   "cell_type": "code",
   "execution_count": 46,
   "id": "0a8d1f28",
   "metadata": {},
   "outputs": [
    {
     "data": {
      "text/plain": [
       "61"
      ]
     },
     "execution_count": 46,
     "metadata": {},
     "output_type": "execute_result"
    }
   ],
   "source": [
    "df.qty_traded.sum()"
   ]
  },
  {
   "cell_type": "code",
   "execution_count": 47,
   "id": "c92b2423",
   "metadata": {},
   "outputs": [],
   "source": [
    "df['trading_price'] = df.qty_traded * -1.0 * df.Close"
   ]
  },
  {
   "cell_type": "code",
   "execution_count": 48,
   "id": "93e48d80",
   "metadata": {},
   "outputs": [],
   "source": [
    "df['total_qty'] = df['qty_traded'].cumsum()"
   ]
  },
  {
   "cell_type": "code",
   "execution_count": 49,
   "id": "3948436d",
   "metadata": {},
   "outputs": [],
   "source": [
    "df['inflow'] = df['trading_price']"
   ]
  },
  {
   "cell_type": "code",
   "execution_count": 50,
   "id": "3880ed22",
   "metadata": {},
   "outputs": [],
   "source": [
    "df['mktval'] = df['total_qty'] * df['Close']"
   ]
  },
  {
   "cell_type": "code",
   "execution_count": 51,
   "id": "83d49b12",
   "metadata": {},
   "outputs": [],
   "source": [
    "df.at[2036, 'inflow'] = df.at[2035, 'mktval']"
   ]
  },
  {
   "cell_type": "code",
   "execution_count": 52,
   "id": "5f3b5bd4",
   "metadata": {},
   "outputs": [
    {
     "data": {
      "text/plain": [
       "0.13484057420362297"
      ]
     },
     "execution_count": 52,
     "metadata": {},
     "output_type": "execute_result"
    }
   ],
   "source": [
    "xirr(df.Date, df.inflow)"
   ]
  },
  {
   "cell_type": "code",
   "execution_count": 53,
   "id": "002155f7",
   "metadata": {},
   "outputs": [],
   "source": [
    "df['qty_traded'] =df.apply(lambda row: -1 if (row.prevClose -row.moving_avg_30)/row.prevClose > 0.06 else row.qty_traded , axis=1)"
   ]
  },
  {
   "cell_type": "code",
   "execution_count": 55,
   "id": "bfcc7268",
   "metadata": {},
   "outputs": [],
   "source": [
    "df['trading_price'] = df.qty_traded * -1.0 * df.Close\n",
    "df['total_qty'] = df['qty_traded'].cumsum()\n",
    "df['inflow'] = df['trading_price']\n",
    "df['mktval'] = df['total_qty'] * df['Close']\n",
    "df.at[2036, 'inflow'] = df.at[2035, 'mktval']"
   ]
  },
  {
   "cell_type": "code",
   "execution_count": 56,
   "id": "53d2c41c",
   "metadata": {},
   "outputs": [
    {
     "data": {
      "text/plain": [
       "0.13773442145427034"
      ]
     },
     "execution_count": 56,
     "metadata": {},
     "output_type": "execute_result"
    }
   ],
   "source": [
    "xirr(df.Date, df.inflow)"
   ]
  },
  {
   "cell_type": "code",
   "execution_count": 58,
   "id": "b185c880",
   "metadata": {},
   "outputs": [],
   "source": [
    "import seaborn as sns\n",
    "import matplotlib.pyplot as plt"
   ]
  },
  {
   "cell_type": "code",
   "execution_count": 59,
   "id": "460d38f3",
   "metadata": {},
   "outputs": [
    {
     "data": {
      "text/plain": [
       "(array([16071., 16436., 16801., 17167., 17532., 17897., 18262., 18628.,\n",
       "        18993., 19358.]),\n",
       " [Text(16071.0, 0, '2014'),\n",
       "  Text(16436.0, 0, '2015'),\n",
       "  Text(16801.0, 0, '2016'),\n",
       "  Text(17167.0, 0, '2017'),\n",
       "  Text(17532.0, 0, '2018'),\n",
       "  Text(17897.0, 0, '2019'),\n",
       "  Text(18262.0, 0, '2020'),\n",
       "  Text(18628.0, 0, '2021'),\n",
       "  Text(18993.0, 0, '2022'),\n",
       "  Text(19358.0, 0, '2023')])"
      ]
     },
     "execution_count": 59,
     "metadata": {},
     "output_type": "execute_result"
    },
    {
     "data": {
      "image/png": "[encoded data removed]",
      "text/plain": [
       "<Figure size 640x480 with 1 Axes>"
      ]
     },
     "metadata": {},
     "output_type": "display_data"
    }
   ],
   "source": [
    "sns.lineplot(x='Date', y='Close', data=df)\n",
    "sns.lineplot(x='Date', y='moving_avg_30', data=df)\n",
    "plt.xticks(rotation=20)"
   ]
  },
  {
   "cell_type": "code",
   "execution_count": 62,
   "id": "acff83f8",
   "metadata": {},
   "outputs": [
    {
     "data": {
      "text/plain": [
       "[0       False\n",
       " 1       False\n",
       " 2       False\n",
       " 3       False\n",
       " 4       False\n",
       "         ...  \n",
       " 2032    False\n",
       " 2033    False\n",
       " 2034    False\n",
       " 2035    False\n",
       " 2036    False\n",
       " Name: qty_traded, Length: 2037, dtype: bool]"
      ]
     },
     "execution_count": 62,
     "metadata": {},
     "output_type": "execute_result"
    }
   ],
   "source": [
    "df2"
   ]
  },
  {
   "cell_type": "code",
   "execution_count": 63,
   "id": "fb0ad05e",
   "metadata": {},
   "outputs": [
    {
     "data": {
      "text/plain": [
       "(array([16436., 16801., 17167., 17532., 17897., 18262., 18628., 18993.]),\n",
       " [Text(16436.0, 0, '2015'),\n",
       "  Text(16801.0, 0, '2016'),\n",
       "  Text(17167.0, 0, '2017'),\n",
       "  Text(17532.0, 0, '2018'),\n",
       "  Text(17897.0, 0, '2019'),\n",
       "  Text(18262.0, 0, '2020'),\n",
       "  Text(18628.0, 0, '2021'),\n",
       "  Text(18993.0, 0, '2022')])"
      ]
     },
     "execution_count": 63,
     "metadata": {},
     "output_type": "execute_result"
    },
    {
     "data": {
      "image/png": "[encoded data removed]",
      "text/plain": [
       "<Figure size 640x480 with 1 Axes>"
      ]
     },
     "metadata": {},
     "output_type": "display_data"
    }
   ],
   "source": [
    "df2 = df.copy()\n",
    "df2 = df2[df2.qty_traded!=0]\n",
    "sns.lineplot(x='Date', y='Close', data=df2)\n",
    "sns.lineplot(x='Date', y='moving_avg_30', data=df2)\n",
    "plt.xticks(rotation=20)"
   ]
  },
  {
   "cell_type": "code",
   "execution_count": null,
   "id": "18a7f26b",
   "metadata": {},
   "outputs": [],
   "source": []
  }
 ],
 "metadata": {
  "kernelspec": {
   "display_name": "Python 3 (ipykernel)",
   "language": "python",
   "name": "python3"
  },
  "language_info": {
   "codemirror_mode": {
    "name": "ipython",
    "version": 3
   },
   "file_extension": ".py",
   "mimetype": "text/x-python",
   "name": "python",
   "nbconvert_exporter": "python",
   "pygments_lexer": "ipython3",
   "version": "3.10.10"
  }
 },
 "nbformat": 4,
 "nbformat_minor": 5
}
