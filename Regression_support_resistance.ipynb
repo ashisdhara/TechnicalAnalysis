{
 "cells": [
  {
   "cell_type": "code",
   "execution_count": 1,
   "id": "d5fee1ab",
   "metadata": {},
   "outputs": [],
   "source": [
    "from NSEDownload import stocks\n",
    "from NSEDownload import indices\n",
    "from datetime import date\n",
    "from pyxirr import xirr\n",
    "import seaborn as sns\n",
    "import matplotlib.pyplot as plt"
   ]
  },
  {
   "cell_type": "code",
   "execution_count": 3,
   "id": "aa773522",
   "metadata": {},
   "outputs": [
    {
     "name": "stderr",
     "output_type": "stream",
     "text": [
      "Exception in thread Thread-18 (process_window):\n",
      "Traceback (most recent call last):\n",
      "  File \"/Library/Frameworks/Python.framework/Versions/3.10/lib/python3.10/threading.py\", line 1016, in _bootstrap_inner\n",
      "    self.run()\n",
      "  File \"/Library/Frameworks/Python.framework/Versions/3.10/lib/python3.10/threading.py\", line 953, in run\n",
      "    self._target(*self._args, **self._kwargs)\n",
      "  File \"/Library/Frameworks/Python.framework/Versions/3.10/lib/python3.10/site-packages/NSEDownload/scraper.py\", line 19, in process_window\n",
      "    response = make_get_request(url)\n",
      "  File \"/Library/Frameworks/Python.framework/Versions/3.10/lib/python3.10/site-packages/NSEDownload/scraper.py\", line 40, in make_get_request\n",
      "    response = session.get(url, timeout=10, headers=get_headers())\n",
      "  File \"/Library/Frameworks/Python.framework/Versions/3.10/lib/python3.10/site-packages/requests/sessions.py\", line 600, in get\n",
      "    return self.request(\"GET\", url, **kwargs)\n",
      "  File \"/Library/Frameworks/Python.framework/Versions/3.10/lib/python3.10/site-packages/requests/sessions.py\", line 587, in request\n",
      "    resp = self.send(prep, **send_kwargs)\n",
      "  File \"/Library/Frameworks/Python.framework/Versions/3.10/lib/python3.10/site-packages/requests/sessions.py\", line 723, in send\n",
      "    history = [resp for resp in gen]\n",
      "  File \"/Library/Frameworks/Python.framework/Versions/3.10/lib/python3.10/site-packages/requests/sessions.py\", line 723, in <listcomp>\n",
      "    history = [resp for resp in gen]\n",
      "  File \"/Library/Frameworks/Python.framework/Versions/3.10/lib/python3.10/site-packages/requests/sessions.py\", line 191, in resolve_redirects\n",
      "    raise TooManyRedirects(\n",
      "requests.exceptions.TooManyRedirects: Exceeded 30 redirects.\n",
      "Exception in thread Thread-22 (process_window):\n",
      "Traceback (most recent call last):\n",
      "  File \"/Library/Frameworks/Python.framework/Versions/3.10/lib/python3.10/threading.py\", line 1016, in _bootstrap_inner\n",
      "    self.run()\n",
      "  File \"/Library/Frameworks/Python.framework/Versions/3.10/lib/python3.10/threading.py\", line 953, in run\n",
      "    self._target(*self._args, **self._kwargs)\n",
      "  File \"/Library/Frameworks/Python.framework/Versions/3.10/lib/python3.10/site-packages/NSEDownload/scraper.py\", line 19, in process_window\n",
      "    response = make_get_request(url)\n",
      "  File \"/Library/Frameworks/Python.framework/Versions/3.10/lib/python3.10/site-packages/NSEDownload/scraper.py\", line 40, in make_get_request\n",
      "    response = session.get(url, timeout=10, headers=get_headers())\n",
      "  File \"/Library/Frameworks/Python.framework/Versions/3.10/lib/python3.10/site-packages/requests/sessions.py\", line 600, in get\n",
      "    return self.request(\"GET\", url, **kwargs)\n",
      "  File \"/Library/Frameworks/Python.framework/Versions/3.10/lib/python3.10/site-packages/requests/sessions.py\", line 587, in request\n",
      "    resp = self.send(prep, **send_kwargs)\n",
      "  File \"/Library/Frameworks/Python.framework/Versions/3.10/lib/python3.10/site-packages/requests/sessions.py\", line 723, in send\n",
      "    history = [resp for resp in gen]\n",
      "  File \"/Library/Frameworks/Python.framework/Versions/3.10/lib/python3.10/site-packages/requests/sessions.py\", line 723, in <listcomp>\n",
      "    history = [resp for resp in gen]\n",
      "  File \"/Library/Frameworks/Python.framework/Versions/3.10/lib/python3.10/site-packages/requests/sessions.py\", line 191, in resolve_redirects\n",
      "    raise TooManyRedirects(\n",
      "requests.exceptions.TooManyRedirects: Exceeded 30 redirects.\n",
      "Exception in thread Thread-21 (process_window):\n",
      "Traceback (most recent call last):\n",
      "  File \"/Library/Frameworks/Python.framework/Versions/3.10/lib/python3.10/threading.py\", line 1016, in _bootstrap_inner\n",
      "    self.run()\n",
      "  File \"/Library/Frameworks/Python.framework/Versions/3.10/lib/python3.10/threading.py\", line 953, in run\n",
      "    self._target(*self._args, **self._kwargs)\n",
      "  File \"/Library/Frameworks/Python.framework/Versions/3.10/lib/python3.10/site-packages/NSEDownload/scraper.py\", line 19, in process_window\n",
      "    response = make_get_request(url)\n",
      "  File \"/Library/Frameworks/Python.framework/Versions/3.10/lib/python3.10/site-packages/NSEDownload/scraper.py\", line 40, in make_get_request\n",
      "    response = session.get(url, timeout=10, headers=get_headers())\n",
      "  File \"/Library/Frameworks/Python.framework/Versions/3.10/lib/python3.10/site-packages/requests/sessions.py\", line 600, in get\n",
      "    return self.request(\"GET\", url, **kwargs)\n",
      "  File \"/Library/Frameworks/Python.framework/Versions/3.10/lib/python3.10/site-packages/requests/sessions.py\", line 587, in request\n",
      "    resp = self.send(prep, **send_kwargs)\n",
      "  File \"/Library/Frameworks/Python.framework/Versions/3.10/lib/python3.10/site-packages/requests/sessions.py\", line 723, in send\n",
      "    history = [resp for resp in gen]\n",
      "  File \"/Library/Frameworks/Python.framework/Versions/3.10/lib/python3.10/site-packages/requests/sessions.py\", line 723, in <listcomp>\n",
      "    history = [resp for resp in gen]\n",
      "  File \"/Library/Frameworks/Python.framework/Versions/3.10/lib/python3.10/site-packages/requests/sessions.py\", line 191, in resolve_redirects\n",
      "    raise TooManyRedirects(\n",
      "requests.exceptions.TooManyRedirects: Exceeded 30 redirects.\n",
      "Exception in thread Thread-14 (process_window):\n",
      "Traceback (most recent call last):\n",
      "  File \"/Library/Frameworks/Python.framework/Versions/3.10/lib/python3.10/threading.py\", line 1016, in _bootstrap_inner\n",
      "    self.run()\n",
      "  File \"/Library/Frameworks/Python.framework/Versions/3.10/lib/python3.10/threading.py\", line 953, in run\n",
      "    self._target(*self._args, **self._kwargs)\n",
      "  File \"/Library/Frameworks/Python.framework/Versions/3.10/lib/python3.10/site-packages/NSEDownload/scraper.py\", line 19, in process_window\n",
      "    response = make_get_request(url)\n",
      "  File \"/Library/Frameworks/Python.framework/Versions/3.10/lib/python3.10/site-packages/NSEDownload/scraper.py\", line 40, in make_get_request\n",
      "    response = session.get(url, timeout=10, headers=get_headers())\n",
      "  File \"/Library/Frameworks/Python.framework/Versions/3.10/lib/python3.10/site-packages/requests/sessions.py\", line 600, in get\n",
      "    return self.request(\"GET\", url, **kwargs)\n",
      "  File \"/Library/Frameworks/Python.framework/Versions/3.10/lib/python3.10/site-packages/requests/sessions.py\", line 587, in request\n",
      "    resp = self.send(prep, **send_kwargs)\n",
      "  File \"/Library/Frameworks/Python.framework/Versions/3.10/lib/python3.10/site-packages/requests/sessions.py\", line 723, in send\n",
      "    history = [resp for resp in gen]\n",
      "  File \"/Library/Frameworks/Python.framework/Versions/3.10/lib/python3.10/site-packages/requests/sessions.py\", line 723, in <listcomp>\n",
      "    history = [resp for resp in gen]\n",
      "  File \"/Library/Frameworks/Python.framework/Versions/3.10/lib/python3.10/site-packages/requests/sessions.py\", line 191, in resolve_redirects\n",
      "    raise TooManyRedirects(\n",
      "requests.exceptions.TooManyRedirects: Exceeded 30 redirects.\n",
      "Exception in thread Thread-16 (process_window):\n",
      "Traceback (most recent call last):\n",
      "  File \"/Library/Frameworks/Python.framework/Versions/3.10/lib/python3.10/threading.py\", line 1016, in _bootstrap_inner\n",
      "    self.run()\n",
      "  File \"/Library/Frameworks/Python.framework/Versions/3.10/lib/python3.10/threading.py\", line 953, in run\n",
      "    self._target(*self._args, **self._kwargs)\n",
      "  File \"/Library/Frameworks/Python.framework/Versions/3.10/lib/python3.10/site-packages/NSEDownload/scraper.py\", line 19, in process_window\n",
      "    response = make_get_request(url)\n",
      "  File \"/Library/Frameworks/Python.framework/Versions/3.10/lib/python3.10/site-packages/NSEDownload/scraper.py\", line 40, in make_get_request\n",
      "    response = session.get(url, timeout=10, headers=get_headers())\n",
      "  File \"/Library/Frameworks/Python.framework/Versions/3.10/lib/python3.10/site-packages/requests/sessions.py\", line 600, in get\n",
      "    return self.request(\"GET\", url, **kwargs)\n",
      "  File \"/Library/Frameworks/Python.framework/Versions/3.10/lib/python3.10/site-packages/requests/sessions.py\", line 587, in request\n",
      "    resp = self.send(prep, **send_kwargs)\n",
      "  File \"/Library/Frameworks/Python.framework/Versions/3.10/lib/python3.10/site-packages/requests/sessions.py\", line 723, in send\n",
      "    history = [resp for resp in gen]\n",
      "  File \"/Library/Frameworks/Python.framework/Versions/3.10/lib/python3.10/site-packages/requests/sessions.py\", line 723, in <listcomp>\n",
      "    history = [resp for resp in gen]\n",
      "  File \"/Library/Frameworks/Python.framework/Versions/3.10/lib/python3.10/site-packages/requests/sessions.py\", line 191, in resolve_redirects\n",
      "    raise TooManyRedirects(\n",
      "requests.exceptions.TooManyRedirects: Exceeded 30 redirects.\n"
     ]
    },
    {
     "name": "stderr",
     "output_type": "stream",
     "text": [
      "Exception in thread Thread-17 (process_window):\n",
      "Traceback (most recent call last):\n",
      "  File \"/Library/Frameworks/Python.framework/Versions/3.10/lib/python3.10/threading.py\", line 1016, in _bootstrap_inner\n",
      "    self.run()\n",
      "  File \"/Library/Frameworks/Python.framework/Versions/3.10/lib/python3.10/threading.py\", line 953, in run\n",
      "    self._target(*self._args, **self._kwargs)\n",
      "  File \"/Library/Frameworks/Python.framework/Versions/3.10/lib/python3.10/site-packages/NSEDownload/scraper.py\", line 19, in process_window\n",
      "    response = make_get_request(url)\n",
      "  File \"/Library/Frameworks/Python.framework/Versions/3.10/lib/python3.10/site-packages/NSEDownload/scraper.py\", line 40, in make_get_request\n",
      "    response = session.get(url, timeout=10, headers=get_headers())\n",
      "  File \"/Library/Frameworks/Python.framework/Versions/3.10/lib/python3.10/site-packages/requests/sessions.py\", line 600, in get\n",
      "    return self.request(\"GET\", url, **kwargs)\n",
      "  File \"/Library/Frameworks/Python.framework/Versions/3.10/lib/python3.10/site-packages/requests/sessions.py\", line 587, in request\n",
      "    resp = self.send(prep, **send_kwargs)\n",
      "  File \"/Library/Frameworks/Python.framework/Versions/3.10/lib/python3.10/site-packages/requests/sessions.py\", line 723, in send\n",
      "    history = [resp for resp in gen]\n",
      "  File \"/Library/Frameworks/Python.framework/Versions/3.10/lib/python3.10/site-packages/requests/sessions.py\", line 723, in <listcomp>\n",
      "    history = [resp for resp in gen]\n",
      "  File \"/Library/Frameworks/Python.framework/Versions/3.10/lib/python3.10/site-packages/requests/sessions.py\", line 191, in resolve_redirects\n",
      "    raise TooManyRedirects(\n",
      "requests.exceptions.TooManyRedirects: Exceeded 30 redirects.\n",
      "Exception in thread Thread-19 (process_window):\n",
      "Traceback (most recent call last):\n",
      "  File \"/Library/Frameworks/Python.framework/Versions/3.10/lib/python3.10/threading.py\", line 1016, in _bootstrap_inner\n",
      "    self.run()\n",
      "  File \"/Library/Frameworks/Python.framework/Versions/3.10/lib/python3.10/threading.py\", line 953, in run\n",
      "    self._target(*self._args, **self._kwargs)\n",
      "  File \"/Library/Frameworks/Python.framework/Versions/3.10/lib/python3.10/site-packages/NSEDownload/scraper.py\", line 19, in process_window\n",
      "    response = make_get_request(url)\n",
      "  File \"/Library/Frameworks/Python.framework/Versions/3.10/lib/python3.10/site-packages/NSEDownload/scraper.py\", line 40, in make_get_request\n",
      "    response = session.get(url, timeout=10, headers=get_headers())\n",
      "  File \"/Library/Frameworks/Python.framework/Versions/3.10/lib/python3.10/site-packages/requests/sessions.py\", line 600, in get\n",
      "    return self.request(\"GET\", url, **kwargs)\n",
      "  File \"/Library/Frameworks/Python.framework/Versions/3.10/lib/python3.10/site-packages/requests/sessions.py\", line 587, in request\n",
      "    resp = self.send(prep, **send_kwargs)\n",
      "  File \"/Library/Frameworks/Python.framework/Versions/3.10/lib/python3.10/site-packages/requests/sessions.py\", line 723, in send\n",
      "    history = [resp for resp in gen]\n",
      "  File \"/Library/Frameworks/Python.framework/Versions/3.10/lib/python3.10/site-packages/requests/sessions.py\", line 723, in <listcomp>\n",
      "    history = [resp for resp in gen]\n",
      "  File \"/Library/Frameworks/Python.framework/Versions/3.10/lib/python3.10/site-packages/requests/sessions.py\", line 191, in resolve_redirects\n",
      "    raise TooManyRedirects(\n",
      "requests.exceptions.TooManyRedirects: Exceeded 30 redirects.\n",
      "Exception in thread Thread-15 (process_window):\n",
      "Traceback (most recent call last):\n",
      "  File \"/Library/Frameworks/Python.framework/Versions/3.10/lib/python3.10/threading.py\", line 1016, in _bootstrap_inner\n",
      "    self.run()\n",
      "  File \"/Library/Frameworks/Python.framework/Versions/3.10/lib/python3.10/threading.py\", line 953, in run\n",
      "    self._target(*self._args, **self._kwargs)\n",
      "  File \"/Library/Frameworks/Python.framework/Versions/3.10/lib/python3.10/site-packages/NSEDownload/scraper.py\", line 19, in process_window\n",
      "    response = make_get_request(url)\n",
      "  File \"/Library/Frameworks/Python.framework/Versions/3.10/lib/python3.10/site-packages/NSEDownload/scraper.py\", line 40, in make_get_request\n",
      "    response = session.get(url, timeout=10, headers=get_headers())\n",
      "  File \"/Library/Frameworks/Python.framework/Versions/3.10/lib/python3.10/site-packages/requests/sessions.py\", line 600, in get\n",
      "    return self.request(\"GET\", url, **kwargs)\n",
      "  File \"/Library/Frameworks/Python.framework/Versions/3.10/lib/python3.10/site-packages/requests/sessions.py\", line 587, in request\n",
      "    resp = self.send(prep, **send_kwargs)\n",
      "  File \"/Library/Frameworks/Python.framework/Versions/3.10/lib/python3.10/site-packages/requests/sessions.py\", line 723, in send\n",
      "    history = [resp for resp in gen]\n",
      "  File \"/Library/Frameworks/Python.framework/Versions/3.10/lib/python3.10/site-packages/requests/sessions.py\", line 723, in <listcomp>\n",
      "    history = [resp for resp in gen]\n",
      "  File \"/Library/Frameworks/Python.framework/Versions/3.10/lib/python3.10/site-packages/requests/sessions.py\", line 191, in resolve_redirects\n",
      "    raise TooManyRedirects(\n",
      "requests.exceptions.TooManyRedirects: Exceeded 30 redirects.\n",
      "Exception in thread Thread-20 (process_window):\n",
      "Traceback (most recent call last):\n",
      "  File \"/Library/Frameworks/Python.framework/Versions/3.10/lib/python3.10/threading.py\", line 1016, in _bootstrap_inner\n",
      "    self.run()\n",
      "  File \"/Library/Frameworks/Python.framework/Versions/3.10/lib/python3.10/threading.py\", line 953, in run\n",
      "    self._target(*self._args, **self._kwargs)\n",
      "  File \"/Library/Frameworks/Python.framework/Versions/3.10/lib/python3.10/site-packages/NSEDownload/scraper.py\", line 19, in process_window\n",
      "    response = make_get_request(url)\n",
      "  File \"/Library/Frameworks/Python.framework/Versions/3.10/lib/python3.10/site-packages/NSEDownload/scraper.py\", line 40, in make_get_request\n",
      "    response = session.get(url, timeout=10, headers=get_headers())\n",
      "  File \"/Library/Frameworks/Python.framework/Versions/3.10/lib/python3.10/site-packages/requests/sessions.py\", line 600, in get\n",
      "    return self.request(\"GET\", url, **kwargs)\n",
      "  File \"/Library/Frameworks/Python.framework/Versions/3.10/lib/python3.10/site-packages/requests/sessions.py\", line 587, in request\n",
      "    resp = self.send(prep, **send_kwargs)\n",
      "  File \"/Library/Frameworks/Python.framework/Versions/3.10/lib/python3.10/site-packages/requests/sessions.py\", line 723, in send\n",
      "    history = [resp for resp in gen]\n",
      "  File \"/Library/Frameworks/Python.framework/Versions/3.10/lib/python3.10/site-packages/requests/sessions.py\", line 723, in <listcomp>\n",
      "    history = [resp for resp in gen]\n",
      "  File \"/Library/Frameworks/Python.framework/Versions/3.10/lib/python3.10/site-packages/requests/sessions.py\", line 191, in resolve_redirects\n",
      "    raise TooManyRedirects(\n",
      "requests.exceptions.TooManyRedirects: Exceeded 30 redirects.\n"
     ]
    }
   ],
   "source": [
    "df = indices.get_data(index_name=\"NIFTY 100\", start_date=\"09-01-2015\", end_date=\"29-03-2023\")\n",
    "df = df.reset_index()"
   ]
  },
  {
   "cell_type": "code",
   "execution_count": 4,
   "id": "12fd10a9",
   "metadata": {},
   "outputs": [],
   "source": [
    "from jugaad_data.nse import stock_df"
   ]
  },
  {
   "cell_type": "code",
   "execution_count": 6,
   "id": "1a29b234",
   "metadata": {},
   "outputs": [],
   "source": [
    "from jugaad_data.nse import index_df"
   ]
  },
  {
   "cell_type": "code",
   "execution_count": 8,
   "id": "5206b5bd",
   "metadata": {},
   "outputs": [],
   "source": [
    "index_df?"
   ]
  },
  {
   "cell_type": "code",
   "execution_count": 12,
   "id": "2fb964fa",
   "metadata": {},
   "outputs": [],
   "source": [
    "df = index_df(symbol=\"NIFTY 100\", from_date=date(2015,1,1),\n",
    "            to_date=date(2023,3,31))"
   ]
  },
  {
   "cell_type": "code",
   "execution_count": 17,
   "id": "0c40df0f",
   "metadata": {},
   "outputs": [],
   "source": [
    "df.to_csv('./nifty.csv')"
   ]
  },
  {
   "cell_type": "code",
   "execution_count": 14,
   "id": "345c3391",
   "metadata": {},
   "outputs": [
    {
     "ename": "NameError",
     "evalue": "name 'cwd' is not defined",
     "output_type": "error",
     "traceback": [
      "\u001b[0;31m---------------------------------------------------------------------------\u001b[0m",
      "\u001b[0;31mNameError\u001b[0m                                 Traceback (most recent call last)",
      "Cell \u001b[0;32mIn[14], line 1\u001b[0m\n\u001b[0;32m----> 1\u001b[0m \u001b[43mcwd\u001b[49m\n",
      "\u001b[0;31mNameError\u001b[0m: name 'cwd' is not defined"
     ]
    }
   ],
   "source": [
    "cwd"
   ]
  },
  {
   "cell_type": "code",
   "execution_count": 15,
   "id": "e7c4ea29",
   "metadata": {},
   "outputs": [
    {
     "data": {
      "text/plain": [
       "'/Users/ashisdhara/Documents/my_analysis'"
      ]
     },
     "execution_count": 15,
     "metadata": {},
     "output_type": "execute_result"
    }
   ],
   "source": [
    "import os \n",
    "os.getcwd()"
   ]
  },
  {
   "cell_type": "code",
   "execution_count": 18,
   "id": "84362ea1",
   "metadata": {},
   "outputs": [
    {
     "data": {
      "text/html": [
       "<div>\n",
       "<style scoped>\n",
       "    .dataframe tbody tr th:only-of-type {\n",
       "        vertical-align: middle;\n",
       "    }\n",
       "\n",
       "    .dataframe tbody tr th {\n",
       "        vertical-align: top;\n",
       "    }\n",
       "\n",
       "    .dataframe thead th {\n",
       "        text-align: right;\n",
       "    }\n",
       "</style>\n",
       "<table border=\"1\" class=\"dataframe\">\n",
       "  <thead>\n",
       "    <tr style=\"text-align: right;\">\n",
       "      <th></th>\n",
       "      <th>Index Name</th>\n",
       "      <th>INDEX_NAME</th>\n",
       "      <th>HistoricalDate</th>\n",
       "      <th>OPEN</th>\n",
       "      <th>HIGH</th>\n",
       "      <th>LOW</th>\n",
       "      <th>CLOSE</th>\n",
       "    </tr>\n",
       "  </thead>\n",
       "  <tbody>\n",
       "    <tr>\n",
       "      <th>0</th>\n",
       "      <td>Nifty 100</td>\n",
       "      <td>NIFTY 100</td>\n",
       "      <td>2023-03-31</td>\n",
       "      <td>17043.00</td>\n",
       "      <td>17206.85</td>\n",
       "      <td>17036.10</td>\n",
       "      <td>17186.15</td>\n",
       "    </tr>\n",
       "    <tr>\n",
       "      <th>1</th>\n",
       "      <td>Nifty 100</td>\n",
       "      <td>NIFTY 100</td>\n",
       "      <td>2023-03-29</td>\n",
       "      <td>16808.85</td>\n",
       "      <td>16962.70</td>\n",
       "      <td>16791.30</td>\n",
       "      <td>16918.05</td>\n",
       "    </tr>\n",
       "    <tr>\n",
       "      <th>2</th>\n",
       "      <td>Nifty 100</td>\n",
       "      <td>NIFTY 100</td>\n",
       "      <td>2023-03-28</td>\n",
       "      <td>16884.75</td>\n",
       "      <td>16905.30</td>\n",
       "      <td>16758.10</td>\n",
       "      <td>16795.35</td>\n",
       "    </tr>\n",
       "    <tr>\n",
       "      <th>3</th>\n",
       "      <td>Nifty 100</td>\n",
       "      <td>NIFTY 100</td>\n",
       "      <td>2023-03-27</td>\n",
       "      <td>16870.30</td>\n",
       "      <td>16953.55</td>\n",
       "      <td>16802.55</td>\n",
       "      <td>16849.30</td>\n",
       "    </tr>\n",
       "    <tr>\n",
       "      <th>4</th>\n",
       "      <td>Nifty 100</td>\n",
       "      <td>NIFTY 100</td>\n",
       "      <td>2023-03-24</td>\n",
       "      <td>16966.70</td>\n",
       "      <td>16998.40</td>\n",
       "      <td>16806.10</td>\n",
       "      <td>16831.80</td>\n",
       "    </tr>\n",
       "  </tbody>\n",
       "</table>\n",
       "</div>"
      ],
      "text/plain": [
       "  Index Name INDEX_NAME HistoricalDate      OPEN      HIGH       LOW     CLOSE\n",
       "0  Nifty 100  NIFTY 100     2023-03-31  17043.00  17206.85  17036.10  17186.15\n",
       "1  Nifty 100  NIFTY 100     2023-03-29  16808.85  16962.70  16791.30  16918.05\n",
       "2  Nifty 100  NIFTY 100     2023-03-28  16884.75  16905.30  16758.10  16795.35\n",
       "3  Nifty 100  NIFTY 100     2023-03-27  16870.30  16953.55  16802.55  16849.30\n",
       "4  Nifty 100  NIFTY 100     2023-03-24  16966.70  16998.40  16806.10  16831.80"
      ]
     },
     "execution_count": 18,
     "metadata": {},
     "output_type": "execute_result"
    }
   ],
   "source": [
    "df.head()"
   ]
  },
  {
   "cell_type": "code",
   "execution_count": 19,
   "id": "80190650",
   "metadata": {},
   "outputs": [],
   "source": [
    "df['Date'] = df['HistoricalDate']"
   ]
  },
  {
   "cell_type": "code",
   "execution_count": 20,
   "id": "a6ce1c47",
   "metadata": {},
   "outputs": [],
   "source": [
    "df['Close'] = df['CLOSE']"
   ]
  },
  {
   "cell_type": "code",
   "execution_count": 21,
   "id": "c996acb0",
   "metadata": {},
   "outputs": [],
   "source": [
    "df.sort_index?"
   ]
  },
  {
   "cell_type": "code",
   "execution_count": 22,
   "id": "b89c1510",
   "metadata": {},
   "outputs": [],
   "source": [
    "df = df.sort_values('Date')"
   ]
  },
  {
   "cell_type": "code",
   "execution_count": 24,
   "id": "2722ff7d",
   "metadata": {},
   "outputs": [],
   "source": [
    "df  = df.reset_index()"
   ]
  },
  {
   "cell_type": "code",
   "execution_count": 26,
   "id": "ea05cb19",
   "metadata": {},
   "outputs": [
    {
     "data": {
      "text/plain": [
       "0.13878813424895053"
      ]
     },
     "execution_count": 26,
     "metadata": {},
     "output_type": "execute_result"
    }
   ],
   "source": [
    "df['prevClose'] = df.Close.shift(1)\n",
    "df['moving_avg_30'] = df.prevClose.rolling(window=30).mean()\n",
    "df['qty_traded'] = df.apply(lambda row: 1 if (row.moving_avg_30 - row.prevClose)/row.prevClose > 0.06 else 0 , axis=1)\n",
    "df['qty_traded'] =df.apply(lambda row: -1 if (row.prevClose -row.moving_avg_30)/row.prevClose > 0.06 else row.qty_traded , axis=1)\n",
    "df['trading_price'] = df.qty_traded * -1.0 * df.Close\n",
    "df['total_qty'] = df['qty_traded'].cumsum()\n",
    "df['inflow'] = df['trading_price']\n",
    "df['mktval'] = df['total_qty'] * df['Close']\n",
    "df.at[len(df)-1, 'inflow'] = df.at[len(df)-2, 'mktval']\n",
    "xirr(df.Date, df.inflow)"
   ]
  },
  {
   "cell_type": "code",
   "execution_count": 32,
   "id": "f365a0ba",
   "metadata": {},
   "outputs": [],
   "source": [
    "old_df = df.copy()"
   ]
  },
  {
   "cell_type": "code",
   "execution_count": 35,
   "id": "315acff9",
   "metadata": {},
   "outputs": [
    {
     "data": {
      "image/png": "[encoded data removed]",
      "text/plain": [
       "<Figure size 640x480 with 1 Axes>"
      ]
     },
     "metadata": {},
     "output_type": "display_data"
    }
   ],
   "source": [
    "import numpy as np\n",
    "import pandas as pd\n",
    "from math import sqrt\n",
    "import matplotlib.pyplot as plt\n",
    "from scipy.signal import savgol_filter\n",
    "from sklearn.linear_model import LinearRegression\n",
    "\n",
    "def pythag(pt1, pt2):\n",
    "    a_sq = (pt2[0] - pt1[0]) ** 2\n",
    "    b_sq = (pt2[1] - pt1[1]) ** 2\n",
    "    return sqrt(a_sq + b_sq)\n",
    "\n",
    "def regression_ceof(pts):\n",
    "    X = np.array([pt[0] for pt in pts]).reshape(-1, 1)\n",
    "    y = np.array([pt[1] for pt in pts])\n",
    "    model = LinearRegression()\n",
    "    model.fit(X, y)\n",
    "    return model.coef_[0], model.intercept_\n",
    "\n",
    "def local_min_max(pts):\n",
    "    local_min = []\n",
    "    local_max = []\n",
    "    prev_pts = [(0, pts[0]), (1, pts[1])]\n",
    "    for i in range(1, len(pts) - 1):\n",
    "        append_to = ''\n",
    "        if pts[i-1] > pts[i] < pts[i+1]:\n",
    "            append_to = 'min'\n",
    "        elif pts[i-1] < pts[i] > pts[i+1]:\n",
    "            append_to = 'max'\n",
    "        if append_to:\n",
    "            if local_min or local_max:\n",
    "                prev_distance = pythag(prev_pts[0], prev_pts[1]) * 0.5\n",
    "                curr_distance = pythag(prev_pts[1], (i, pts[i]))\n",
    "                if curr_distance >= prev_distance:\n",
    "                    prev_pts[0] = prev_pts[1]\n",
    "                    prev_pts[1] = (i, pts[i])\n",
    "                    if append_to == 'min':\n",
    "                        local_min.append((i, pts[i]))\n",
    "                    else:\n",
    "                        local_max.append((i, pts[i]))\n",
    "            else:\n",
    "                prev_pts[0] = prev_pts[1]\n",
    "                prev_pts[1] = (i, pts[i])\n",
    "                if append_to == 'min':\n",
    "                    local_min.append((i, pts[i]))\n",
    "                else:\n",
    "                    local_max.append((i, pts[i]))\n",
    "    return local_min, local_max\n",
    "\n",
    "series = df['Close']\n",
    "series.index = np.arange(series.shape[0])\n",
    "\n",
    "month_diff = series.shape[0] // 30\n",
    "if month_diff == 0:\n",
    "    month_diff = 1\n",
    "\n",
    "smooth = int(2 * month_diff + 3)\n",
    "\n",
    "pts = savgol_filter(series, smooth, 3)\n",
    "\n",
    "local_min, local_max = local_min_max(pts)\n",
    "\n",
    "local_min_slope, local_min_int = regression_ceof(local_min)\n",
    "local_max_slope, local_max_int = regression_ceof(local_max)\n",
    "support = (local_min_slope * np.array(series.index)) + local_min_int\n",
    "resistance = (local_max_slope * np.array(series.index)) + local_max_int\n",
    "\n",
    "plt.title('NIFTY')\n",
    "plt.xlabel('Days')\n",
    "plt.ylabel('Prices')\n",
    "plt.plot(series, label='NIFTY')\n",
    "plt.plot(support, label='Support', c='r')\n",
    "plt.plot(resistance, label='Resistance', c='g')\n",
    "plt.legend()\n",
    "plt.show()"
   ]
  },
  {
   "cell_type": "code",
   "execution_count": 33,
   "id": "55f244bf",
   "metadata": {},
   "outputs": [
    {
     "data": {
      "text/plain": [
       "2044"
      ]
     },
     "execution_count": 33,
     "metadata": {},
     "output_type": "execute_result"
    }
   ],
   "source": [
    "len(df)"
   ]
  },
  {
   "cell_type": "code",
   "execution_count": 34,
   "id": "f9e8d85b",
   "metadata": {},
   "outputs": [],
   "source": [
    "df = df[:250]"
   ]
  },
  {
   "cell_type": "code",
   "execution_count": 37,
   "id": "1ef80339",
   "metadata": {},
   "outputs": [
    {
     "data": {
      "text/plain": [
       "7824.1196166854115"
      ]
     },
     "execution_count": 37,
     "metadata": {},
     "output_type": "execute_result"
    }
   ],
   "source": [
    "support[-1]"
   ]
  },
  {
   "cell_type": "code",
   "execution_count": 38,
   "id": "01349c9d",
   "metadata": {},
   "outputs": [
    {
     "data": {
      "text/plain": [
       "8288.459439922748"
      ]
     },
     "execution_count": 38,
     "metadata": {},
     "output_type": "execute_result"
    }
   ],
   "source": [
    "resistance[-1]"
   ]
  },
  {
   "cell_type": "code",
   "execution_count": 59,
   "id": "3a03bb2d",
   "metadata": {},
   "outputs": [],
   "source": [
    "df = old_df.copy()"
   ]
  },
  {
   "cell_type": "code",
   "execution_count": 40,
   "id": "51724f31",
   "metadata": {},
   "outputs": [
    {
     "data": {
      "text/plain": [
       "2044"
      ]
     },
     "execution_count": 40,
     "metadata": {},
     "output_type": "execute_result"
    }
   ],
   "source": [
    "len(df)"
   ]
  },
  {
   "cell_type": "code",
   "execution_count": 42,
   "id": "e0647ce7",
   "metadata": {},
   "outputs": [],
   "source": [
    "df['Date'] = df['HistoricalDate']"
   ]
  },
  {
   "cell_type": "code",
   "execution_count": 44,
   "id": "e8c9c698",
   "metadata": {},
   "outputs": [
    {
     "data": {
      "text/plain": [
       "249"
      ]
     },
     "execution_count": 44,
     "metadata": {},
     "output_type": "execute_result"
    }
   ],
   "source": [
    "len(df[df.Date<='2016-01-01'])"
   ]
  },
  {
   "cell_type": "code",
   "execution_count": 115,
   "id": "6262438a",
   "metadata": {},
   "outputs": [],
   "source": [
    "def get_rolling_swing(row):\n",
    "    series = df[df.Date<row.Date]['Close']\n",
    "    if len(series)<200:\n",
    "        return [None, None]\n",
    "    series = series[-200:]\n",
    "    \n",
    "    series.index = np.arange(series.shape[0])\n",
    "\n",
    "    month_diff = series.shape[0] // 30\n",
    "    if month_diff == 0:\n",
    "        month_diff = 1\n",
    "\n",
    "    smooth = int(2 * month_diff + 3)\n",
    "\n",
    "    pts = savgol_filter(series, smooth, 3)\n",
    "\n",
    "    local_min, local_max = local_min_max(pts)\n",
    "    \n",
    "    \n",
    "    if len(local_min):\n",
    "        local_min_slope, local_min_int = regression_ceof(local_min)\n",
    "        support = (local_min_slope * np.array(series.index)) + local_min_int\n",
    "    else:\n",
    "        support = [None,]\n",
    "        \n",
    "    if len(local_max):\n",
    "        local_max_slope, local_max_int = regression_ceof(local_max)\n",
    "        resistance = (local_max_slope * np.array(series.index)) + local_max_int\n",
    "    else :\n",
    "        resistance = [None,]\n",
    "\n",
    "    return [support[-1],resistance[-1]]"
   ]
  },
  {
   "cell_type": "code",
   "execution_count": 116,
   "id": "95a9dbf6",
   "metadata": {},
   "outputs": [],
   "source": [
    "df[['support', 'resistance']] = df.apply(lambda row:get_rolling_swing(row), axis=1, result_type='expand')"
   ]
  },
  {
   "cell_type": "code",
   "execution_count": 117,
   "id": "9e96dc32",
   "metadata": {},
   "outputs": [],
   "source": [
    "df['prevClose'] = df.Close.shift(1) "
   ]
  },
  {
   "cell_type": "code",
   "execution_count": 118,
   "id": "5b9cb5e4",
   "metadata": {},
   "outputs": [],
   "source": [
    "df['supported'] = df.apply(lambda row: 1 if row.prevClose<row.support else 0 , axis =1)"
   ]
  },
  {
   "cell_type": "code",
   "execution_count": 119,
   "id": "ecd41840",
   "metadata": {},
   "outputs": [],
   "source": [
    "df['resisted'] = df.apply(lambda row: 1 if row.prevClose>row.resistance else 0, axis =1)"
   ]
  },
  {
   "cell_type": "code",
   "execution_count": 120,
   "id": "8ef99e95",
   "metadata": {},
   "outputs": [],
   "source": [
    "df['rolling_support'] = df.supported.rolling(10, min_periods=1).sum()\n",
    "df['rolling_resistance'] = df.resisted.rolling(10, min_periods=1).sum()"
   ]
  },
  {
   "cell_type": "code",
   "execution_count": 121,
   "id": "8c988c27",
   "metadata": {},
   "outputs": [
    {
     "data": {
      "text/plain": [
       "0.11014445278093385"
      ]
     },
     "execution_count": 121,
     "metadata": {},
     "output_type": "execute_result"
    }
   ],
   "source": [
    "df['qty_traded'] = df.apply(lambda row: 1 if row.rolling_support == 1.0 else 0 , axis=1)\n",
    "df['qty_traded'] =df.apply(lambda row: -1 if row.rolling_resistance == 1.0 else row.qty_traded , axis=1)\n",
    "df['trading_price'] = df.qty_traded * -1.0 * df.Close\n",
    "df['total_qty'] = df['qty_traded'].cumsum()\n",
    "df['inflow'] = df['trading_price']\n",
    "df['mktval'] = df['total_qty'] * df['Close']\n",
    "df.at[len(df)-1, 'inflow'] = df.at[len(df)-2, 'mktval']\n",
    "xirr(df.Date, df.inflow)"
   ]
  },
  {
   "cell_type": "code",
   "execution_count": 127,
   "id": "723fdf84",
   "metadata": {},
   "outputs": [],
   "source": [
    "df = df [['Date', 'Close']]\n"
   ]
  },
  {
   "cell_type": "code",
   "execution_count": 128,
   "id": "ff83aaa5",
   "metadata": {},
   "outputs": [],
   "source": [
    "df['prevClose'] = df.Close.shift(1) \n",
    "df['price'] = df['prevClose']"
   ]
  },
  {
   "cell_type": "code",
   "execution_count": 129,
   "id": "95f96081",
   "metadata": {},
   "outputs": [
    {
     "data": {
      "image/png": "[encoded data removed]",
      "text/plain": [
       "<Figure size 640x480 with 1 Axes>"
      ]
     },
     "metadata": {},
     "output_type": "display_data"
    },
    {
     "name": "stdout",
     "output_type": "stream",
     "text": [
      "Support levels: [ 8382.6   7686.    8316.3  10897.75 10986.5  10715.05 14683.7  14893.2\n",
      " 15952.4  17477.65 16213.05]\n",
      "Resistance levels: [ 9977.5 10255.  17842.9 16498.5]\n"
     ]
    }
   ],
   "source": [
    "import pandas as pd\n",
    "import numpy as np\n",
    "import matplotlib.pyplot as plt\n",
    "\n",
    "# Load the price data into a dataframe\n",
    "#df = pd.read_csv('price_data.csv')\n",
    "\n",
    "# Calculate rolling minimum and maximum values\n",
    "window_size = 10 # adjust this value to change the sensitivity of the detection\n",
    "df['rolling_min'] = df['price'].rolling(window=window_size, center=True).min()\n",
    "df['rolling_max'] = df['price'].rolling(window=window_size, center=True).max()\n",
    "\n",
    "# Find local minima and maxima values\n",
    "local_minima = (df['rolling_min'] == df['price']) & (df['rolling_min'] != df['rolling_min'].shift(1))\n",
    "local_maxima = (df['rolling_max'] == df['price']) & (df['rolling_max'] != df['rolling_max'].shift(1))\n",
    "\n",
    "# Plot the price data and the support and resistance levels\n",
    "plt.plot(df['price'])\n",
    "plt.scatter(df.index[local_minima], df['price'][local_minima], color='green')\n",
    "plt.scatter(df.index[local_maxima], df['price'][local_maxima], color='red')\n",
    "plt.show()\n",
    "\n",
    "# Print the support and resistance levels\n",
    "support = df[local_minima]['price']\n",
    "resistance = df[local_maxima]['price']\n",
    "print(\"Support levels:\", support.values)\n",
    "print(\"Resistance levels:\", resistance.values)\n"
   ]
  },
  {
   "cell_type": "code",
   "execution_count": 131,
   "id": "d7f139fa",
   "metadata": {},
   "outputs": [
    {
     "data": {
      "text/html": [
       "<div>\n",
       "<style scoped>\n",
       "    .dataframe tbody tr th:only-of-type {\n",
       "        vertical-align: middle;\n",
       "    }\n",
       "\n",
       "    .dataframe tbody tr th {\n",
       "        vertical-align: top;\n",
       "    }\n",
       "\n",
       "    .dataframe thead th {\n",
       "        text-align: right;\n",
       "    }\n",
       "</style>\n",
       "<table border=\"1\" class=\"dataframe\">\n",
       "  <thead>\n",
       "    <tr style=\"text-align: right;\">\n",
       "      <th></th>\n",
       "      <th>Date</th>\n",
       "      <th>Close</th>\n",
       "      <th>prevClose</th>\n",
       "      <th>price</th>\n",
       "      <th>rolling_min</th>\n",
       "      <th>rolling_max</th>\n",
       "    </tr>\n",
       "  </thead>\n",
       "  <tbody>\n",
       "    <tr>\n",
       "      <th>0</th>\n",
       "      <td>2015-01-01</td>\n",
       "      <td>8295.5</td>\n",
       "      <td>NaN</td>\n",
       "      <td>NaN</td>\n",
       "      <td>NaN</td>\n",
       "      <td>NaN</td>\n",
       "    </tr>\n",
       "    <tr>\n",
       "      <th>1</th>\n",
       "      <td>2015-01-02</td>\n",
       "      <td>8399.9</td>\n",
       "      <td>8295.5</td>\n",
       "      <td>8295.5</td>\n",
       "      <td>NaN</td>\n",
       "      <td>NaN</td>\n",
       "    </tr>\n",
       "    <tr>\n",
       "      <th>2</th>\n",
       "      <td>2015-01-05</td>\n",
       "      <td>8383.3</td>\n",
       "      <td>8399.9</td>\n",
       "      <td>8399.9</td>\n",
       "      <td>NaN</td>\n",
       "      <td>NaN</td>\n",
       "    </tr>\n",
       "    <tr>\n",
       "      <th>3</th>\n",
       "      <td>2015-01-06</td>\n",
       "      <td>8133.9</td>\n",
       "      <td>8383.3</td>\n",
       "      <td>8383.3</td>\n",
       "      <td>NaN</td>\n",
       "      <td>NaN</td>\n",
       "    </tr>\n",
       "    <tr>\n",
       "      <th>4</th>\n",
       "      <td>2015-01-07</td>\n",
       "      <td>8112.3</td>\n",
       "      <td>8133.9</td>\n",
       "      <td>8133.9</td>\n",
       "      <td>NaN</td>\n",
       "      <td>NaN</td>\n",
       "    </tr>\n",
       "  </tbody>\n",
       "</table>\n",
       "</div>"
      ],
      "text/plain": [
       "        Date   Close  prevClose   price  rolling_min  rolling_max\n",
       "0 2015-01-01  8295.5        NaN     NaN          NaN          NaN\n",
       "1 2015-01-02  8399.9     8295.5  8295.5          NaN          NaN\n",
       "2 2015-01-05  8383.3     8399.9  8399.9          NaN          NaN\n",
       "3 2015-01-06  8133.9     8383.3  8383.3          NaN          NaN\n",
       "4 2015-01-07  8112.3     8133.9  8133.9          NaN          NaN"
      ]
     },
     "execution_count": 131,
     "metadata": {},
     "output_type": "execute_result"
    }
   ],
   "source": [
    "df.head()"
   ]
  },
  {
   "cell_type": "code",
   "execution_count": 132,
   "id": "444c3020",
   "metadata": {},
   "outputs": [],
   "source": [
    "# Eval hammer "
   ]
  },
  {
   "cell_type": "code",
   "execution_count": 133,
   "id": "350ccaf8",
   "metadata": {},
   "outputs": [],
   "source": [
    "# We want to buy when there is hammer candlestick : \n",
    "# open - close is negative but open to close gap is <0.5 high to low gap "
   ]
  },
  {
   "cell_type": "code",
   "execution_count": 134,
   "id": "78f2f468",
   "metadata": {},
   "outputs": [],
   "source": [
    "import pandas as pd \n",
    "\n",
    "df = pd.read_csv('nifty.csv')\n",
    "df['Date'] = df['HistoricalDate']\n",
    "df = df.sort_values('Date')\n",
    "df  = df.reset_index()\n",
    "df['price'] = df.CLOSE\n",
    "df['prevPrice'] = df.price.shift(1)\n"
   ]
  },
  {
   "cell_type": "code",
   "execution_count": 170,
   "id": "3a87245b",
   "metadata": {},
   "outputs": [],
   "source": [
    "df = df[df.Date < '20200101']\n",
    "df = df[['Date', 'OPEN', 'HIGH', 'CLOSE', 'LOW']]"
   ]
  },
  {
   "cell_type": "code",
   "execution_count": 191,
   "id": "a73786ab",
   "metadata": {},
   "outputs": [],
   "source": [
    "df['Price'] = df.CLOSE.shift(-2)\n",
    "df['5dayPrice'] = df.CLOSE.shift(-5)"
   ]
  },
  {
   "cell_type": "code",
   "execution_count": 211,
   "id": "59c250a7",
   "metadata": {},
   "outputs": [],
   "source": [
    "def hammer_trade(row):\n",
    "    \"\"\"\n",
    "    if row.OPEN > row.CLOSE : \n",
    "        if (row.OPEN - row.CLOSE)/ (row.HIGH - row.LOW) < 0.25:\n",
    "            return 1\n",
    "    else:\n",
    "        return 0\n",
    "    \"\"\"\n",
    "    if row.CLOSE > row.OPEN : \n",
    "        if (row.CLOSE - row.OPEN)/ (row.HIGH - row.LOW) < 0.25:\n",
    "            return -1\n",
    "    else : \n",
    "        return 0"
   ]
  },
  {
   "cell_type": "code",
   "execution_count": 212,
   "id": "090e5073",
   "metadata": {},
   "outputs": [
    {
     "data": {
      "text/plain": [
       "0.11833844691616463"
      ]
     },
     "execution_count": 212,
     "metadata": {},
     "output_type": "execute_result"
    }
   ],
   "source": [
    "df['qty_traded'] = df.apply(lambda row: hammer_trade(row) , axis=1)\n",
    "df['trading_price'] = df.qty_traded * -1.0 * df.Price\n",
    "df['total_qty'] = df['qty_traded'].cumsum()\n",
    "df['inflow'] = df['trading_price']\n",
    "df['mktval'] = df['total_qty'] * df['Price']\n",
    "df.at[len(df)-1, 'inflow'] = df.at[len(df)-3, 'mktval']\n",
    "df['inflow'] = df.inflow.fillna(0)\n",
    "xirr(df.Date, df.inflow)"
   ]
  },
  {
   "cell_type": "code",
   "execution_count": 209,
   "id": "6571f779",
   "metadata": {},
   "outputs": [
    {
     "data": {
      "text/html": [
       "<div>\n",
       "<style scoped>\n",
       "    .dataframe tbody tr th:only-of-type {\n",
       "        vertical-align: middle;\n",
       "    }\n",
       "\n",
       "    .dataframe tbody tr th {\n",
       "        vertical-align: top;\n",
       "    }\n",
       "\n",
       "    .dataframe thead th {\n",
       "        text-align: right;\n",
       "    }\n",
       "</style>\n",
       "<table border=\"1\" class=\"dataframe\">\n",
       "  <thead>\n",
       "    <tr style=\"text-align: right;\">\n",
       "      <th></th>\n",
       "      <th>Date</th>\n",
       "      <th>OPEN</th>\n",
       "      <th>HIGH</th>\n",
       "      <th>CLOSE</th>\n",
       "      <th>LOW</th>\n",
       "      <th>Price</th>\n",
       "      <th>qty_traded</th>\n",
       "      <th>trading_price</th>\n",
       "      <th>total_qty</th>\n",
       "      <th>inflow</th>\n",
       "      <th>mktval</th>\n",
       "      <th>5dayPrice</th>\n",
       "    </tr>\n",
       "  </thead>\n",
       "  <tbody>\n",
       "    <tr>\n",
       "      <th>1481</th>\n",
       "      <td>2020-12-24</td>\n",
       "      <td>13803.15</td>\n",
       "      <td>13882.80</td>\n",
       "      <td>13862.10</td>\n",
       "      <td>13748.15</td>\n",
       "      <td>14037.65</td>\n",
       "      <td>0.0</td>\n",
       "      <td>-0.0</td>\n",
       "      <td>167.0</td>\n",
       "      <td>-0.0</td>\n",
       "      <td>2344287.55</td>\n",
       "      <td>NaN</td>\n",
       "    </tr>\n",
       "    <tr>\n",
       "      <th>1482</th>\n",
       "      <td>2020-12-28</td>\n",
       "      <td>13930.80</td>\n",
       "      <td>13997.00</td>\n",
       "      <td>13986.70</td>\n",
       "      <td>13929.20</td>\n",
       "      <td>14088.45</td>\n",
       "      <td>0.0</td>\n",
       "      <td>-0.0</td>\n",
       "      <td>167.0</td>\n",
       "      <td>-0.0</td>\n",
       "      <td>2352771.15</td>\n",
       "      <td>NaN</td>\n",
       "    </tr>\n",
       "    <tr>\n",
       "      <th>1483</th>\n",
       "      <td>2020-12-29</td>\n",
       "      <td>14028.05</td>\n",
       "      <td>14077.95</td>\n",
       "      <td>14037.65</td>\n",
       "      <td>13964.00</td>\n",
       "      <td>14090.75</td>\n",
       "      <td>0.0</td>\n",
       "      <td>-0.0</td>\n",
       "      <td>167.0</td>\n",
       "      <td>-0.0</td>\n",
       "      <td>2353155.25</td>\n",
       "      <td>NaN</td>\n",
       "    </tr>\n",
       "    <tr>\n",
       "      <th>1484</th>\n",
       "      <td>2020-12-30</td>\n",
       "      <td>14086.45</td>\n",
       "      <td>14103.85</td>\n",
       "      <td>14088.45</td>\n",
       "      <td>13969.80</td>\n",
       "      <td>NaN</td>\n",
       "      <td>0.0</td>\n",
       "      <td>NaN</td>\n",
       "      <td>167.0</td>\n",
       "      <td>0.0</td>\n",
       "      <td>NaN</td>\n",
       "      <td>NaN</td>\n",
       "    </tr>\n",
       "    <tr>\n",
       "      <th>1485</th>\n",
       "      <td>2020-12-31</td>\n",
       "      <td>14080.80</td>\n",
       "      <td>14127.60</td>\n",
       "      <td>14090.75</td>\n",
       "      <td>14048.10</td>\n",
       "      <td>NaN</td>\n",
       "      <td>0.0</td>\n",
       "      <td>NaN</td>\n",
       "      <td>167.0</td>\n",
       "      <td>0.0</td>\n",
       "      <td>NaN</td>\n",
       "      <td>NaN</td>\n",
       "    </tr>\n",
       "  </tbody>\n",
       "</table>\n",
       "</div>"
      ],
      "text/plain": [
       "            Date      OPEN      HIGH     CLOSE       LOW     Price  \\\n",
       "1481  2020-12-24  13803.15  13882.80  13862.10  13748.15  14037.65   \n",
       "1482  2020-12-28  13930.80  13997.00  13986.70  13929.20  14088.45   \n",
       "1483  2020-12-29  14028.05  14077.95  14037.65  13964.00  14090.75   \n",
       "1484  2020-12-30  14086.45  14103.85  14088.45  13969.80       NaN   \n",
       "1485  2020-12-31  14080.80  14127.60  14090.75  14048.10       NaN   \n",
       "\n",
       "      qty_traded  trading_price  total_qty  inflow      mktval  5dayPrice  \n",
       "1481         0.0           -0.0      167.0    -0.0  2344287.55        NaN  \n",
       "1482         0.0           -0.0      167.0    -0.0  2352771.15        NaN  \n",
       "1483         0.0           -0.0      167.0    -0.0  2353155.25        NaN  \n",
       "1484         0.0            NaN      167.0     0.0         NaN        NaN  \n",
       "1485         0.0            NaN      167.0     0.0         NaN        NaN  "
      ]
     },
     "execution_count": 209,
     "metadata": {},
     "output_type": "execute_result"
    }
   ],
   "source": [
    "df.tail()"
   ]
  },
  {
   "cell_type": "code",
   "execution_count": 198,
   "id": "7808f68b",
   "metadata": {},
   "outputs": [],
   "source": [
    "pos_trades_made = df[df.qty_traded == 1]"
   ]
  },
  {
   "cell_type": "code",
   "execution_count": 195,
   "id": "5f399c96",
   "metadata": {},
   "outputs": [
    {
     "data": {
      "text/plain": [
       "167"
      ]
     },
     "execution_count": 195,
     "metadata": {},
     "output_type": "execute_result"
    }
   ],
   "source": [
    "len(pos_trades_made)"
   ]
  },
  {
   "cell_type": "code",
   "execution_count": 196,
   "id": "01303eb1",
   "metadata": {},
   "outputs": [
    {
     "data": {
      "text/plain": [
       "94"
      ]
     },
     "execution_count": 196,
     "metadata": {},
     "output_type": "execute_result"
    }
   ],
   "source": [
    "len(pos_trades_made[pos_trades_made['5dayPrice'] > pos_trades_made.CLOSE])"
   ]
  },
  {
   "cell_type": "code",
   "execution_count": 178,
   "id": "237fd21a",
   "metadata": {},
   "outputs": [
    {
     "data": {
      "image/png": "[encoded data removed]",
      "text/plain": [
       "<Figure size 640x480 with 1 Axes>"
      ]
     },
     "metadata": {},
     "output_type": "display_data"
    }
   ],
   "source": [
    "plt.plot(df['CLOSE'])\n",
    "plt.scatter(df[df.qty_traded == 1].index, df['CLOSE'][df.qty_traded == 1], color='green')\n",
    "#plt.scatter(df[df.qty_traded == -1].index, df['CLOSE'][df.qty_traded == -1], color='red')\n",
    "plt.show()\n"
   ]
  },
  {
   "cell_type": "code",
   "execution_count": 161,
   "id": "8660e37a",
   "metadata": {},
   "outputs": [
    {
     "data": {
      "text/plain": [
       "Int64Index([   2,    4,    6,    9,   24,   25,   31,   36,   37,   40,\n",
       "            ...\n",
       "            2019, 2021, 2022, 2029, 2031, 2034, 2035, 2037, 2038, 2040],\n",
       "           dtype='int64', length=514)"
      ]
     },
     "execution_count": 161,
     "metadata": {},
     "output_type": "execute_result"
    }
   ],
   "source": [
    "df[df.qty_traded == 1].index"
   ]
  },
  {
   "cell_type": "code",
   "execution_count": 179,
   "id": "1bc20000",
   "metadata": {},
   "outputs": [],
   "source": [
    "pos_trades = df['CLOSE'][df.qty_traded == 1]"
   ]
  },
  {
   "cell_type": "code",
   "execution_count": 180,
   "id": "798a4c4a",
   "metadata": {},
   "outputs": [
    {
     "data": {
      "text/plain": [
       "10122.672155688622"
      ]
     },
     "execution_count": 180,
     "metadata": {},
     "output_type": "execute_result"
    }
   ],
   "source": [
    "pos_trades.mean()"
   ]
  },
  {
   "cell_type": "code",
   "execution_count": 181,
   "id": "a6d91978",
   "metadata": {},
   "outputs": [],
   "source": [
    "neg_trades = df['CLOSE'][df.qty_traded == -1]"
   ]
  },
  {
   "cell_type": "code",
   "execution_count": 182,
   "id": "bda6e5e1",
   "metadata": {},
   "outputs": [
    {
     "data": {
      "text/plain": [
       "10143.11946308725"
      ]
     },
     "execution_count": 182,
     "metadata": {},
     "output_type": "execute_result"
    }
   ],
   "source": [
    "neg_trades.mean()"
   ]
  },
  {
   "cell_type": "code",
   "execution_count": 183,
   "id": "fba4bf65",
   "metadata": {},
   "outputs": [
    {
     "data": {
      "text/plain": [
       "0.2074688796680498"
      ]
     },
     "execution_count": 183,
     "metadata": {},
     "output_type": "execute_result"
    }
   ],
   "source": [
    "(10143-10122)*100/10122"
   ]
  },
  {
   "cell_type": "code",
   "execution_count": 199,
   "id": "095835ac",
   "metadata": {},
   "outputs": [
    {
     "name": "stdout",
     "output_type": "stream",
     "text": [
      "            Date      OPEN      HIGH     CLOSE       LOW     Price  \\\n",
      "4     2015-01-07   8127.35   8160.05   8112.30   8070.00   8288.90   \n",
      "6     2015-01-09   8300.60   8317.25   8288.90   8209.70   8305.30   \n",
      "24    2015-02-05   8722.45   8812.85   8688.40   8661.80   8500.40   \n",
      "36    2015-02-24   8766.55   8787.40   8754.20   8718.45   8670.90   \n",
      "40    2015-02-28   8902.10   8917.10   8884.50   8737.30   8991.40   \n",
      "...          ...       ...       ...       ...       ...       ...   \n",
      "1452  2020-11-12  12766.75  12805.70  12764.05  12699.90  12864.60   \n",
      "1459  2020-11-23  13062.35  13076.00  13036.65  12946.65  12959.80   \n",
      "1469  2020-12-08  13536.75  13575.45  13529.85  13439.30  13612.35   \n",
      "1473  2020-12-14  13706.20  13731.05  13693.20  13615.45  13808.05   \n",
      "1477  2020-12-18  13877.75  13886.15  13872.80  13767.45  13577.35   \n",
      "\n",
      "      qty_traded  trading_price  total_qty    inflow     mktval  5dayPrice  \n",
      "4            1.0       -8288.90        1.0  -8288.90    8288.90    8286.40  \n",
      "6            1.0       -8305.30        2.0  -8305.30   16610.60    8512.00  \n",
      "24           1.0       -8500.40       -3.0  -8500.40  -25501.20    8714.70  \n",
      "36           1.0       -8670.90       -3.0  -8670.90  -26012.70    8948.50  \n",
      "40           1.0       -8991.40       -2.0  -8991.40  -17982.80    8763.30  \n",
      "...          ...            ...        ...       ...        ...        ...  \n",
      "1452         1.0      -12864.60       23.0 -12864.60  295885.80   12864.85  \n",
      "1459         1.0      -12959.80       24.0 -12959.80  311035.20   13225.70  \n",
      "1469         1.0      -13612.35       24.0 -13612.35  326696.40   13697.70  \n",
      "1473         1.0      -13808.05       23.0 -13808.05  317585.15   13431.30  \n",
      "1477         1.0      -13577.35       21.0 -13577.35  285124.35   13986.70  \n",
      "\n",
      "[167 rows x 12 columns]\n"
     ]
    }
   ],
   "source": [
    "print(pos_trades_made)"
   ]
  },
  {
   "cell_type": "code",
   "execution_count": 200,
   "id": "24dfd34e",
   "metadata": {},
   "outputs": [],
   "source": [
    "pos_trades_made['5dyret'] = pos_trades_made['5dayPrice']/pos_trades_made['Price']"
   ]
  },
  {
   "cell_type": "code",
   "execution_count": 202,
   "id": "e799f366",
   "metadata": {},
   "outputs": [
    {
     "data": {
      "text/plain": [
       "4       0.999698\n",
       "6       1.024579\n",
       "24      1.050409\n",
       "36      1.084038\n",
       "40      1.056537\n",
       "          ...   \n",
       "1452    1.063895\n",
       "1459    1.085723\n",
       "1469    1.092530\n",
       "1473    1.062721\n",
       "1477    1.094761\n",
       "Name: 5dyret, Length: 167, dtype: float64"
      ]
     },
     "execution_count": 202,
     "metadata": {},
     "output_type": "execute_result"
    }
   ],
   "source": [
    "pos_trades_made['5dyret'].cumprod()"
   ]
  },
  {
   "cell_type": "code",
   "execution_count": null,
   "id": "97335e0d",
   "metadata": {},
   "outputs": [],
   "source": []
  }
 ],
 "metadata": {
  "kernelspec": {
   "display_name": "Python 3 (ipykernel)",
   "language": "python",
   "name": "python3"
  },
  "language_info": {
   "codemirror_mode": {
    "name": "ipython",
    "version": 3
   },
   "file_extension": ".py",
   "mimetype": "text/x-python",
   "name": "python",
   "nbconvert_exporter": "python",
   "pygments_lexer": "ipython3",
   "version": "3.10.10"
  }
 },
 "nbformat": 4,
 "nbformat_minor": 5
}
