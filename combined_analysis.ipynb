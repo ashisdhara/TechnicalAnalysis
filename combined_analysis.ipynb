{
 "cells": [
  {
   "cell_type": "code",
   "execution_count": 1,
   "id": "c2d50e54",
   "metadata": {},
   "outputs": [],
   "source": [
    "# This is a notebook that would apply the following techniques \n",
    "# RollingMeanDeviation\n",
    "# Support - resistance \n",
    "# Momentum\n",
    "# Hammer and Hanging Man"
   ]
  },
  {
   "cell_type": "code",
   "execution_count": 2,
   "id": "309e22eb",
   "metadata": {},
   "outputs": [],
   "source": [
    "# Note that for all analysis we would use prev day info (high, low, open, close)\n",
    "# For evaluation, we would assume that the trades are made on Close (not prev day close)\n"
   ]
  },
  {
   "cell_type": "code",
   "execution_count": 4,
   "id": "e8974a2b",
   "metadata": {},
   "outputs": [],
   "source": [
    "# Writing this notebook with the idea of making this as modular as possible\n"
   ]
  },
  {
   "cell_type": "code",
   "execution_count": 13,
   "id": "e185b079",
   "metadata": {},
   "outputs": [],
   "source": [
    "import pandas as pd\n",
    "from pyxirr import xirr"
   ]
  },
  {
   "cell_type": "code",
   "execution_count": 9,
   "id": "849004d6",
   "metadata": {},
   "outputs": [],
   "source": [
    "# Loading the dataset \n",
    "# To convert this into a function ideally\n",
    "df = pd.read_csv('nifty.csv')\n",
    "df.rename(columns={'CLOSE':'Close', 'HistoricalDate':'Date'}, inplace=True)\n",
    "df = df.sort_values('Date')\n",
    "df  = df.reset_index()\n",
    "df['prevClose'] = df.Close.shift(1)"
   ]
  },
  {
   "cell_type": "code",
   "execution_count": 10,
   "id": "3879f957",
   "metadata": {},
   "outputs": [],
   "source": [
    "## Rolling Mean deviation analysis"
   ]
  },
  {
   "cell_type": "code",
   "execution_count": 11,
   "id": "c65f6d5f",
   "metadata": {},
   "outputs": [],
   "source": [
    "df['moving_avg_30'] = df.prevClose.rolling(window=30).mean()\n",
    "df['qty_traded'] = df.apply(lambda row: 1 if (row.moving_avg_30 - row.prevClose)/row.prevClose > 0.06 else 0 , axis=1)\n",
    "df['qty_traded'] =df.apply(lambda row: -1 if (row.prevClose -row.moving_avg_30)/row.prevClose > 0.06 else row.qty_traded , axis=1)"
   ]
  },
  {
   "cell_type": "code",
   "execution_count": 15,
   "id": "188a6826",
   "metadata": {},
   "outputs": [
    {
     "data": {
      "text/plain": [
       "0.13657459607610345"
      ]
     },
     "execution_count": 15,
     "metadata": {},
     "output_type": "execute_result"
    }
   ],
   "source": [
    "df['trading_price'] = df.qty_traded * -1.0 * df.Close\n",
    "df['total_qty'] = df['qty_traded'].cumsum()\n",
    "df['inflow'] = df['trading_price']\n",
    "df['mktval'] = df['total_qty'] * df['Close']\n",
    "df.at[len(df)-1, 'inflow'] = df.at[len(df)-2, 'mktval']\n",
    "xirr(df.Date, df.inflow)"
   ]
  },
  {
   "cell_type": "code",
   "execution_count": 16,
   "id": "3a0e65b8",
   "metadata": {},
   "outputs": [],
   "source": [
    "## Support Resistance"
   ]
  },
  {
   "cell_type": "code",
   "execution_count": 17,
   "id": "4a446a38",
   "metadata": {},
   "outputs": [],
   "source": [
    "import numpy as np\n",
    "import pandas as pd\n",
    "from math import sqrt\n",
    "import matplotlib.pyplot as plt\n",
    "from scipy.signal import savgol_filter\n",
    "from sklearn.linear_model import LinearRegression\n",
    "\n",
    "def pythag(pt1, pt2):\n",
    "    a_sq = (pt2[0] - pt1[0]) ** 2\n",
    "    b_sq = (pt2[1] - pt1[1]) ** 2\n",
    "    return sqrt(a_sq + b_sq)\n",
    "\n",
    "def regression_ceof(pts):\n",
    "    X = np.array([pt[0] for pt in pts]).reshape(-1, 1)\n",
    "    y = np.array([pt[1] for pt in pts])\n",
    "    model = LinearRegression()\n",
    "    model.fit(X, y)\n",
    "    return model.coef_[0], model.intercept_\n",
    "\n",
    "def local_min_max(pts):\n",
    "    local_min = []\n",
    "    local_max = []\n",
    "    prev_pts = [(0, pts[0]), (1, pts[1])]\n",
    "    for i in range(1, len(pts) - 1):\n",
    "        append_to = ''\n",
    "        if pts[i-1] > pts[i] < pts[i+1]:\n",
    "            append_to = 'min'\n",
    "        elif pts[i-1] < pts[i] > pts[i+1]:\n",
    "            append_to = 'max'\n",
    "        if append_to:\n",
    "            if local_min or local_max:\n",
    "                prev_distance = pythag(prev_pts[0], prev_pts[1]) * 0.5\n",
    "                curr_distance = pythag(prev_pts[1], (i, pts[i]))\n",
    "                if curr_distance >= prev_distance:\n",
    "                    prev_pts[0] = prev_pts[1]\n",
    "                    prev_pts[1] = (i, pts[i])\n",
    "                    if append_to == 'min':\n",
    "                        local_min.append((i, pts[i]))\n",
    "                    else:\n",
    "                        local_max.append((i, pts[i]))\n",
    "            else:\n",
    "                prev_pts[0] = prev_pts[1]\n",
    "                prev_pts[1] = (i, pts[i])\n",
    "                if append_to == 'min':\n",
    "                    local_min.append((i, pts[i]))\n",
    "                else:\n",
    "                    local_max.append((i, pts[i]))\n",
    "    return local_min, local_max\n"
   ]
  },
  {
   "cell_type": "code",
   "execution_count": 18,
   "id": "5aa4c073",
   "metadata": {},
   "outputs": [],
   "source": [
    "def get_rolling_swing(row):\n",
    "    series = df[df.Date<row.Date]['Close']\n",
    "    if len(series)<200:\n",
    "        return [None, None]\n",
    "    series = series[-200:]\n",
    "    \n",
    "    series.index = np.arange(series.shape[0])\n",
    "\n",
    "    month_diff = series.shape[0] // 30\n",
    "    if month_diff == 0:\n",
    "        month_diff = 1\n",
    "\n",
    "    smooth = int(2 * month_diff + 3)\n",
    "\n",
    "    pts = savgol_filter(series, smooth, 3)\n",
    "\n",
    "    local_min, local_max = local_min_max(pts)\n",
    "    \n",
    "    \n",
    "    if len(local_min):\n",
    "        local_min_slope, local_min_int = regression_ceof(local_min)\n",
    "        support = (local_min_slope * np.array(series.index)) + local_min_int\n",
    "    else:\n",
    "        support = [None,]\n",
    "        \n",
    "    if len(local_max):\n",
    "        local_max_slope, local_max_int = regression_ceof(local_max)\n",
    "        resistance = (local_max_slope * np.array(series.index)) + local_max_int\n",
    "    else :\n",
    "        resistance = [None,]\n",
    "\n",
    "    return [support[-1],resistance[-1]]"
   ]
  },
  {
   "cell_type": "code",
   "execution_count": 19,
   "id": "b6690a74",
   "metadata": {},
   "outputs": [],
   "source": [
    "df[['support', 'resistance']] = df.apply(lambda row:get_rolling_swing(row), axis=1, result_type='expand')"
   ]
  },
  {
   "cell_type": "code",
   "execution_count": 20,
   "id": "4ef07b81",
   "metadata": {},
   "outputs": [],
   "source": [
    "df['supported'] = df.apply(lambda row: 1 if row.prevClose<row.support else 0 , axis =1)\n",
    "df['resisted'] = df.apply(lambda row: 1 if row.prevClose>row.resistance else 0, axis =1)"
   ]
  },
  {
   "cell_type": "code",
   "execution_count": 21,
   "id": "92cb4593",
   "metadata": {},
   "outputs": [],
   "source": [
    "df['rolling_support'] = df.supported.rolling(10, min_periods=1).sum()\n",
    "df['rolling_resistance'] = df.resisted.rolling(10, min_periods=1).sum()"
   ]
  },
  {
   "cell_type": "code",
   "execution_count": 22,
   "id": "f19a2e0f",
   "metadata": {},
   "outputs": [
    {
     "data": {
      "text/plain": [
       "0.11014445278093385"
      ]
     },
     "execution_count": 22,
     "metadata": {},
     "output_type": "execute_result"
    }
   ],
   "source": [
    "df['qty_traded'] = df.apply(lambda row: 1 if row.rolling_support == 1.0 else 0 , axis=1)\n",
    "df['qty_traded'] =df.apply(lambda row: -1 if row.rolling_resistance == 1.0 else row.qty_traded , axis=1)\n",
    "df['trading_price'] = df.qty_traded * -1.0 * df.Close\n",
    "df['total_qty'] = df['qty_traded'].cumsum()\n",
    "df['inflow'] = df['trading_price']\n",
    "df['mktval'] = df['total_qty'] * df['Close']\n",
    "df.at[len(df)-1, 'inflow'] = df.at[len(df)-2, 'mktval']\n",
    "xirr(df.Date, df.inflow)"
   ]
  },
  {
   "cell_type": "code",
   "execution_count": 23,
   "id": "378a43b0",
   "metadata": {},
   "outputs": [],
   "source": [
    "# Evaluate hammer trade"
   ]
  },
  {
   "cell_type": "code",
   "execution_count": 24,
   "id": "5cf9073c",
   "metadata": {},
   "outputs": [],
   "source": [
    "# We want to buy when there is hammer candlestick : \n",
    "# open - close is negative but open to close gap is <0.5 high to low gap "
   ]
  },
  {
   "cell_type": "code",
   "execution_count": 27,
   "id": "cc1aa778",
   "metadata": {},
   "outputs": [],
   "source": [
    "df['prevClose'] = df.Close.shift(1)\n",
    "df['prevOpen'] = df.OPEN.shift(1)\n",
    "df['prevHigh'] = df.HIGH.shift(1)\n",
    "df['prevLow'] = df.LOW.shift(1)"
   ]
  },
  {
   "cell_type": "code",
   "execution_count": 28,
   "id": "0a79a132",
   "metadata": {},
   "outputs": [],
   "source": [
    "def hammer_trade(row):\n",
    "    \n",
    "    if row.prevOpen > row.prevClose : \n",
    "        if (row.prevOpen - row.prevClose)/ (row.prevHigh - row.prevLow) < 0.25:\n",
    "            return 1\n",
    "    if row.prevClose > row.prevOpen : \n",
    "        if (row.prevClose - row.prevOpen)/ (row.prevHigh - row.prevLow) < 0.25:\n",
    "            return -1\n",
    "    else : \n",
    "        return 0"
   ]
  },
  {
   "cell_type": "code",
   "execution_count": 31,
   "id": "2f857238",
   "metadata": {},
   "outputs": [
    {
     "data": {
      "text/plain": [
       "0.1043419900765296"
      ]
     },
     "execution_count": 31,
     "metadata": {},
     "output_type": "execute_result"
    }
   ],
   "source": [
    "df['qty_traded'] = df.apply(lambda row: hammer_trade(row) , axis=1)\n",
    "df['trading_price'] = df.qty_traded * -1.0 * df.Close\n",
    "df['total_qty'] = df['qty_traded'].cumsum()\n",
    "df['inflow'] = df['trading_price']\n",
    "df['mktval'] = df['total_qty'] * df['Close']\n",
    "df.at[len(df)-1, 'inflow'] = df.at[len(df)-3, 'mktval']\n",
    "df['inflow'] = df.inflow.fillna(0)\n",
    "xirr(df.Date, df.inflow)"
   ]
  },
  {
   "cell_type": "code",
   "execution_count": 36,
   "id": "01f851f9",
   "metadata": {},
   "outputs": [],
   "source": [
    "## Momentum\n",
    "df['cur_idx'] = df.index"
   ]
  },
  {
   "cell_type": "code",
   "execution_count": 43,
   "id": "f8aea799",
   "metadata": {},
   "outputs": [],
   "source": [
    "def get_momentum(row):\n",
    "    if row.cur_idx < 120:\n",
    "        return 0\n",
    "    lag_30_price = float(df.iloc[[row.cur_idx - 30]]['prevClose'])\n",
    "    lag_90_price = float(df.iloc[[row.cur_idx - 60]]['prevClose'])\n",
    "    lag_120_price = float(df.iloc[[row.cur_idx - 120]]['prevClose'])\n",
    "    \n",
    "    cur_price = row.prevClose\n",
    "    \n",
    "    if((cur_price> lag_30_price) & (cur_price > lag_90_price) & (cur_price > lag_120_price)):\n",
    "        return 1\n",
    "    \n",
    "    if ((cur_price< lag_30_price) & (cur_price < lag_90_price) & (cur_price < lag_120_price)):\n",
    "        return -1\n",
    "    \n",
    "    \n",
    "    return 0\n"
   ]
  },
  {
   "cell_type": "code",
   "execution_count": 44,
   "id": "26bb1124",
   "metadata": {},
   "outputs": [],
   "source": [
    "df['momentum_ind'] = df.apply(lambda row: get_momentum(row), axis=1)"
   ]
  },
  {
   "cell_type": "code",
   "execution_count": 47,
   "id": "01153c2f",
   "metadata": {},
   "outputs": [
    {
     "name": "stderr",
     "output_type": "stream",
     "text": [
      "/var/folders/05/xdl3n7b519g2ls5rdzbb2tkm0000gn/T/ipykernel_1034/3136267993.py:2: SettingWithCopyWarning: \n",
      "A value is trying to be set on a copy of a slice from a DataFrame.\n",
      "Try using .loc[row_indexer,col_indexer] = value instead\n",
      "\n",
      "See the caveats in the documentation: https://pandas.pydata.org/pandas-docs/stable/user_guide/indexing.html#returning-a-view-versus-a-copy\n",
      "  df['qty_traded'] = df['momentum_ind']\n",
      "/var/folders/05/xdl3n7b519g2ls5rdzbb2tkm0000gn/T/ipykernel_1034/3136267993.py:3: SettingWithCopyWarning: \n",
      "A value is trying to be set on a copy of a slice from a DataFrame.\n",
      "Try using .loc[row_indexer,col_indexer] = value instead\n",
      "\n",
      "See the caveats in the documentation: https://pandas.pydata.org/pandas-docs/stable/user_guide/indexing.html#returning-a-view-versus-a-copy\n",
      "  df['trading_price'] = df.qty_traded * -1.0 * df.Close\n",
      "/var/folders/05/xdl3n7b519g2ls5rdzbb2tkm0000gn/T/ipykernel_1034/3136267993.py:4: SettingWithCopyWarning: \n",
      "A value is trying to be set on a copy of a slice from a DataFrame.\n",
      "Try using .loc[row_indexer,col_indexer] = value instead\n",
      "\n",
      "See the caveats in the documentation: https://pandas.pydata.org/pandas-docs/stable/user_guide/indexing.html#returning-a-view-versus-a-copy\n",
      "  df['total_qty'] = df['qty_traded'].cumsum()\n",
      "/var/folders/05/xdl3n7b519g2ls5rdzbb2tkm0000gn/T/ipykernel_1034/3136267993.py:5: SettingWithCopyWarning: \n",
      "A value is trying to be set on a copy of a slice from a DataFrame.\n",
      "Try using .loc[row_indexer,col_indexer] = value instead\n",
      "\n",
      "See the caveats in the documentation: https://pandas.pydata.org/pandas-docs/stable/user_guide/indexing.html#returning-a-view-versus-a-copy\n",
      "  df['inflow'] = df['trading_price']\n",
      "/var/folders/05/xdl3n7b519g2ls5rdzbb2tkm0000gn/T/ipykernel_1034/3136267993.py:6: SettingWithCopyWarning: \n",
      "A value is trying to be set on a copy of a slice from a DataFrame.\n",
      "Try using .loc[row_indexer,col_indexer] = value instead\n",
      "\n",
      "See the caveats in the documentation: https://pandas.pydata.org/pandas-docs/stable/user_guide/indexing.html#returning-a-view-versus-a-copy\n",
      "  df['mktval'] = df['total_qty'] * df['Close']\n"
     ]
    },
    {
     "data": {
      "text/plain": [
       "0.13345682206348888"
      ]
     },
     "execution_count": 47,
     "metadata": {},
     "output_type": "execute_result"
    }
   ],
   "source": [
    "df = df[df['Date']>'2016-01-01']\n",
    "df['qty_traded'] = df['momentum_ind']\n",
    "df['trading_price'] = df.qty_traded * -1.0 * df.Close\n",
    "df['total_qty'] = df['qty_traded'].cumsum()\n",
    "df['inflow'] = df['trading_price']\n",
    "df['mktval'] = df['total_qty'] * df['Close']\n",
    "df.at[len(df)-1, 'inflow'] = df.at[len(df)-2, 'mktval']\n",
    "xirr(df.Date, df.inflow)"
   ]
  },
  {
   "cell_type": "code",
   "execution_count": 48,
   "id": "bee76cb2",
   "metadata": {},
   "outputs": [],
   "source": [
    "# default model"
   ]
  },
  {
   "cell_type": "code",
   "execution_count": 49,
   "id": "28599ca9",
   "metadata": {},
   "outputs": [
    {
     "name": "stderr",
     "output_type": "stream",
     "text": [
      "/var/folders/05/xdl3n7b519g2ls5rdzbb2tkm0000gn/T/ipykernel_1034/2895903110.py:1: SettingWithCopyWarning: \n",
      "A value is trying to be set on a copy of a slice from a DataFrame.\n",
      "Try using .loc[row_indexer,col_indexer] = value instead\n",
      "\n",
      "See the caveats in the documentation: https://pandas.pydata.org/pandas-docs/stable/user_guide/indexing.html#returning-a-view-versus-a-copy\n",
      "  df['qty_traded'] = 1\n",
      "/var/folders/05/xdl3n7b519g2ls5rdzbb2tkm0000gn/T/ipykernel_1034/2895903110.py:2: SettingWithCopyWarning: \n",
      "A value is trying to be set on a copy of a slice from a DataFrame.\n",
      "Try using .loc[row_indexer,col_indexer] = value instead\n",
      "\n",
      "See the caveats in the documentation: https://pandas.pydata.org/pandas-docs/stable/user_guide/indexing.html#returning-a-view-versus-a-copy\n",
      "  df['trading_price'] = df.qty_traded * -1.0 * df.Close\n",
      "/var/folders/05/xdl3n7b519g2ls5rdzbb2tkm0000gn/T/ipykernel_1034/2895903110.py:3: SettingWithCopyWarning: \n",
      "A value is trying to be set on a copy of a slice from a DataFrame.\n",
      "Try using .loc[row_indexer,col_indexer] = value instead\n",
      "\n",
      "See the caveats in the documentation: https://pandas.pydata.org/pandas-docs/stable/user_guide/indexing.html#returning-a-view-versus-a-copy\n",
      "  df['total_qty'] = df['qty_traded'].cumsum()\n",
      "/var/folders/05/xdl3n7b519g2ls5rdzbb2tkm0000gn/T/ipykernel_1034/2895903110.py:4: SettingWithCopyWarning: \n",
      "A value is trying to be set on a copy of a slice from a DataFrame.\n",
      "Try using .loc[row_indexer,col_indexer] = value instead\n",
      "\n",
      "See the caveats in the documentation: https://pandas.pydata.org/pandas-docs/stable/user_guide/indexing.html#returning-a-view-versus-a-copy\n",
      "  df['inflow'] = df['trading_price']\n",
      "/var/folders/05/xdl3n7b519g2ls5rdzbb2tkm0000gn/T/ipykernel_1034/2895903110.py:5: SettingWithCopyWarning: \n",
      "A value is trying to be set on a copy of a slice from a DataFrame.\n",
      "Try using .loc[row_indexer,col_indexer] = value instead\n",
      "\n",
      "See the caveats in the documentation: https://pandas.pydata.org/pandas-docs/stable/user_guide/indexing.html#returning-a-view-versus-a-copy\n",
      "  df['mktval'] = df['total_qty'] * df['Close']\n"
     ]
    },
    {
     "data": {
      "text/plain": [
       "0.09191463726153357"
      ]
     },
     "execution_count": 49,
     "metadata": {},
     "output_type": "execute_result"
    }
   ],
   "source": [
    "df['qty_traded'] = 1\n",
    "df['trading_price'] = df.qty_traded * -1.0 * df.Close\n",
    "df['total_qty'] = df['qty_traded'].cumsum()\n",
    "df['inflow'] = df['trading_price']\n",
    "df['mktval'] = df['total_qty'] * df['Close']\n",
    "df.at[len(df)-1, 'inflow'] = df.at[len(df)-2, 'mktval']\n",
    "xirr(df.Date, df.inflow)"
   ]
  },
  {
   "cell_type": "code",
   "execution_count": null,
   "id": "12381ccc",
   "metadata": {},
   "outputs": [],
   "source": [
    "# todo : weighted \n",
    "\"\"\"\n",
    "Assume that the person has a daily income. whenever one has to devote some amount\n",
    "it would be based on the balance that is available \n",
    "\n",
    "When someone runs the model - they should get an indication of whether to invest/divest for the best value\n",
    "\n",
    "The default weights that I am thinking of are : \n",
    "\n",
    "Hammer : highest \n",
    "Avg deviation : Med High\n",
    "Regular : Med low\n",
    "Momentum : Low\n",
    "\n",
    "rolling xirr\n",
    "weights are assigned based on \n",
    "\"\"\"\n",
    "\n",
    "\"\"\"\n",
    "How to prove that something is valuable : show year on year profits \n",
    "Goal : \n",
    "Not a single year with losses \n",
    "Net positive on the index\n",
    "\n",
    "Introduce no sell mode\n",
    "\"\"\""
   ]
  }
 ],
 "metadata": {
  "kernelspec": {
   "display_name": "Python 3 (ipykernel)",
   "language": "python",
   "name": "python3"
  },
  "language_info": {
   "codemirror_mode": {
    "name": "ipython",
    "version": 3
   },
   "file_extension": ".py",
   "mimetype": "text/x-python",
   "name": "python",
   "nbconvert_exporter": "python",
   "pygments_lexer": "ipython3",
   "version": "3.10.10"
  }
 },
 "nbformat": 4,
 "nbformat_minor": 5
}
