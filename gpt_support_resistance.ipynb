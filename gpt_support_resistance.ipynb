{
 "cells": [
  {
   "cell_type": "code",
   "execution_count": null,
   "id": "0456c87f",
   "metadata": {},
   "outputs": [],
   "source": [
    "import pandas as pd\n",
    "import numpy as np\n",
    "import matplotlib.pyplot as plt\n",
    "\n",
    "# Load the price data into a dataframe\n",
    "df = pd.read_csv('price_data.csv')\n",
    "\n",
    "# Calculate rolling minimum and maximum values\n",
    "window_size = 10 # adjust this value to change the sensitivity of the detection\n",
    "df['rolling_min'] = df['price'].rolling(window=window_size, center=True).min()\n",
    "df['rolling_max'] = df['price'].rolling(window=window_size, center=True).max()\n",
    "\n",
    "# Find local minima and maxima values\n",
    "local_minima = (df['rolling_min'] == df['price']) & (df['rolling_min'] != df['rolling_min'].shift(1))\n",
    "local_maxima = (df['rolling_max'] == df['price']) & (df['rolling_max'] != df['rolling_max'].shift(1))\n",
    "\n",
    "# Plot the price data and the support and resistance levels\n",
    "plt.plot(df['price'])\n",
    "plt.scatter(df.index[local_minima], df['price'][local_minima], color='green')\n",
    "plt.scatter(df.index[local_maxima], df['price'][local_maxima], color='red')\n",
    "plt.show()\n",
    "\n",
    "# Print the support and resistance levels\n",
    "support = df[local_minima]['price']\n",
    "resistance = df[local_maxima]['price']\n",
    "print(\"Support levels:\", support.values)\n",
    "print(\"Resistance levels:\", resistance.values)\n"
   ]
  },
  {
   "cell_type": "code",
   "execution_count": 7,
   "id": "9e47fe41",
   "metadata": {},
   "outputs": [
    {
     "data": {
      "image/png": "[encoded data removed]",
      "text/plain": [
       "<Figure size 640x480 with 1 Axes>"
      ]
     },
     "metadata": {},
     "output_type": "display_data"
    },
    {
     "name": "stdout",
     "output_type": "stream",
     "text": [
      "Support levels: [7288.53459199986, 6228.5962113068235, 1764.982808831658, 4435.959450320865, 3258.5123086369913, 519.8941114709869, -8465.945699687312, -7003.8428558058185, -142.51860711704285, -184895.7999999974]\n",
      "Resistance levels: [5938.844650432047, 5396.401480111009, 45149.85325177967, 40074.92073710939]\n"
     ]
    }
   ],
   "source": [
    "import pandas as pd\n",
    "import numpy as np\n",
    "import matplotlib.pyplot as plt\n",
    "from sklearn.linear_model import LinearRegression\n",
    "\n",
    "# Load the price data into a dataframe\n",
    "df = pd.read_csv('nifty.csv')\n",
    "df['Date'] = df['HistoricalDate']\n",
    "df = df.sort_values('Date')\n",
    "df  = df.reset_index()\n",
    "df['price'] = df.CLOSE\n",
    "\n",
    "# Calculate rolling minimum and maximum values\n",
    "window_size = 10 # adjust this value to change the sensitivity of the detection\n",
    "df['rolling_min'] = df['price'].rolling(window=window_size, center=True).min()\n",
    "df['rolling_max'] = df['price'].rolling(window=window_size, center=True).max()\n",
    "\n",
    "# Find local minima and maxima values\n",
    "local_minima = (df['rolling_min'] == df['price']) & (df['rolling_min'] != df['rolling_min'].shift(1))\n",
    "local_maxima = (df['rolling_max'] == df['price']) & (df['rolling_max'] != df['rolling_max'].shift(1))\n",
    "\n",
    "# Calculate the support and resistance levels using linear regression\n",
    "support = []\n",
    "resistance = []\n",
    "for i in range(len(local_minima)):\n",
    "    if local_minima[i]:\n",
    "        # Fit a linear regression line to the data from the current local minimum to the next local maximum\n",
    "        try:\n",
    "            start_index = i\n",
    "            end_index = (local_maxima[start_index:]).argmax() + start_index\n",
    "            if start_index == end_index:\n",
    "                continue\n",
    "            x = np.array(df.index[start_index:end_index]).reshape(-1, 1)\n",
    "            y = np.array(df['price'][start_index:end_index]).reshape(-1, 1)\n",
    "            model = LinearRegression().fit(x, y)\n",
    "            # Append the y-intercept of the regression line to the support levels list\n",
    "            support.append(model.intercept_[0])\n",
    "        except:\n",
    "            import ipdb\n",
    "            ipdb.set_trace()\n",
    "    elif local_maxima[i]:\n",
    "        # Fit a linear regression line to the data from the current local maximum to the next local minimum\n",
    "        start_index = i\n",
    "        end_index = (local_minima[start_index:]).argmax() + start_index\n",
    "        if start_index == end_index:\n",
    "            continue\n",
    "        x = np.array(df.index[start_index:end_index]).reshape(-1, 1)\n",
    "        y = np.array(df['price'][start_index:end_index]).reshape(-1, 1)\n",
    "        model = LinearRegression().fit(x, y)\n",
    "        # Append the y-intercept of the regression line to the resistance levels list\n",
    "        resistance.append(model.intercept_[0])\n",
    "\n",
    "# Plot the price data and the support and resistance levels\n",
    "plt.plot(df['price'])\n",
    "for level in support:\n",
    "    plt.axhline(y=level, color='green')\n",
    "for level in resistance:\n",
    "    plt.axhline(y=level, color='red')\n",
    "plt.show()\n",
    "\n",
    "# Print the support and resistance levels\n",
    "print(\"Support levels:\", support)\n",
    "print(\"Resistance levels:\", resistance)\n"
   ]
  },
  {
   "cell_type": "code",
   "execution_count": 8,
   "id": "c74789ff",
   "metadata": {},
   "outputs": [
    {
     "data": {
      "text/plain": [
       "0     8295.5\n",
       "1     8399.9\n",
       "2     8383.3\n",
       "3     8133.9\n",
       "4     8112.3\n",
       "5     8248.8\n",
       "6     8288.9\n",
       "7     8327.0\n",
       "8     8305.3\n",
       "9     8286.4\n",
       "10    8486.2\n",
       "11    8512.0\n",
       "12    8548.3\n",
       "13    8673.1\n",
       "14    8705.0\n",
       "15    8734.6\n",
       "16    8811.6\n",
       "17    8881.0\n",
       "18    8893.3\n",
       "19    8924.3\n",
       "20    8794.9\n",
       "21    8798.2\n",
       "22    8751.3\n",
       "23    8713.9\n",
       "24    8688.4\n",
       "25    8637.7\n",
       "26    8500.4\n",
       "27    8547.7\n",
       "28    8623.8\n",
       "29    8714.7\n",
       "Name: price, dtype: float64"
      ]
     },
     "execution_count": 8,
     "metadata": {},
     "output_type": "execute_result"
    }
   ],
   "source": [
    "df.price.head(30)"
   ]
  },
  {
   "cell_type": "code",
   "execution_count": null,
   "id": "e12606a5",
   "metadata": {},
   "outputs": [],
   "source": []
  }
 ],
 "metadata": {
  "kernelspec": {
   "display_name": "Python 3 (ipykernel)",
   "language": "python",
   "name": "python3"
  },
  "language_info": {
   "codemirror_mode": {
    "name": "ipython",
    "version": 3
   },
   "file_extension": ".py",
   "mimetype": "text/x-python",
   "name": "python",
   "nbconvert_exporter": "python",
   "pygments_lexer": "ipython3",
   "version": "3.10.10"
  }
 },
 "nbformat": 4,
 "nbformat_minor": 5
}
